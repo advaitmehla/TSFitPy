{
 "cells": [
  {
   "cell_type": "code",
   "execution_count": 1,
   "metadata": {},
   "outputs": [],
   "source": [
    "from __future__ import annotations\n",
    "try:\n",
    "    from scripts_for_plotting import *\n",
    "except ModuleNotFoundError:\n",
    "    import sys\n",
    "    sys.path.append('../')\n",
    "    from scripts_for_plotting import *\n",
    "import scienceplots\n",
    "plt.style.use(['science', 'notebook'])"
   ]
  },
  {
   "cell_type": "code",
   "execution_count": 70,
   "metadata": {},
   "outputs": [
    {
     "name": "stderr",
     "output_type": "stream",
     "text": [
      "/media/advait/DATA/research/rcb-project/TSFitPy/plotting_tools/scripts_for_plotting.py:109: FutureWarning: errors='ignore' is deprecated and will raise in a future version. Use to_numeric without passing `errors` and catch exceptions explicitly instead\n",
      "  output_file_df = output_file_df.apply(pd.to_numeric, errors='ignore')\n"
     ]
    }
   ],
   "source": [
    "outpath = \"/media/advait/DATA/research/rcb-project/TSFitPy/output_files/hd137613/\"\n",
    "# find the newest folder in the directory\n",
    "import glob\n",
    "newest_folder = max(glob.glob(outpath + \"/*\"), key=os.path.getctime)\n",
    "config_dict = load_output_data(newest_folder)\n",
    "output_results_pd_df = config_dict[\"output_file_df\"]\n",
    "output_trimmed = (output_results_pd_df[output_results_pd_df[\"chi_squared\"] <700])\n",
    "# output_trimmed = output_trimmed[output_trimmed[\"wave_center\"] < 22707.50\t]"
   ]
  },
  {
   "cell_type": "code",
   "execution_count": 71,
   "metadata": {},
   "outputs": [
    {
     "data": {
      "text/html": [
       "<div>\n",
       "<style scoped>\n",
       "    .dataframe tbody tr th:only-of-type {\n",
       "        vertical-align: middle;\n",
       "    }\n",
       "\n",
       "    .dataframe tbody tr th {\n",
       "        vertical-align: top;\n",
       "    }\n",
       "\n",
       "    .dataframe thead th {\n",
       "        text-align: right;\n",
       "    }\n",
       "</style>\n",
       "<table border=\"1\" class=\"dataframe\">\n",
       "  <thead>\n",
       "    <tr style=\"text-align: right;\">\n",
       "      <th></th>\n",
       "      <th>specname</th>\n",
       "      <th>wave_center</th>\n",
       "      <th>wave_start</th>\n",
       "      <th>wave_end</th>\n",
       "      <th>Doppler_Shift_add_to_RV</th>\n",
       "      <th>Fe_H</th>\n",
       "      <th>S_Fe</th>\n",
       "      <th>Microturb</th>\n",
       "      <th>Macroturb</th>\n",
       "      <th>rotation</th>\n",
       "      <th>chi_squared</th>\n",
       "      <th>ew</th>\n",
       "      <th>flag_error</th>\n",
       "      <th>flag_warning</th>\n",
       "    </tr>\n",
       "  </thead>\n",
       "  <tbody>\n",
       "    <tr>\n",
       "      <th>0</th>\n",
       "      <td>HD137613.txt</td>\n",
       "      <td>22575.25</td>\n",
       "      <td>22574.0</td>\n",
       "      <td>22576.5</td>\n",
       "      <td>-2.5000</td>\n",
       "      <td>0.0</td>\n",
       "      <td>-0.2322</td>\n",
       "      <td>6.5</td>\n",
       "      <td>0.0</td>\n",
       "      <td>0.0</td>\n",
       "      <td>14.682263</td>\n",
       "      <td>455.5543</td>\n",
       "      <td>0</td>\n",
       "      <td>10000000</td>\n",
       "    </tr>\n",
       "    <tr>\n",
       "      <th>1</th>\n",
       "      <td>HD137613.txt</td>\n",
       "      <td>22645.00</td>\n",
       "      <td>22643.0</td>\n",
       "      <td>22647.0</td>\n",
       "      <td>-2.0246</td>\n",
       "      <td>0.0</td>\n",
       "      <td>-0.0913</td>\n",
       "      <td>6.5</td>\n",
       "      <td>0.0</td>\n",
       "      <td>0.0</td>\n",
       "      <td>11.021552</td>\n",
       "      <td>441.8116</td>\n",
       "      <td>0</td>\n",
       "      <td>0</td>\n",
       "    </tr>\n",
       "    <tr>\n",
       "      <th>2</th>\n",
       "      <td>HD137613.txt</td>\n",
       "      <td>22655.50</td>\n",
       "      <td>22654.5</td>\n",
       "      <td>22656.5</td>\n",
       "      <td>-2.4844</td>\n",
       "      <td>0.0</td>\n",
       "      <td>-0.2338</td>\n",
       "      <td>6.5</td>\n",
       "      <td>0.0</td>\n",
       "      <td>0.0</td>\n",
       "      <td>4.766681</td>\n",
       "      <td>156.7956</td>\n",
       "      <td>0</td>\n",
       "      <td>0</td>\n",
       "    </tr>\n",
       "    <tr>\n",
       "      <th>3</th>\n",
       "      <td>HD137613.txt</td>\n",
       "      <td>22707.50</td>\n",
       "      <td>22706.0</td>\n",
       "      <td>22709.0</td>\n",
       "      <td>-1.8958</td>\n",
       "      <td>0.0</td>\n",
       "      <td>0.0085</td>\n",
       "      <td>6.5</td>\n",
       "      <td>0.0</td>\n",
       "      <td>0.0</td>\n",
       "      <td>89.376908</td>\n",
       "      <td>639.1041</td>\n",
       "      <td>0</td>\n",
       "      <td>0</td>\n",
       "    </tr>\n",
       "    <tr>\n",
       "      <th>4</th>\n",
       "      <td>HD137613.txt</td>\n",
       "      <td>22794.75</td>\n",
       "      <td>22792.5</td>\n",
       "      <td>22797.0</td>\n",
       "      <td>-0.4502</td>\n",
       "      <td>0.0</td>\n",
       "      <td>0.3092</td>\n",
       "      <td>6.5</td>\n",
       "      <td>0.0</td>\n",
       "      <td>0.0</td>\n",
       "      <td>11.573356</td>\n",
       "      <td>789.1094</td>\n",
       "      <td>0</td>\n",
       "      <td>0</td>\n",
       "    </tr>\n",
       "  </tbody>\n",
       "</table>\n",
       "</div>"
      ],
      "text/plain": [
       "       specname  wave_center  wave_start  wave_end  Doppler_Shift_add_to_RV  \\\n",
       "0  HD137613.txt     22575.25     22574.0   22576.5                  -2.5000   \n",
       "1  HD137613.txt     22645.00     22643.0   22647.0                  -2.0246   \n",
       "2  HD137613.txt     22655.50     22654.5   22656.5                  -2.4844   \n",
       "3  HD137613.txt     22707.50     22706.0   22709.0                  -1.8958   \n",
       "4  HD137613.txt     22794.75     22792.5   22797.0                  -0.4502   \n",
       "\n",
       "   Fe_H    S_Fe  Microturb  Macroturb  rotation  chi_squared        ew  \\\n",
       "0   0.0 -0.2322        6.5        0.0       0.0    14.682263  455.5543   \n",
       "1   0.0 -0.0913        6.5        0.0       0.0    11.021552  441.8116   \n",
       "2   0.0 -0.2338        6.5        0.0       0.0     4.766681  156.7956   \n",
       "3   0.0  0.0085        6.5        0.0       0.0    89.376908  639.1041   \n",
       "4   0.0  0.3092        6.5        0.0       0.0    11.573356  789.1094   \n",
       "\n",
       "   flag_error  flag_warning  \n",
       "0           0      10000000  \n",
       "1           0             0  \n",
       "2           0             0  \n",
       "3           0             0  \n",
       "4           0             0  "
      ]
     },
     "execution_count": 71,
     "metadata": {},
     "output_type": "execute_result"
    }
   ],
   "source": [
    "output_trimmed"
   ]
  },
  {
   "cell_type": "code",
   "execution_count": 72,
   "metadata": {},
   "outputs": [],
   "source": [
    "X = \"S\""
   ]
  },
  {
   "cell_type": "code",
   "execution_count": 73,
   "metadata": {},
   "outputs": [
    {
     "data": {
      "text/plain": [
       "np.float64(-0.05)"
      ]
     },
     "execution_count": 73,
     "metadata": {},
     "output_type": "execute_result"
    }
   ],
   "source": [
    "np.mean(output_trimmed[f\"{X}_Fe\"]).round(2)"
   ]
  },
  {
   "cell_type": "code",
   "execution_count": 74,
   "metadata": {},
   "outputs": [
    {
     "data": {
      "text/plain": [
       "np.float64(7.11)"
      ]
     },
     "execution_count": 74,
     "metadata": {},
     "output_type": "execute_result"
    }
   ],
   "source": [
    "(solar_abundances[X] + np.mean(output_trimmed[f\"{X}_Fe\"])).round(2)"
   ]
  },
  {
   "cell_type": "code",
   "execution_count": 39,
   "metadata": {},
   "outputs": [
    {
     "data": {
      "text/plain": [
       "7.9799999999999995"
      ]
     },
     "execution_count": 39,
     "metadata": {},
     "output_type": "execute_result"
    }
   ],
   "source": [
    "solar_abundances['Mg']+0.43"
   ]
  },
  {
   "cell_type": "code",
   "execution_count": 2,
   "metadata": {},
   "outputs": [],
   "source": [
    "multwavs = [22587.95,22593.85,22613.8,22634,22659.4,22680.5,22691.75,22703,22713.25,22773.25,22783.3,22789.35,22915.25,23028.35,23067.25,23655.35,\n",
    "            22920.00, 23292.60]\n"
   ]
  },
  {
   "cell_type": "code",
   "execution_count": 10,
   "metadata": {},
   "outputs": [
    {
     "name": "stderr",
     "output_type": "stream",
     "text": [
      "/media/advait/DATA/research/rcb-project/TSFitPy/plotting_tools/scripts_for_plotting.py:109: FutureWarning: errors='ignore' is deprecated and will raise in a future version. Use to_numeric without passing `errors` and catch exceptions explicitly instead\n",
      "  output_file_df = output_file_df.apply(pd.to_numeric, errors='ignore')\n"
     ]
    }
   ],
   "source": [
    "# outpath = \"/media/advait/DATA/research/rcb-project/TSFitPy/output_files/wise222/Oct-13-2024-22-42-15_0.9770073685963133_LTE_O_1D\"\n",
    "outpath = \"/media/advait/DATA/research/rcb-project/TSFitPy/output_files/hd137613/Oct-17-2024-15-32-28_0.11907191236548054_LTE_N_1D\"\n",
    "config_dict = load_output_data(outpath)\n",
    "output_results_pd_df = config_dict[\"output_file_df\"]\n",
    "output_trimmed_vmic = (output_results_pd_df[output_results_pd_df[\"chi_squared\"] < 20])\n",
    "output_trimmed_vmic = output_trimmed_vmic.reset_index(drop=True)\n",
    "output_trimmed_vmic = output_trimmed_vmic[~output_trimmed_vmic[\"wave_center\"].isin(multwavs)]"
   ]
  },
  {
   "cell_type": "code",
   "execution_count": 19,
   "metadata": {},
   "outputs": [
    {
     "data": {
      "text/plain": [
       "array([5.5, 6. , 6.5, 7. , 7.5])"
      ]
     },
     "execution_count": 19,
     "metadata": {},
     "output_type": "execute_result"
    }
   ],
   "source": [
    "vmics"
   ]
  },
  {
   "cell_type": "code",
   "execution_count": 11,
   "metadata": {},
   "outputs": [
    {
     "name": "stdout",
     "output_type": "stream",
     "text": [
      "5.5 9.571595114115809e-05 24\n",
      "6.0 4.9155603222382126e-05 24\n",
      "6.5 1.5182313271136804e-05 24\n",
      "7.0 -2.838016534704059e-05 23\n",
      "7.5 -5.1485438238269505e-05 23\n"
     ]
    },
    {
     "data": {
      "image/png": "[encoded data removed]",
      "text/plain": [
       "<Figure size 800x600 with 1 Axes>"
      ]
     },
     "metadata": {},
     "output_type": "display_data"
    }
   ],
   "source": [
    "vmics = np.unique(output_trimmed_vmic[\"Microturb\"].values)\n",
    "cs = ['r', 'g', 'b', 'c', 'm', 'y']\n",
    "markers = ['o', 's', 'D', '^', 'v', 'p']\n",
    "for i in range(len(vmics)):\n",
    "    vmic = vmics[i]\n",
    "    output_vmic = output_trimmed_vmic[output_trimmed_vmic[\"Microturb\"] == vmic]\n",
    "    ews = np.array(output_vmic[\"ew\"])\n",
    "    nfes = np.array(output_vmic[\"N_Fe\"])\n",
    "    mean_nfe = np.mean(nfes)\n",
    "    std_nfe = np.std(nfes)\n",
    "    choose_idxs = np.where(np.abs(nfes - mean_nfe) < 3*std_nfe)\n",
    "    choose_idxs = choose_idxs[0]\n",
    "    ews = ews[choose_idxs]\n",
    "    nfes = nfes[choose_idxs]\n",
    "    corr = np.corrcoef(ews,nfes)[0,1]\n",
    "    corr = corr.round(2)\n",
    "    plt.scatter(ews,nfes, c=cs[i], marker = markers[i], label = f\"vmic = {vmics[i]}, corr = {corr}\")\n",
    "    m,c = np.polyfit(ews,nfes,1)\n",
    "    x = np.linspace(100, 600, 100)\n",
    "    y = m*x + c\n",
    "    print(vmics[i], m, len(nfes))\n",
    "    plt.plot(x,y, c = cs[i])\n",
    "    plt.legend(fontsize = 8)\n",
    "    plt.ylabel(\"[N/Fe]\")\n",
    "    plt.xlabel(\"EW\")"
   ]
  },
  {
   "cell_type": "code",
   "execution_count": 22,
   "metadata": {},
   "outputs": [
    {
     "name": "stderr",
     "output_type": "stream",
     "text": [
      "/media/advait/DATA/research/rcb-project/TSFitPy/plotting_tools/scripts_for_plotting.py:109: FutureWarning: errors='ignore' is deprecated and will raise in a future version. Use to_numeric without passing `errors` and catch exceptions explicitly instead\n",
      "  output_file_df = output_file_df.apply(pd.to_numeric, errors='ignore')\n"
     ]
    }
   ],
   "source": [
    "# outpath = \"/media/advait/DATA/research/rcb-project/TSFitPy/output_files/wise222/Oct-13-2024-22-42-15_0.9770073685963133_LTE_O_1D\"\n",
    "outpath = \"/media/advait/DATA/research/rcb-project/TSFitPy/output_files/hd137613/Oct-24-2024-13-07-04_0.05164950234595578_LTE_N_1D\"\n",
    "config_dict = load_output_data(outpath)\n",
    "output_results_pd_df = config_dict[\"output_file_df\"]\n",
    "output_trimmed_vmic = (output_results_pd_df[output_results_pd_df[\"chi_squared\"] < 20])\n",
    "output_trimmed_vmic = output_trimmed_vmic.reset_index(drop=True)\n",
    "output_trimmed_vmic = output_trimmed_vmic[~output_trimmed_vmic[\"wave_center\"].isin(multwavs)]"
   ]
  },
  {
   "cell_type": "code",
   "execution_count": 48,
   "metadata": {},
   "outputs": [
    {
     "name": "stdout",
     "output_type": "stream",
     "text": [
      "5.0 0.0001312040043518841 24\n",
      "6.5 6.78898813334831e-06 24\n",
      "8.0 -0.0001560616174450083 22\n"
     ]
    },
    {
     "data": {
      "image/png": "[encoded data removed]",
      "text/plain": [
       "<Figure size 800x600 with 1 Axes>"
      ]
     },
     "metadata": {},
     "output_type": "display_data"
    }
   ],
   "source": [
    "\n",
    "cs = ['r', 'k', 'b']\n",
    "markers = ['.', 'x', '.']\n",
    "plot_vmics = [5., 6.5, 8.0]\n",
    "ls = ['-.', '-', '-.']\n",
    "i = 0 \n",
    "for vmic in plot_vmics:\n",
    "\n",
    "    output_vmic = output_trimmed_vmic[output_trimmed_vmic[\"Microturb\"] == vmic]\n",
    "    ews = np.array(output_vmic[\"ew\"])\n",
    "    nfes = np.array(output_vmic[\"N_Fe\"])\n",
    "    mean_nfe = np.mean(nfes)\n",
    "    std_nfe = np.std(nfes)\n",
    "    choose_idxs = np.where(np.abs(nfes - mean_nfe) < 2*std_nfe)\n",
    "    choose_idxs = choose_idxs[0]\n",
    "    ews = ews[choose_idxs]\n",
    "    nfes = nfes[choose_idxs]\n",
    "    corr = np.corrcoef(ews,nfes)[0,1]\n",
    "    corr = corr.round(2)\n",
    "    full_label = f\"vmic = {vmic}, corr = {corr}\"\n",
    "    plt.scatter(ews[::1],nfes[::1], c=cs[i], marker = markers[i])\n",
    "    m,c = np.polyfit(ews,nfes,1)\n",
    "    x = np.linspace(150, 550, 100)\n",
    "    y = m*x + c\n",
    "    print(vmic, m, len(nfes))\n",
    "    plt.plot(x,y, c = cs[i], ls = ls[i], label = rf\"$\\xi$ = {vmic} km/s\")\n",
    "    plt.legend(fontsize = 10)\n",
    "    plt.ylabel(\"[N]\")\n",
    "    plt.xlabel(\"Equivalent Width\")\n",
    "    plt.xlim(140,560)\n",
    "\n",
    "    i+=1"
   ]
  },
  {
   "cell_type": "code",
   "execution_count": 2,
   "metadata": {},
   "outputs": [
    {
     "name": "stderr",
     "output_type": "stream",
     "text": [
      "/media/advait/DATA/research/rcb-project/TSFitPy/plotting_tools/scripts_for_plotting.py:109: FutureWarning: errors='ignore' is deprecated and will raise in a future version. Use to_numeric without passing `errors` and catch exceptions explicitly instead\n",
      "  output_file_df = output_file_df.apply(pd.to_numeric, errors='ignore')\n"
     ]
    },
    {
     "ename": "KeyError",
     "evalue": "'C_Fe'",
     "output_type": "error",
     "traceback": [
      "\u001b[0;31m---------------------------------------------------------------------------\u001b[0m",
      "\u001b[0;31mKeyError\u001b[0m                                  Traceback (most recent call last)",
      "File \u001b[0;32m~/miniconda3/envs/astro/lib/python3.12/site-packages/pandas/core/indexes/base.py:3805\u001b[0m, in \u001b[0;36mIndex.get_loc\u001b[0;34m(self, key)\u001b[0m\n\u001b[1;32m   3804\u001b[0m \u001b[38;5;28;01mtry\u001b[39;00m:\n\u001b[0;32m-> 3805\u001b[0m     \u001b[38;5;28;01mreturn\u001b[39;00m \u001b[38;5;28mself\u001b[39m\u001b[38;5;241m.\u001b[39m_engine\u001b[38;5;241m.\u001b[39mget_loc(casted_key)\n\u001b[1;32m   3806\u001b[0m \u001b[38;5;28;01mexcept\u001b[39;00m \u001b[38;5;167;01mKeyError\u001b[39;00m \u001b[38;5;28;01mas\u001b[39;00m err:\n",
      "File \u001b[0;32mindex.pyx:167\u001b[0m, in \u001b[0;36mpandas._libs.index.IndexEngine.get_loc\u001b[0;34m()\u001b[0m\n",
      "File \u001b[0;32mindex.pyx:196\u001b[0m, in \u001b[0;36mpandas._libs.index.IndexEngine.get_loc\u001b[0;34m()\u001b[0m\n",
      "File \u001b[0;32mpandas/_libs/hashtable_class_helper.pxi:7081\u001b[0m, in \u001b[0;36mpandas._libs.hashtable.PyObjectHashTable.get_item\u001b[0;34m()\u001b[0m\n",
      "File \u001b[0;32mpandas/_libs/hashtable_class_helper.pxi:7089\u001b[0m, in \u001b[0;36mpandas._libs.hashtable.PyObjectHashTable.get_item\u001b[0;34m()\u001b[0m\n",
      "\u001b[0;31mKeyError\u001b[0m: 'C_Fe'",
      "\nThe above exception was the direct cause of the following exception:\n",
      "\u001b[0;31mKeyError\u001b[0m                                  Traceback (most recent call last)",
      "Cell \u001b[0;32mIn[2], line 8\u001b[0m\n\u001b[1;32m      6\u001b[0m output_results_pd_df \u001b[38;5;241m=\u001b[39m config_dict[\u001b[38;5;124m\"\u001b[39m\u001b[38;5;124moutput_file_df\u001b[39m\u001b[38;5;124m\"\u001b[39m]\n\u001b[1;32m      7\u001b[0m output_trimmed \u001b[38;5;241m=\u001b[39m (output_results_pd_df[output_results_pd_df[\u001b[38;5;124m\"\u001b[39m\u001b[38;5;124mchi_squared\u001b[39m\u001b[38;5;124m\"\u001b[39m] \u001b[38;5;241m<\u001b[39m\u001b[38;5;241m25\u001b[39m])\n\u001b[0;32m----> 8\u001b[0m output_trimmed \u001b[38;5;241m=\u001b[39m output_trimmed[output_trimmed[\u001b[38;5;124m\"\u001b[39m\u001b[38;5;124mC_Fe\u001b[39m\u001b[38;5;124m\"\u001b[39m] \u001b[38;5;241m>\u001b[39m \u001b[38;5;241m0\u001b[39m]\n",
      "File \u001b[0;32m~/miniconda3/envs/astro/lib/python3.12/site-packages/pandas/core/frame.py:4102\u001b[0m, in \u001b[0;36mDataFrame.__getitem__\u001b[0;34m(self, key)\u001b[0m\n\u001b[1;32m   4100\u001b[0m \u001b[38;5;28;01mif\u001b[39;00m \u001b[38;5;28mself\u001b[39m\u001b[38;5;241m.\u001b[39mcolumns\u001b[38;5;241m.\u001b[39mnlevels \u001b[38;5;241m>\u001b[39m \u001b[38;5;241m1\u001b[39m:\n\u001b[1;32m   4101\u001b[0m     \u001b[38;5;28;01mreturn\u001b[39;00m \u001b[38;5;28mself\u001b[39m\u001b[38;5;241m.\u001b[39m_getitem_multilevel(key)\n\u001b[0;32m-> 4102\u001b[0m indexer \u001b[38;5;241m=\u001b[39m \u001b[38;5;28mself\u001b[39m\u001b[38;5;241m.\u001b[39mcolumns\u001b[38;5;241m.\u001b[39mget_loc(key)\n\u001b[1;32m   4103\u001b[0m \u001b[38;5;28;01mif\u001b[39;00m is_integer(indexer):\n\u001b[1;32m   4104\u001b[0m     indexer \u001b[38;5;241m=\u001b[39m [indexer]\n",
      "File \u001b[0;32m~/miniconda3/envs/astro/lib/python3.12/site-packages/pandas/core/indexes/base.py:3812\u001b[0m, in \u001b[0;36mIndex.get_loc\u001b[0;34m(self, key)\u001b[0m\n\u001b[1;32m   3807\u001b[0m     \u001b[38;5;28;01mif\u001b[39;00m \u001b[38;5;28misinstance\u001b[39m(casted_key, \u001b[38;5;28mslice\u001b[39m) \u001b[38;5;129;01mor\u001b[39;00m (\n\u001b[1;32m   3808\u001b[0m         \u001b[38;5;28misinstance\u001b[39m(casted_key, abc\u001b[38;5;241m.\u001b[39mIterable)\n\u001b[1;32m   3809\u001b[0m         \u001b[38;5;129;01mand\u001b[39;00m \u001b[38;5;28many\u001b[39m(\u001b[38;5;28misinstance\u001b[39m(x, \u001b[38;5;28mslice\u001b[39m) \u001b[38;5;28;01mfor\u001b[39;00m x \u001b[38;5;129;01min\u001b[39;00m casted_key)\n\u001b[1;32m   3810\u001b[0m     ):\n\u001b[1;32m   3811\u001b[0m         \u001b[38;5;28;01mraise\u001b[39;00m InvalidIndexError(key)\n\u001b[0;32m-> 3812\u001b[0m     \u001b[38;5;28;01mraise\u001b[39;00m \u001b[38;5;167;01mKeyError\u001b[39;00m(key) \u001b[38;5;28;01mfrom\u001b[39;00m \u001b[38;5;21;01merr\u001b[39;00m\n\u001b[1;32m   3813\u001b[0m \u001b[38;5;28;01mexcept\u001b[39;00m \u001b[38;5;167;01mTypeError\u001b[39;00m:\n\u001b[1;32m   3814\u001b[0m     \u001b[38;5;66;03m# If we have a listlike key, _check_indexing_error will raise\u001b[39;00m\n\u001b[1;32m   3815\u001b[0m     \u001b[38;5;66;03m#  InvalidIndexError. Otherwise we fall through and re-raise\u001b[39;00m\n\u001b[1;32m   3816\u001b[0m     \u001b[38;5;66;03m#  the TypeError.\u001b[39;00m\n\u001b[1;32m   3817\u001b[0m     \u001b[38;5;28mself\u001b[39m\u001b[38;5;241m.\u001b[39m_check_indexing_error(key)\n",
      "\u001b[0;31mKeyError\u001b[0m: 'C_Fe'"
     ]
    }
   ],
   "source": [
    "outpath = \"/media/advait/DATA/research/rcb-project/TSFitPy/output_files/hd137613/\"\n",
    "# find the newest folder in the directory\n",
    "import glob\n",
    "newest_folder = max(glob.glob(outpath + \"/*\"), key=os.path.getctime)\n",
    "config_dict = load_output_data(newest_folder)\n",
    "output_results_pd_df = config_dict[\"output_file_df\"]\n",
    "output_trimmed = (output_results_pd_df[output_results_pd_df[\"chi_squared\"] <25])\n",
    "output_trimmed = output_trimmed[output_trimmed[\"C_Fe\"] > 0]"
   ]
  },
  {
   "cell_type": "code",
   "execution_count": 5,
   "metadata": {},
   "outputs": [
    {
     "name": "stderr",
     "output_type": "stream",
     "text": [
      "/media/advait/DATA/research/rcb-project/TSFitPy/plotting_tools/scripts_for_plotting.py:109: FutureWarning: errors='ignore' is deprecated and will raise in a future version. Use to_numeric without passing `errors` and catch exceptions explicitly instead\n",
      "  output_file_df = output_file_df.apply(pd.to_numeric, errors='ignore')\n"
     ]
    }
   ],
   "source": [
    "config_dict = load_output_data(\"/media/advait/DATA/research/rcb-project/TSFitPy/output_files/hd137613/Nov-23-2024-03-41-53_0.7304645135564064_LTE_C_1D\")\n",
    "output_results_pd_df = config_dict[\"output_file_df\"]\n",
    "output_trimmed = (output_results_pd_df[output_results_pd_df[\"chi_squared\"] <25])\n",
    "output_trimmed = output_trimmed[output_trimmed[\"C_Fe\"] > 0]"
   ]
  },
  {
   "cell_type": "code",
   "execution_count": 6,
   "metadata": {},
   "outputs": [
    {
     "data": {
      "text/html": [
       "<div>\n",
       "<style scoped>\n",
       "    .dataframe tbody tr th:only-of-type {\n",
       "        vertical-align: middle;\n",
       "    }\n",
       "\n",
       "    .dataframe tbody tr th {\n",
       "        vertical-align: top;\n",
       "    }\n",
       "\n",
       "    .dataframe thead th {\n",
       "        text-align: right;\n",
       "    }\n",
       "</style>\n",
       "<table border=\"1\" class=\"dataframe\">\n",
       "  <thead>\n",
       "    <tr style=\"text-align: right;\">\n",
       "      <th></th>\n",
       "      <th>specname</th>\n",
       "      <th>wave_center</th>\n",
       "      <th>wave_start</th>\n",
       "      <th>wave_end</th>\n",
       "      <th>Doppler_Shift_add_to_RV</th>\n",
       "      <th>Fe_H</th>\n",
       "      <th>C_Fe</th>\n",
       "      <th>Microturb</th>\n",
       "      <th>Macroturb</th>\n",
       "      <th>rotation</th>\n",
       "      <th>chi_squared</th>\n",
       "      <th>ew</th>\n",
       "      <th>flag_error</th>\n",
       "      <th>flag_warning</th>\n",
       "    </tr>\n",
       "  </thead>\n",
       "  <tbody>\n",
       "    <tr>\n",
       "      <th>0</th>\n",
       "      <td>HD137613.txt</td>\n",
       "      <td>22647.50</td>\n",
       "      <td>22646.0</td>\n",
       "      <td>22649.0</td>\n",
       "      <td>1.2205</td>\n",
       "      <td>0.0</td>\n",
       "      <td>1.1299</td>\n",
       "      <td>6.5</td>\n",
       "      <td>0.0</td>\n",
       "      <td>0.0</td>\n",
       "      <td>2.967841</td>\n",
       "      <td>46.6478</td>\n",
       "      <td>10000</td>\n",
       "      <td>10000</td>\n",
       "    </tr>\n",
       "    <tr>\n",
       "      <th>1</th>\n",
       "      <td>HD137613.txt</td>\n",
       "      <td>22663.75</td>\n",
       "      <td>22662.5</td>\n",
       "      <td>22665.0</td>\n",
       "      <td>-2.0905</td>\n",
       "      <td>0.0</td>\n",
       "      <td>1.2182</td>\n",
       "      <td>6.5</td>\n",
       "      <td>0.0</td>\n",
       "      <td>0.0</td>\n",
       "      <td>3.542710</td>\n",
       "      <td>252.3398</td>\n",
       "      <td>0</td>\n",
       "      <td>0</td>\n",
       "    </tr>\n",
       "    <tr>\n",
       "      <th>2</th>\n",
       "      <td>HD137613.txt</td>\n",
       "      <td>22722.50</td>\n",
       "      <td>22721.0</td>\n",
       "      <td>22724.0</td>\n",
       "      <td>-0.7656</td>\n",
       "      <td>0.0</td>\n",
       "      <td>1.3983</td>\n",
       "      <td>6.5</td>\n",
       "      <td>0.0</td>\n",
       "      <td>0.0</td>\n",
       "      <td>2.030335</td>\n",
       "      <td>103.0120</td>\n",
       "      <td>0</td>\n",
       "      <td>0</td>\n",
       "    </tr>\n",
       "    <tr>\n",
       "      <th>3</th>\n",
       "      <td>HD137613.txt</td>\n",
       "      <td>22736.50</td>\n",
       "      <td>22735.0</td>\n",
       "      <td>22738.0</td>\n",
       "      <td>-2.5000</td>\n",
       "      <td>0.0</td>\n",
       "      <td>1.3381</td>\n",
       "      <td>6.5</td>\n",
       "      <td>0.0</td>\n",
       "      <td>0.0</td>\n",
       "      <td>5.714703</td>\n",
       "      <td>331.4613</td>\n",
       "      <td>0</td>\n",
       "      <td>10000000</td>\n",
       "    </tr>\n",
       "    <tr>\n",
       "      <th>4</th>\n",
       "      <td>HD137613.txt</td>\n",
       "      <td>22788.50</td>\n",
       "      <td>22787.0</td>\n",
       "      <td>22790.0</td>\n",
       "      <td>-1.8037</td>\n",
       "      <td>0.0</td>\n",
       "      <td>1.2200</td>\n",
       "      <td>6.5</td>\n",
       "      <td>0.0</td>\n",
       "      <td>0.0</td>\n",
       "      <td>4.994019</td>\n",
       "      <td>327.1357</td>\n",
       "      <td>0</td>\n",
       "      <td>0</td>\n",
       "    </tr>\n",
       "    <tr>\n",
       "      <th>5</th>\n",
       "      <td>HD137613.txt</td>\n",
       "      <td>22799.00</td>\n",
       "      <td>22797.0</td>\n",
       "      <td>22801.0</td>\n",
       "      <td>-1.1074</td>\n",
       "      <td>0.0</td>\n",
       "      <td>1.3391</td>\n",
       "      <td>6.5</td>\n",
       "      <td>0.0</td>\n",
       "      <td>0.0</td>\n",
       "      <td>3.058372</td>\n",
       "      <td>354.9254</td>\n",
       "      <td>0</td>\n",
       "      <td>0</td>\n",
       "    </tr>\n",
       "    <tr>\n",
       "      <th>6</th>\n",
       "      <td>HD137613.txt</td>\n",
       "      <td>22842.00</td>\n",
       "      <td>22840.0</td>\n",
       "      <td>22844.0</td>\n",
       "      <td>-1.6623</td>\n",
       "      <td>0.0</td>\n",
       "      <td>1.3821</td>\n",
       "      <td>6.5</td>\n",
       "      <td>0.0</td>\n",
       "      <td>0.0</td>\n",
       "      <td>12.199672</td>\n",
       "      <td>242.7427</td>\n",
       "      <td>0</td>\n",
       "      <td>0</td>\n",
       "    </tr>\n",
       "    <tr>\n",
       "      <th>7</th>\n",
       "      <td>HD137613.txt</td>\n",
       "      <td>22862.50</td>\n",
       "      <td>22861.0</td>\n",
       "      <td>22864.0</td>\n",
       "      <td>-0.9605</td>\n",
       "      <td>0.0</td>\n",
       "      <td>1.4151</td>\n",
       "      <td>6.5</td>\n",
       "      <td>0.0</td>\n",
       "      <td>0.0</td>\n",
       "      <td>5.896289</td>\n",
       "      <td>320.1503</td>\n",
       "      <td>0</td>\n",
       "      <td>0</td>\n",
       "    </tr>\n",
       "    <tr>\n",
       "      <th>8</th>\n",
       "      <td>HD137613.txt</td>\n",
       "      <td>22869.70</td>\n",
       "      <td>22868.0</td>\n",
       "      <td>22871.4</td>\n",
       "      <td>-2.1202</td>\n",
       "      <td>0.0</td>\n",
       "      <td>1.4209</td>\n",
       "      <td>6.5</td>\n",
       "      <td>0.0</td>\n",
       "      <td>0.0</td>\n",
       "      <td>2.849655</td>\n",
       "      <td>496.5919</td>\n",
       "      <td>0</td>\n",
       "      <td>0</td>\n",
       "    </tr>\n",
       "    <tr>\n",
       "      <th>9</th>\n",
       "      <td>HD137613.txt</td>\n",
       "      <td>23055.50</td>\n",
       "      <td>23054.0</td>\n",
       "      <td>23057.0</td>\n",
       "      <td>-0.5772</td>\n",
       "      <td>0.0</td>\n",
       "      <td>1.4028</td>\n",
       "      <td>6.5</td>\n",
       "      <td>0.0</td>\n",
       "      <td>0.0</td>\n",
       "      <td>7.671969</td>\n",
       "      <td>359.9394</td>\n",
       "      <td>0</td>\n",
       "      <td>1000</td>\n",
       "    </tr>\n",
       "    <tr>\n",
       "      <th>10</th>\n",
       "      <td>HD137613.txt</td>\n",
       "      <td>23126.50</td>\n",
       "      <td>23125.5</td>\n",
       "      <td>23127.5</td>\n",
       "      <td>-0.8879</td>\n",
       "      <td>0.0</td>\n",
       "      <td>1.3068</td>\n",
       "      <td>6.5</td>\n",
       "      <td>0.0</td>\n",
       "      <td>0.0</td>\n",
       "      <td>2.782065</td>\n",
       "      <td>106.2060</td>\n",
       "      <td>1000</td>\n",
       "      <td>1000</td>\n",
       "    </tr>\n",
       "    <tr>\n",
       "      <th>11</th>\n",
       "      <td>HD137613.txt</td>\n",
       "      <td>23168.00</td>\n",
       "      <td>23167.0</td>\n",
       "      <td>23169.0</td>\n",
       "      <td>-1.8763</td>\n",
       "      <td>0.0</td>\n",
       "      <td>1.4149</td>\n",
       "      <td>6.5</td>\n",
       "      <td>0.0</td>\n",
       "      <td>0.0</td>\n",
       "      <td>2.015600</td>\n",
       "      <td>120.8512</td>\n",
       "      <td>0</td>\n",
       "      <td>0</td>\n",
       "    </tr>\n",
       "    <tr>\n",
       "      <th>13</th>\n",
       "      <td>HD137613.txt</td>\n",
       "      <td>23381.75</td>\n",
       "      <td>23380.5</td>\n",
       "      <td>23383.0</td>\n",
       "      <td>-0.0269</td>\n",
       "      <td>0.0</td>\n",
       "      <td>1.1851</td>\n",
       "      <td>6.5</td>\n",
       "      <td>0.0</td>\n",
       "      <td>0.0</td>\n",
       "      <td>3.197307</td>\n",
       "      <td>63.4474</td>\n",
       "      <td>10000</td>\n",
       "      <td>10000</td>\n",
       "    </tr>\n",
       "    <tr>\n",
       "      <th>14</th>\n",
       "      <td>HD137613.txt</td>\n",
       "      <td>23392.00</td>\n",
       "      <td>23390.0</td>\n",
       "      <td>23394.0</td>\n",
       "      <td>-0.7400</td>\n",
       "      <td>0.0</td>\n",
       "      <td>1.0325</td>\n",
       "      <td>6.5</td>\n",
       "      <td>0.0</td>\n",
       "      <td>0.0</td>\n",
       "      <td>4.399654</td>\n",
       "      <td>230.6971</td>\n",
       "      <td>0</td>\n",
       "      <td>0</td>\n",
       "    </tr>\n",
       "  </tbody>\n",
       "</table>\n",
       "</div>"
      ],
      "text/plain": [
       "        specname  wave_center  wave_start  wave_end  Doppler_Shift_add_to_RV  \\\n",
       "0   HD137613.txt     22647.50     22646.0   22649.0                   1.2205   \n",
       "1   HD137613.txt     22663.75     22662.5   22665.0                  -2.0905   \n",
       "2   HD137613.txt     22722.50     22721.0   22724.0                  -0.7656   \n",
       "3   HD137613.txt     22736.50     22735.0   22738.0                  -2.5000   \n",
       "4   HD137613.txt     22788.50     22787.0   22790.0                  -1.8037   \n",
       "5   HD137613.txt     22799.00     22797.0   22801.0                  -1.1074   \n",
       "6   HD137613.txt     22842.00     22840.0   22844.0                  -1.6623   \n",
       "7   HD137613.txt     22862.50     22861.0   22864.0                  -0.9605   \n",
       "8   HD137613.txt     22869.70     22868.0   22871.4                  -2.1202   \n",
       "9   HD137613.txt     23055.50     23054.0   23057.0                  -0.5772   \n",
       "10  HD137613.txt     23126.50     23125.5   23127.5                  -0.8879   \n",
       "11  HD137613.txt     23168.00     23167.0   23169.0                  -1.8763   \n",
       "13  HD137613.txt     23381.75     23380.5   23383.0                  -0.0269   \n",
       "14  HD137613.txt     23392.00     23390.0   23394.0                  -0.7400   \n",
       "\n",
       "    Fe_H    C_Fe  Microturb  Macroturb  rotation  chi_squared        ew  \\\n",
       "0    0.0  1.1299        6.5        0.0       0.0     2.967841   46.6478   \n",
       "1    0.0  1.2182        6.5        0.0       0.0     3.542710  252.3398   \n",
       "2    0.0  1.3983        6.5        0.0       0.0     2.030335  103.0120   \n",
       "3    0.0  1.3381        6.5        0.0       0.0     5.714703  331.4613   \n",
       "4    0.0  1.2200        6.5        0.0       0.0     4.994019  327.1357   \n",
       "5    0.0  1.3391        6.5        0.0       0.0     3.058372  354.9254   \n",
       "6    0.0  1.3821        6.5        0.0       0.0    12.199672  242.7427   \n",
       "7    0.0  1.4151        6.5        0.0       0.0     5.896289  320.1503   \n",
       "8    0.0  1.4209        6.5        0.0       0.0     2.849655  496.5919   \n",
       "9    0.0  1.4028        6.5        0.0       0.0     7.671969  359.9394   \n",
       "10   0.0  1.3068        6.5        0.0       0.0     2.782065  106.2060   \n",
       "11   0.0  1.4149        6.5        0.0       0.0     2.015600  120.8512   \n",
       "13   0.0  1.1851        6.5        0.0       0.0     3.197307   63.4474   \n",
       "14   0.0  1.0325        6.5        0.0       0.0     4.399654  230.6971   \n",
       "\n",
       "    flag_error  flag_warning  \n",
       "0        10000         10000  \n",
       "1            0             0  \n",
       "2            0             0  \n",
       "3            0      10000000  \n",
       "4            0             0  \n",
       "5            0             0  \n",
       "6            0             0  \n",
       "7            0             0  \n",
       "8            0             0  \n",
       "9            0          1000  \n",
       "10        1000          1000  \n",
       "11           0             0  \n",
       "13       10000         10000  \n",
       "14           0             0  "
      ]
     },
     "execution_count": 6,
     "metadata": {},
     "output_type": "execute_result"
    }
   ],
   "source": [
    "output_trimmed"
   ]
  },
  {
   "cell_type": "code",
   "execution_count": 7,
   "metadata": {},
   "outputs": [
    {
     "data": {
      "text/plain": [
       "np.float64(9.86)"
      ]
     },
     "execution_count": 7,
     "metadata": {},
     "output_type": "execute_result"
    }
   ],
   "source": [
    "(solar_abundances['C'] + np.mean(output_trimmed[\"C_Fe\"])).round(3)"
   ]
  },
  {
   "cell_type": "code",
   "execution_count": 10,
   "metadata": {},
   "outputs": [
    {
     "data": {
      "text/plain": [
       "(array([1., 2., 2., 3., 6.]),\n",
       " array([1.0325 , 1.11018, 1.18786, 1.26554, 1.34322, 1.4209 ]),\n",
       " [<matplotlib.patches.Polygon at 0x7eaddf566660>])"
      ]
     },
     "execution_count": 10,
     "metadata": {},
     "output_type": "execute_result"
    },
    {
     "data": {
      "image/png": "[encoded data removed]",
      "text/plain": [
       "<Figure size 800x600 with 1 Axes>"
      ]
     },
     "metadata": {},
     "output_type": "display_data"
    }
   ],
   "source": [
    "plt.hist(output_trimmed[\"C_Fe\"], bins = 5, histtype='step')"
   ]
  },
  {
   "cell_type": "code",
   "execution_count": 49,
   "metadata": {},
   "outputs": [
    {
     "data": {
      "text/plain": [
       "np.float64(0.11887782100345977)"
      ]
     },
     "execution_count": 49,
     "metadata": {},
     "output_type": "execute_result"
    }
   ],
   "source": [
    "np.std((output_trimmed[\"C_Fe\"]))"
   ]
  },
  {
   "cell_type": "code",
   "execution_count": 58,
   "metadata": {},
   "outputs": [
    {
     "data": {
      "text/plain": [
       "np.float64(9.188366666666667)"
      ]
     },
     "execution_count": 58,
     "metadata": {},
     "output_type": "execute_result"
    }
   ],
   "source": [
    "solar_abundances['N'] + np.mean(output_trimmed[\"N_Fe\"])"
   ]
  },
  {
   "cell_type": "code",
   "execution_count": 42,
   "metadata": {},
   "outputs": [
    {
     "name": "stderr",
     "output_type": "stream",
     "text": [
      "/media/advait/DATA/research/rcb-project/TSFitPy/plotting_tools/scripts_for_plotting.py:109: FutureWarning: errors='ignore' is deprecated and will raise in a future version. Use to_numeric without passing `errors` and catch exceptions explicitly instead\n",
      "  output_file_df = output_file_df.apply(pd.to_numeric, errors='ignore')\n"
     ]
    }
   ],
   "source": [
    "outpath = \"/media/advait/DATA/research/rcb-project/TSFitPy/output_files/hd137613/\"\n",
    "# find the newest folder in the directory\n",
    "import glob\n",
    "newest_folder = max(glob.glob(outpath + \"/*\"), key=os.path.getctime)\n",
    "config_dict = load_output_data(newest_folder)\n",
    "output_results_pd_df = config_dict[\"output_file_df\"]\n",
    "output_trimmed = (output_results_pd_df[output_results_pd_df[\"chi_squared\"] <25])\n",
    "output_trimmed = output_trimmed[output_trimmed[\"N_Fe\"] <1.4]"
   ]
  },
  {
   "cell_type": "code",
   "execution_count": 43,
   "metadata": {},
   "outputs": [
    {
     "data": {
      "text/plain": [
       "np.float64(5.977193846472453)"
      ]
     },
     "execution_count": 43,
     "metadata": {},
     "output_type": "execute_result"
    }
   ],
   "source": [
    "np.mean(output_trimmed[\"chi_squared\"])"
   ]
  },
  {
   "cell_type": "code",
   "execution_count": 44,
   "metadata": {},
   "outputs": [
    {
     "data": {
      "text/plain": [
       "<matplotlib.colorbar.Colorbar at 0x749e252a8b90>"
      ]
     },
     "execution_count": 44,
     "metadata": {},
     "output_type": "execute_result"
    },
    {
     "data": {
      "image/png": "[encoded data removed]",
      "text/plain": [
       "<Figure size 800x600 with 2 Axes>"
      ]
     },
     "metadata": {},
     "output_type": "display_data"
    }
   ],
   "source": [
    "plt.scatter(output_trimmed['wave_center'], output_trimmed['N_Fe']+7.98, c = output_trimmed['chi_squared'], cmap = 'inferno')\n",
    "plt.colorbar()"
   ]
  },
  {
   "cell_type": "code",
   "execution_count": 45,
   "metadata": {},
   "outputs": [
    {
     "data": {
      "text/plain": [
       "(np.float64(9.238), np.float64(0.062))"
      ]
     },
     "execution_count": 45,
     "metadata": {},
     "output_type": "execute_result"
    }
   ],
   "source": [
    "(7.98+np.mean(output_trimmed['N_Fe'])).round(3), np.std(output_trimmed['N_Fe']).round(3)"
   ]
  },
  {
   "cell_type": "code",
   "execution_count": 66,
   "metadata": {},
   "outputs": [
    {
     "name": "stderr",
     "output_type": "stream",
     "text": [
      "/media/advait/DATA/research/rcb-project/TSFitPy/plotting_tools/scripts_for_plotting.py:109: FutureWarning: errors='ignore' is deprecated and will raise in a future version. Use to_numeric without passing `errors` and catch exceptions explicitly instead\n",
      "  output_file_df = output_file_df.apply(pd.to_numeric, errors='ignore')\n"
     ]
    }
   ],
   "source": [
    "# outpath = \"/media/advait/DATA/research/rcb-project/TSFitPy/output_files/wise222/Oct-13-2024-22-42-15_0.9770073685963133_LTE_O_1D\"\n",
    "outpath = \"/media/advait/DATA/research/rcb-project/TSFitPy/output_files/hd137613/Nov-13-2024-00-55-31_0.6743652676515152_LTE_O_1D\"\n",
    "config_dict = load_output_data(outpath)\n",
    "output_results_pd_df = config_dict[\"output_file_df\"]\n",
    "output_trimmed = (output_results_pd_df[output_results_pd_df[\"chi_squared\"] < 20])"
   ]
  },
  {
   "cell_type": "code",
   "execution_count": 67,
   "metadata": {},
   "outputs": [
    {
     "data": {
      "text/html": [
       "<div>\n",
       "<style scoped>\n",
       "    .dataframe tbody tr th:only-of-type {\n",
       "        vertical-align: middle;\n",
       "    }\n",
       "\n",
       "    .dataframe tbody tr th {\n",
       "        vertical-align: top;\n",
       "    }\n",
       "\n",
       "    .dataframe thead th {\n",
       "        text-align: right;\n",
       "    }\n",
       "</style>\n",
       "<table border=\"1\" class=\"dataframe\">\n",
       "  <thead>\n",
       "    <tr style=\"text-align: right;\">\n",
       "      <th></th>\n",
       "      <th>specname</th>\n",
       "      <th>wave_center</th>\n",
       "      <th>wave_start</th>\n",
       "      <th>wave_end</th>\n",
       "      <th>Doppler_Shift_add_to_RV</th>\n",
       "      <th>Fe_H</th>\n",
       "      <th>O_Fe</th>\n",
       "      <th>Microturb</th>\n",
       "      <th>Macroturb</th>\n",
       "      <th>rotation</th>\n",
       "      <th>chi_squared</th>\n",
       "      <th>ew</th>\n",
       "      <th>flag_error</th>\n",
       "      <th>flag_warning</th>\n",
       "    </tr>\n",
       "  </thead>\n",
       "  <tbody>\n",
       "    <tr>\n",
       "      <th>0</th>\n",
       "      <td>HD137613.txt</td>\n",
       "      <td>23255.500</td>\n",
       "      <td>23253.50</td>\n",
       "      <td>23257.5</td>\n",
       "      <td>-1.0746</td>\n",
       "      <td>0.0</td>\n",
       "      <td>-0.0883</td>\n",
       "      <td>6.5</td>\n",
       "      <td>0.0</td>\n",
       "      <td>0.0</td>\n",
       "      <td>5.711419</td>\n",
       "      <td>517.5926</td>\n",
       "      <td>0</td>\n",
       "      <td>0</td>\n",
       "    </tr>\n",
       "    <tr>\n",
       "      <th>1</th>\n",
       "      <td>HD137613.txt</td>\n",
       "      <td>23261.300</td>\n",
       "      <td>23259.40</td>\n",
       "      <td>23263.2</td>\n",
       "      <td>-1.6624</td>\n",
       "      <td>0.0</td>\n",
       "      <td>0.0504</td>\n",
       "      <td>6.5</td>\n",
       "      <td>0.0</td>\n",
       "      <td>0.0</td>\n",
       "      <td>5.938167</td>\n",
       "      <td>749.3225</td>\n",
       "      <td>0</td>\n",
       "      <td>0</td>\n",
       "    </tr>\n",
       "    <tr>\n",
       "      <th>2</th>\n",
       "      <td>HD137613.txt</td>\n",
       "      <td>23274.000</td>\n",
       "      <td>23272.00</td>\n",
       "      <td>23276.0</td>\n",
       "      <td>-1.2605</td>\n",
       "      <td>0.0</td>\n",
       "      <td>-0.0104</td>\n",
       "      <td>6.5</td>\n",
       "      <td>0.0</td>\n",
       "      <td>0.0</td>\n",
       "      <td>3.053228</td>\n",
       "      <td>485.7841</td>\n",
       "      <td>0</td>\n",
       "      <td>0</td>\n",
       "    </tr>\n",
       "    <tr>\n",
       "      <th>3</th>\n",
       "      <td>HD137613.txt</td>\n",
       "      <td>23280.000</td>\n",
       "      <td>23277.60</td>\n",
       "      <td>23282.4</td>\n",
       "      <td>-1.2052</td>\n",
       "      <td>0.0</td>\n",
       "      <td>0.0594</td>\n",
       "      <td>6.5</td>\n",
       "      <td>0.0</td>\n",
       "      <td>0.0</td>\n",
       "      <td>7.884350</td>\n",
       "      <td>1020.2354</td>\n",
       "      <td>0</td>\n",
       "      <td>0</td>\n",
       "    </tr>\n",
       "    <tr>\n",
       "      <th>4</th>\n",
       "      <td>HD137613.txt</td>\n",
       "      <td>23304.000</td>\n",
       "      <td>23302.00</td>\n",
       "      <td>23306.0</td>\n",
       "      <td>-0.9746</td>\n",
       "      <td>0.0</td>\n",
       "      <td>0.0364</td>\n",
       "      <td>6.5</td>\n",
       "      <td>0.0</td>\n",
       "      <td>0.0</td>\n",
       "      <td>4.015139</td>\n",
       "      <td>565.6724</td>\n",
       "      <td>0</td>\n",
       "      <td>0</td>\n",
       "    </tr>\n",
       "    <tr>\n",
       "      <th>5</th>\n",
       "      <td>HD137613.txt</td>\n",
       "      <td>23313.500</td>\n",
       "      <td>23311.00</td>\n",
       "      <td>23316.0</td>\n",
       "      <td>-1.2825</td>\n",
       "      <td>0.0</td>\n",
       "      <td>0.0544</td>\n",
       "      <td>6.5</td>\n",
       "      <td>0.0</td>\n",
       "      <td>0.0</td>\n",
       "      <td>6.849334</td>\n",
       "      <td>911.7677</td>\n",
       "      <td>0</td>\n",
       "      <td>0</td>\n",
       "    </tr>\n",
       "    <tr>\n",
       "      <th>6</th>\n",
       "      <td>HD137613.txt</td>\n",
       "      <td>23362.100</td>\n",
       "      <td>23360.70</td>\n",
       "      <td>23363.5</td>\n",
       "      <td>-1.2316</td>\n",
       "      <td>0.0</td>\n",
       "      <td>0.0070</td>\n",
       "      <td>6.5</td>\n",
       "      <td>0.0</td>\n",
       "      <td>0.0</td>\n",
       "      <td>10.397881</td>\n",
       "      <td>514.7136</td>\n",
       "      <td>0</td>\n",
       "      <td>0</td>\n",
       "    </tr>\n",
       "    <tr>\n",
       "      <th>7</th>\n",
       "      <td>HD137613.txt</td>\n",
       "      <td>23373.000</td>\n",
       "      <td>23371.50</td>\n",
       "      <td>23374.5</td>\n",
       "      <td>-0.9826</td>\n",
       "      <td>0.0</td>\n",
       "      <td>0.0267</td>\n",
       "      <td>6.5</td>\n",
       "      <td>0.0</td>\n",
       "      <td>0.0</td>\n",
       "      <td>6.313886</td>\n",
       "      <td>459.5651</td>\n",
       "      <td>0</td>\n",
       "      <td>0</td>\n",
       "    </tr>\n",
       "    <tr>\n",
       "      <th>8</th>\n",
       "      <td>HD137613.txt</td>\n",
       "      <td>23385.200</td>\n",
       "      <td>23383.20</td>\n",
       "      <td>23387.2</td>\n",
       "      <td>-1.0667</td>\n",
       "      <td>0.0</td>\n",
       "      <td>0.0409</td>\n",
       "      <td>6.5</td>\n",
       "      <td>0.0</td>\n",
       "      <td>0.0</td>\n",
       "      <td>5.682548</td>\n",
       "      <td>722.1251</td>\n",
       "      <td>0</td>\n",
       "      <td>0</td>\n",
       "    </tr>\n",
       "    <tr>\n",
       "      <th>9</th>\n",
       "      <td>HD137613.txt</td>\n",
       "      <td>23421.000</td>\n",
       "      <td>23419.79</td>\n",
       "      <td>23422.2</td>\n",
       "      <td>-1.0087</td>\n",
       "      <td>0.0</td>\n",
       "      <td>0.0192</td>\n",
       "      <td>6.5</td>\n",
       "      <td>0.0</td>\n",
       "      <td>0.0</td>\n",
       "      <td>5.623472</td>\n",
       "      <td>408.8981</td>\n",
       "      <td>0</td>\n",
       "      <td>0</td>\n",
       "    </tr>\n",
       "    <tr>\n",
       "      <th>10</th>\n",
       "      <td>HD137613.txt</td>\n",
       "      <td>23447.750</td>\n",
       "      <td>23446.50</td>\n",
       "      <td>23449.0</td>\n",
       "      <td>-1.1366</td>\n",
       "      <td>0.0</td>\n",
       "      <td>0.0160</td>\n",
       "      <td>6.5</td>\n",
       "      <td>0.0</td>\n",
       "      <td>0.0</td>\n",
       "      <td>2.965960</td>\n",
       "      <td>333.0912</td>\n",
       "      <td>0</td>\n",
       "      <td>0</td>\n",
       "    </tr>\n",
       "    <tr>\n",
       "      <th>11</th>\n",
       "      <td>HD137613.txt</td>\n",
       "      <td>23476.045</td>\n",
       "      <td>23474.79</td>\n",
       "      <td>23477.3</td>\n",
       "      <td>-1.0242</td>\n",
       "      <td>0.0</td>\n",
       "      <td>0.1002</td>\n",
       "      <td>6.5</td>\n",
       "      <td>0.0</td>\n",
       "      <td>0.0</td>\n",
       "      <td>2.753606</td>\n",
       "      <td>373.0281</td>\n",
       "      <td>0</td>\n",
       "      <td>0</td>\n",
       "    </tr>\n",
       "    <tr>\n",
       "      <th>12</th>\n",
       "      <td>HD137613.txt</td>\n",
       "      <td>23718.150</td>\n",
       "      <td>23717.00</td>\n",
       "      <td>23719.3</td>\n",
       "      <td>-0.2733</td>\n",
       "      <td>0.0</td>\n",
       "      <td>0.0416</td>\n",
       "      <td>6.5</td>\n",
       "      <td>0.0</td>\n",
       "      <td>0.0</td>\n",
       "      <td>5.500365</td>\n",
       "      <td>362.4045</td>\n",
       "      <td>0</td>\n",
       "      <td>0</td>\n",
       "    </tr>\n",
       "    <tr>\n",
       "      <th>13</th>\n",
       "      <td>HD137613.txt</td>\n",
       "      <td>23731.500</td>\n",
       "      <td>23730.00</td>\n",
       "      <td>23733.0</td>\n",
       "      <td>0.3863</td>\n",
       "      <td>0.0</td>\n",
       "      <td>0.0479</td>\n",
       "      <td>6.5</td>\n",
       "      <td>0.0</td>\n",
       "      <td>0.0</td>\n",
       "      <td>9.955202</td>\n",
       "      <td>513.2098</td>\n",
       "      <td>0</td>\n",
       "      <td>0</td>\n",
       "    </tr>\n",
       "    <tr>\n",
       "      <th>14</th>\n",
       "      <td>HD137613.txt</td>\n",
       "      <td>23759.000</td>\n",
       "      <td>23757.50</td>\n",
       "      <td>23760.5</td>\n",
       "      <td>-1.8335</td>\n",
       "      <td>0.0</td>\n",
       "      <td>-0.0267</td>\n",
       "      <td>6.5</td>\n",
       "      <td>0.0</td>\n",
       "      <td>0.0</td>\n",
       "      <td>2.203701</td>\n",
       "      <td>297.3801</td>\n",
       "      <td>0</td>\n",
       "      <td>0</td>\n",
       "    </tr>\n",
       "    <tr>\n",
       "      <th>15</th>\n",
       "      <td>HD137613.txt</td>\n",
       "      <td>23794.950</td>\n",
       "      <td>23793.60</td>\n",
       "      <td>23796.3</td>\n",
       "      <td>-0.9939</td>\n",
       "      <td>0.0</td>\n",
       "      <td>-0.0189</td>\n",
       "      <td>6.5</td>\n",
       "      <td>0.0</td>\n",
       "      <td>0.0</td>\n",
       "      <td>3.432009</td>\n",
       "      <td>670.4999</td>\n",
       "      <td>0</td>\n",
       "      <td>0</td>\n",
       "    </tr>\n",
       "    <tr>\n",
       "      <th>16</th>\n",
       "      <td>HD137613.txt</td>\n",
       "      <td>23799.000</td>\n",
       "      <td>23797.00</td>\n",
       "      <td>23801.0</td>\n",
       "      <td>-0.3451</td>\n",
       "      <td>0.0</td>\n",
       "      <td>0.1001</td>\n",
       "      <td>6.5</td>\n",
       "      <td>0.0</td>\n",
       "      <td>0.0</td>\n",
       "      <td>13.074427</td>\n",
       "      <td>888.3166</td>\n",
       "      <td>0</td>\n",
       "      <td>0</td>\n",
       "    </tr>\n",
       "    <tr>\n",
       "      <th>17</th>\n",
       "      <td>HD137613.txt</td>\n",
       "      <td>23803.500</td>\n",
       "      <td>23802.00</td>\n",
       "      <td>23805.0</td>\n",
       "      <td>-0.4752</td>\n",
       "      <td>0.0</td>\n",
       "      <td>0.0259</td>\n",
       "      <td>6.5</td>\n",
       "      <td>0.0</td>\n",
       "      <td>0.0</td>\n",
       "      <td>11.439562</td>\n",
       "      <td>803.6778</td>\n",
       "      <td>0</td>\n",
       "      <td>0</td>\n",
       "    </tr>\n",
       "    <tr>\n",
       "      <th>18</th>\n",
       "      <td>HD137613.txt</td>\n",
       "      <td>23808.500</td>\n",
       "      <td>23807.00</td>\n",
       "      <td>23810.0</td>\n",
       "      <td>-0.5071</td>\n",
       "      <td>0.0</td>\n",
       "      <td>0.0898</td>\n",
       "      <td>6.5</td>\n",
       "      <td>0.0</td>\n",
       "      <td>0.0</td>\n",
       "      <td>3.997152</td>\n",
       "      <td>884.6946</td>\n",
       "      <td>0</td>\n",
       "      <td>0</td>\n",
       "    </tr>\n",
       "    <tr>\n",
       "      <th>19</th>\n",
       "      <td>HD137613.txt</td>\n",
       "      <td>23878.500</td>\n",
       "      <td>23877.00</td>\n",
       "      <td>23880.0</td>\n",
       "      <td>-0.9092</td>\n",
       "      <td>0.0</td>\n",
       "      <td>0.0112</td>\n",
       "      <td>6.5</td>\n",
       "      <td>0.0</td>\n",
       "      <td>0.0</td>\n",
       "      <td>5.340487</td>\n",
       "      <td>665.4382</td>\n",
       "      <td>0</td>\n",
       "      <td>0</td>\n",
       "    </tr>\n",
       "    <tr>\n",
       "      <th>20</th>\n",
       "      <td>HD137613.txt</td>\n",
       "      <td>23918.250</td>\n",
       "      <td>23916.00</td>\n",
       "      <td>23920.5</td>\n",
       "      <td>-0.4006</td>\n",
       "      <td>0.0</td>\n",
       "      <td>0.1469</td>\n",
       "      <td>6.5</td>\n",
       "      <td>0.0</td>\n",
       "      <td>0.0</td>\n",
       "      <td>8.438971</td>\n",
       "      <td>1081.4613</td>\n",
       "      <td>0</td>\n",
       "      <td>0</td>\n",
       "    </tr>\n",
       "    <tr>\n",
       "      <th>21</th>\n",
       "      <td>HD137613.txt</td>\n",
       "      <td>24003.000</td>\n",
       "      <td>24001.00</td>\n",
       "      <td>24005.0</td>\n",
       "      <td>-1.3161</td>\n",
       "      <td>0.0</td>\n",
       "      <td>0.0664</td>\n",
       "      <td>6.5</td>\n",
       "      <td>0.0</td>\n",
       "      <td>0.0</td>\n",
       "      <td>4.275341</td>\n",
       "      <td>883.2908</td>\n",
       "      <td>0</td>\n",
       "      <td>0</td>\n",
       "    </tr>\n",
       "    <tr>\n",
       "      <th>22</th>\n",
       "      <td>HD137613.txt</td>\n",
       "      <td>24016.250</td>\n",
       "      <td>24015.00</td>\n",
       "      <td>24017.5</td>\n",
       "      <td>-0.1540</td>\n",
       "      <td>0.0</td>\n",
       "      <td>0.1533</td>\n",
       "      <td>6.5</td>\n",
       "      <td>0.0</td>\n",
       "      <td>0.0</td>\n",
       "      <td>2.622764</td>\n",
       "      <td>594.9585</td>\n",
       "      <td>0</td>\n",
       "      <td>0</td>\n",
       "    </tr>\n",
       "    <tr>\n",
       "      <th>23</th>\n",
       "      <td>HD137613.txt</td>\n",
       "      <td>24022.600</td>\n",
       "      <td>24020.60</td>\n",
       "      <td>24024.6</td>\n",
       "      <td>-1.0141</td>\n",
       "      <td>0.0</td>\n",
       "      <td>0.0435</td>\n",
       "      <td>6.5</td>\n",
       "      <td>0.0</td>\n",
       "      <td>0.0</td>\n",
       "      <td>16.930543</td>\n",
       "      <td>719.7580</td>\n",
       "      <td>0</td>\n",
       "      <td>0</td>\n",
       "    </tr>\n",
       "    <tr>\n",
       "      <th>24</th>\n",
       "      <td>HD137613.txt</td>\n",
       "      <td>24035.250</td>\n",
       "      <td>24033.50</td>\n",
       "      <td>24037.0</td>\n",
       "      <td>-1.5587</td>\n",
       "      <td>0.0</td>\n",
       "      <td>0.0910</td>\n",
       "      <td>6.5</td>\n",
       "      <td>0.0</td>\n",
       "      <td>0.0</td>\n",
       "      <td>9.162735</td>\n",
       "      <td>599.6982</td>\n",
       "      <td>0</td>\n",
       "      <td>0</td>\n",
       "    </tr>\n",
       "    <tr>\n",
       "      <th>25</th>\n",
       "      <td>HD137613.txt</td>\n",
       "      <td>24044.750</td>\n",
       "      <td>24043.50</td>\n",
       "      <td>24046.0</td>\n",
       "      <td>-0.2625</td>\n",
       "      <td>0.0</td>\n",
       "      <td>0.1725</td>\n",
       "      <td>6.5</td>\n",
       "      <td>0.0</td>\n",
       "      <td>0.0</td>\n",
       "      <td>2.295497</td>\n",
       "      <td>627.6815</td>\n",
       "      <td>0</td>\n",
       "      <td>0</td>\n",
       "    </tr>\n",
       "    <tr>\n",
       "      <th>26</th>\n",
       "      <td>HD137613.txt</td>\n",
       "      <td>24059.500</td>\n",
       "      <td>24058.00</td>\n",
       "      <td>24061.0</td>\n",
       "      <td>-1.0347</td>\n",
       "      <td>0.0</td>\n",
       "      <td>0.1778</td>\n",
       "      <td>6.5</td>\n",
       "      <td>0.0</td>\n",
       "      <td>0.0</td>\n",
       "      <td>9.601344</td>\n",
       "      <td>635.4930</td>\n",
       "      <td>0</td>\n",
       "      <td>0</td>\n",
       "    </tr>\n",
       "    <tr>\n",
       "      <th>27</th>\n",
       "      <td>HD137613.txt</td>\n",
       "      <td>24065.550</td>\n",
       "      <td>24064.10</td>\n",
       "      <td>24067.0</td>\n",
       "      <td>-1.3776</td>\n",
       "      <td>0.0</td>\n",
       "      <td>0.1760</td>\n",
       "      <td>6.5</td>\n",
       "      <td>0.0</td>\n",
       "      <td>0.0</td>\n",
       "      <td>1.771151</td>\n",
       "      <td>434.4645</td>\n",
       "      <td>0</td>\n",
       "      <td>0</td>\n",
       "    </tr>\n",
       "    <tr>\n",
       "      <th>28</th>\n",
       "      <td>HD137613.txt</td>\n",
       "      <td>24099.750</td>\n",
       "      <td>24098.50</td>\n",
       "      <td>24101.0</td>\n",
       "      <td>-0.4420</td>\n",
       "      <td>0.0</td>\n",
       "      <td>-0.1909</td>\n",
       "      <td>6.5</td>\n",
       "      <td>0.0</td>\n",
       "      <td>0.0</td>\n",
       "      <td>11.583391</td>\n",
       "      <td>498.0069</td>\n",
       "      <td>0</td>\n",
       "      <td>0</td>\n",
       "    </tr>\n",
       "    <tr>\n",
       "      <th>29</th>\n",
       "      <td>HD137613.txt</td>\n",
       "      <td>24115.200</td>\n",
       "      <td>24113.79</td>\n",
       "      <td>24116.6</td>\n",
       "      <td>-0.9069</td>\n",
       "      <td>0.0</td>\n",
       "      <td>-0.0537</td>\n",
       "      <td>6.5</td>\n",
       "      <td>0.0</td>\n",
       "      <td>0.0</td>\n",
       "      <td>9.168583</td>\n",
       "      <td>694.7733</td>\n",
       "      <td>0</td>\n",
       "      <td>0</td>\n",
       "    </tr>\n",
       "    <tr>\n",
       "      <th>30</th>\n",
       "      <td>HD137613.txt</td>\n",
       "      <td>24121.500</td>\n",
       "      <td>24119.00</td>\n",
       "      <td>24124.0</td>\n",
       "      <td>-0.9906</td>\n",
       "      <td>0.0</td>\n",
       "      <td>0.0875</td>\n",
       "      <td>6.5</td>\n",
       "      <td>0.0</td>\n",
       "      <td>0.0</td>\n",
       "      <td>16.143874</td>\n",
       "      <td>1273.8110</td>\n",
       "      <td>0</td>\n",
       "      <td>0</td>\n",
       "    </tr>\n",
       "    <tr>\n",
       "      <th>31</th>\n",
       "      <td>HD137613.txt</td>\n",
       "      <td>24166.250</td>\n",
       "      <td>24164.00</td>\n",
       "      <td>24168.5</td>\n",
       "      <td>-0.8544</td>\n",
       "      <td>0.0</td>\n",
       "      <td>-0.0339</td>\n",
       "      <td>6.5</td>\n",
       "      <td>0.0</td>\n",
       "      <td>0.0</td>\n",
       "      <td>5.564156</td>\n",
       "      <td>932.6902</td>\n",
       "      <td>0</td>\n",
       "      <td>0</td>\n",
       "    </tr>\n",
       "    <tr>\n",
       "      <th>32</th>\n",
       "      <td>HD137613.txt</td>\n",
       "      <td>24215.350</td>\n",
       "      <td>24210.70</td>\n",
       "      <td>24220.0</td>\n",
       "      <td>-0.6891</td>\n",
       "      <td>0.0</td>\n",
       "      <td>0.0732</td>\n",
       "      <td>6.5</td>\n",
       "      <td>0.0</td>\n",
       "      <td>0.0</td>\n",
       "      <td>22.287813</td>\n",
       "      <td>1871.7660</td>\n",
       "      <td>0</td>\n",
       "      <td>0</td>\n",
       "    </tr>\n",
       "    <tr>\n",
       "      <th>33</th>\n",
       "      <td>HD137613.txt</td>\n",
       "      <td>24285.750</td>\n",
       "      <td>24284.50</td>\n",
       "      <td>24287.0</td>\n",
       "      <td>-1.4559</td>\n",
       "      <td>0.0</td>\n",
       "      <td>-0.0290</td>\n",
       "      <td>6.5</td>\n",
       "      <td>0.0</td>\n",
       "      <td>0.0</td>\n",
       "      <td>2.154142</td>\n",
       "      <td>484.2786</td>\n",
       "      <td>0</td>\n",
       "      <td>0</td>\n",
       "    </tr>\n",
       "    <tr>\n",
       "      <th>34</th>\n",
       "      <td>HD137613.txt</td>\n",
       "      <td>24299.000</td>\n",
       "      <td>24297.50</td>\n",
       "      <td>24300.5</td>\n",
       "      <td>-1.1107</td>\n",
       "      <td>0.0</td>\n",
       "      <td>-0.0255</td>\n",
       "      <td>6.5</td>\n",
       "      <td>0.0</td>\n",
       "      <td>0.0</td>\n",
       "      <td>4.446912</td>\n",
       "      <td>550.1954</td>\n",
       "      <td>0</td>\n",
       "      <td>0</td>\n",
       "    </tr>\n",
       "    <tr>\n",
       "      <th>35</th>\n",
       "      <td>HD137613.txt</td>\n",
       "      <td>24310.350</td>\n",
       "      <td>24305.70</td>\n",
       "      <td>24315.0</td>\n",
       "      <td>-1.1550</td>\n",
       "      <td>0.0</td>\n",
       "      <td>0.0248</td>\n",
       "      <td>6.5</td>\n",
       "      <td>0.0</td>\n",
       "      <td>0.0</td>\n",
       "      <td>6.184616</td>\n",
       "      <td>1448.1090</td>\n",
       "      <td>0</td>\n",
       "      <td>0</td>\n",
       "    </tr>\n",
       "    <tr>\n",
       "      <th>36</th>\n",
       "      <td>HD137613.txt</td>\n",
       "      <td>24330.200</td>\n",
       "      <td>24328.40</td>\n",
       "      <td>24332.0</td>\n",
       "      <td>-0.9324</td>\n",
       "      <td>0.0</td>\n",
       "      <td>0.0131</td>\n",
       "      <td>6.5</td>\n",
       "      <td>0.0</td>\n",
       "      <td>0.0</td>\n",
       "      <td>3.125851</td>\n",
       "      <td>463.1525</td>\n",
       "      <td>0</td>\n",
       "      <td>0</td>\n",
       "    </tr>\n",
       "    <tr>\n",
       "      <th>37</th>\n",
       "      <td>HD137613.txt</td>\n",
       "      <td>24357.250</td>\n",
       "      <td>24355.50</td>\n",
       "      <td>24359.0</td>\n",
       "      <td>-0.7433</td>\n",
       "      <td>0.0</td>\n",
       "      <td>0.0418</td>\n",
       "      <td>6.5</td>\n",
       "      <td>0.0</td>\n",
       "      <td>0.0</td>\n",
       "      <td>6.120058</td>\n",
       "      <td>591.1450</td>\n",
       "      <td>0</td>\n",
       "      <td>0</td>\n",
       "    </tr>\n",
       "    <tr>\n",
       "      <th>38</th>\n",
       "      <td>HD137613.txt</td>\n",
       "      <td>24365.150</td>\n",
       "      <td>24364.00</td>\n",
       "      <td>24366.3</td>\n",
       "      <td>-0.7455</td>\n",
       "      <td>0.0</td>\n",
       "      <td>0.1202</td>\n",
       "      <td>6.5</td>\n",
       "      <td>0.0</td>\n",
       "      <td>0.0</td>\n",
       "      <td>3.418878</td>\n",
       "      <td>277.1361</td>\n",
       "      <td>0</td>\n",
       "      <td>0</td>\n",
       "    </tr>\n",
       "    <tr>\n",
       "      <th>39</th>\n",
       "      <td>HD137613.txt</td>\n",
       "      <td>24393.850</td>\n",
       "      <td>24392.00</td>\n",
       "      <td>24395.7</td>\n",
       "      <td>-1.2761</td>\n",
       "      <td>0.0</td>\n",
       "      <td>-0.1297</td>\n",
       "      <td>6.5</td>\n",
       "      <td>0.0</td>\n",
       "      <td>0.0</td>\n",
       "      <td>6.473057</td>\n",
       "      <td>547.3728</td>\n",
       "      <td>0</td>\n",
       "      <td>0</td>\n",
       "    </tr>\n",
       "    <tr>\n",
       "      <th>40</th>\n",
       "      <td>HD137613.txt</td>\n",
       "      <td>24576.000</td>\n",
       "      <td>24574.60</td>\n",
       "      <td>24577.4</td>\n",
       "      <td>-1.1673</td>\n",
       "      <td>0.0</td>\n",
       "      <td>-0.1194</td>\n",
       "      <td>6.5</td>\n",
       "      <td>0.0</td>\n",
       "      <td>0.0</td>\n",
       "      <td>14.724753</td>\n",
       "      <td>510.9444</td>\n",
       "      <td>0</td>\n",
       "      <td>0</td>\n",
       "    </tr>\n",
       "    <tr>\n",
       "      <th>41</th>\n",
       "      <td>HD137613.txt</td>\n",
       "      <td>24589.750</td>\n",
       "      <td>24585.50</td>\n",
       "      <td>24594.0</td>\n",
       "      <td>-0.4044</td>\n",
       "      <td>0.0</td>\n",
       "      <td>0.0455</td>\n",
       "      <td>6.5</td>\n",
       "      <td>0.0</td>\n",
       "      <td>0.0</td>\n",
       "      <td>12.998115</td>\n",
       "      <td>1625.1464</td>\n",
       "      <td>0</td>\n",
       "      <td>0</td>\n",
       "    </tr>\n",
       "    <tr>\n",
       "      <th>42</th>\n",
       "      <td>HD137613.txt</td>\n",
       "      <td>24605.250</td>\n",
       "      <td>24604.00</td>\n",
       "      <td>24606.5</td>\n",
       "      <td>-0.5208</td>\n",
       "      <td>0.0</td>\n",
       "      <td>-0.0463</td>\n",
       "      <td>6.5</td>\n",
       "      <td>0.0</td>\n",
       "      <td>0.0</td>\n",
       "      <td>6.306652</td>\n",
       "      <td>309.9076</td>\n",
       "      <td>0</td>\n",
       "      <td>0</td>\n",
       "    </tr>\n",
       "    <tr>\n",
       "      <th>43</th>\n",
       "      <td>HD137613.txt</td>\n",
       "      <td>24683.350</td>\n",
       "      <td>24682.00</td>\n",
       "      <td>24684.7</td>\n",
       "      <td>-1.4422</td>\n",
       "      <td>0.0</td>\n",
       "      <td>-0.0717</td>\n",
       "      <td>6.5</td>\n",
       "      <td>0.0</td>\n",
       "      <td>0.0</td>\n",
       "      <td>10.202024</td>\n",
       "      <td>304.5560</td>\n",
       "      <td>0</td>\n",
       "      <td>0</td>\n",
       "    </tr>\n",
       "    <tr>\n",
       "      <th>44</th>\n",
       "      <td>HD137613.txt</td>\n",
       "      <td>24721.000</td>\n",
       "      <td>24719.00</td>\n",
       "      <td>24723.0</td>\n",
       "      <td>-2.4647</td>\n",
       "      <td>0.0</td>\n",
       "      <td>-0.0571</td>\n",
       "      <td>6.5</td>\n",
       "      <td>0.0</td>\n",
       "      <td>0.0</td>\n",
       "      <td>2.656733</td>\n",
       "      <td>647.0560</td>\n",
       "      <td>0</td>\n",
       "      <td>0</td>\n",
       "    </tr>\n",
       "    <tr>\n",
       "      <th>45</th>\n",
       "      <td>HD137613.txt</td>\n",
       "      <td>24837.200</td>\n",
       "      <td>24836.00</td>\n",
       "      <td>24838.4</td>\n",
       "      <td>-1.0958</td>\n",
       "      <td>0.0</td>\n",
       "      <td>-0.1005</td>\n",
       "      <td>6.5</td>\n",
       "      <td>0.0</td>\n",
       "      <td>0.0</td>\n",
       "      <td>5.130926</td>\n",
       "      <td>478.0122</td>\n",
       "      <td>0</td>\n",
       "      <td>0</td>\n",
       "    </tr>\n",
       "  </tbody>\n",
       "</table>\n",
       "</div>"
      ],
      "text/plain": [
       "        specname  wave_center  wave_start  wave_end  Doppler_Shift_add_to_RV  \\\n",
       "0   HD137613.txt    23255.500    23253.50   23257.5                  -1.0746   \n",
       "1   HD137613.txt    23261.300    23259.40   23263.2                  -1.6624   \n",
       "2   HD137613.txt    23274.000    23272.00   23276.0                  -1.2605   \n",
       "3   HD137613.txt    23280.000    23277.60   23282.4                  -1.2052   \n",
       "4   HD137613.txt    23304.000    23302.00   23306.0                  -0.9746   \n",
       "5   HD137613.txt    23313.500    23311.00   23316.0                  -1.2825   \n",
       "6   HD137613.txt    23362.100    23360.70   23363.5                  -1.2316   \n",
       "7   HD137613.txt    23373.000    23371.50   23374.5                  -0.9826   \n",
       "8   HD137613.txt    23385.200    23383.20   23387.2                  -1.0667   \n",
       "9   HD137613.txt    23421.000    23419.79   23422.2                  -1.0087   \n",
       "10  HD137613.txt    23447.750    23446.50   23449.0                  -1.1366   \n",
       "11  HD137613.txt    23476.045    23474.79   23477.3                  -1.0242   \n",
       "12  HD137613.txt    23718.150    23717.00   23719.3                  -0.2733   \n",
       "13  HD137613.txt    23731.500    23730.00   23733.0                   0.3863   \n",
       "14  HD137613.txt    23759.000    23757.50   23760.5                  -1.8335   \n",
       "15  HD137613.txt    23794.950    23793.60   23796.3                  -0.9939   \n",
       "16  HD137613.txt    23799.000    23797.00   23801.0                  -0.3451   \n",
       "17  HD137613.txt    23803.500    23802.00   23805.0                  -0.4752   \n",
       "18  HD137613.txt    23808.500    23807.00   23810.0                  -0.5071   \n",
       "19  HD137613.txt    23878.500    23877.00   23880.0                  -0.9092   \n",
       "20  HD137613.txt    23918.250    23916.00   23920.5                  -0.4006   \n",
       "21  HD137613.txt    24003.000    24001.00   24005.0                  -1.3161   \n",
       "22  HD137613.txt    24016.250    24015.00   24017.5                  -0.1540   \n",
       "23  HD137613.txt    24022.600    24020.60   24024.6                  -1.0141   \n",
       "24  HD137613.txt    24035.250    24033.50   24037.0                  -1.5587   \n",
       "25  HD137613.txt    24044.750    24043.50   24046.0                  -0.2625   \n",
       "26  HD137613.txt    24059.500    24058.00   24061.0                  -1.0347   \n",
       "27  HD137613.txt    24065.550    24064.10   24067.0                  -1.3776   \n",
       "28  HD137613.txt    24099.750    24098.50   24101.0                  -0.4420   \n",
       "29  HD137613.txt    24115.200    24113.79   24116.6                  -0.9069   \n",
       "30  HD137613.txt    24121.500    24119.00   24124.0                  -0.9906   \n",
       "31  HD137613.txt    24166.250    24164.00   24168.5                  -0.8544   \n",
       "32  HD137613.txt    24215.350    24210.70   24220.0                  -0.6891   \n",
       "33  HD137613.txt    24285.750    24284.50   24287.0                  -1.4559   \n",
       "34  HD137613.txt    24299.000    24297.50   24300.5                  -1.1107   \n",
       "35  HD137613.txt    24310.350    24305.70   24315.0                  -1.1550   \n",
       "36  HD137613.txt    24330.200    24328.40   24332.0                  -0.9324   \n",
       "37  HD137613.txt    24357.250    24355.50   24359.0                  -0.7433   \n",
       "38  HD137613.txt    24365.150    24364.00   24366.3                  -0.7455   \n",
       "39  HD137613.txt    24393.850    24392.00   24395.7                  -1.2761   \n",
       "40  HD137613.txt    24576.000    24574.60   24577.4                  -1.1673   \n",
       "41  HD137613.txt    24589.750    24585.50   24594.0                  -0.4044   \n",
       "42  HD137613.txt    24605.250    24604.00   24606.5                  -0.5208   \n",
       "43  HD137613.txt    24683.350    24682.00   24684.7                  -1.4422   \n",
       "44  HD137613.txt    24721.000    24719.00   24723.0                  -2.4647   \n",
       "45  HD137613.txt    24837.200    24836.00   24838.4                  -1.0958   \n",
       "\n",
       "    Fe_H    O_Fe  Microturb  Macroturb  rotation  chi_squared         ew  \\\n",
       "0    0.0 -0.0883        6.5        0.0       0.0     5.711419   517.5926   \n",
       "1    0.0  0.0504        6.5        0.0       0.0     5.938167   749.3225   \n",
       "2    0.0 -0.0104        6.5        0.0       0.0     3.053228   485.7841   \n",
       "3    0.0  0.0594        6.5        0.0       0.0     7.884350  1020.2354   \n",
       "4    0.0  0.0364        6.5        0.0       0.0     4.015139   565.6724   \n",
       "5    0.0  0.0544        6.5        0.0       0.0     6.849334   911.7677   \n",
       "6    0.0  0.0070        6.5        0.0       0.0    10.397881   514.7136   \n",
       "7    0.0  0.0267        6.5        0.0       0.0     6.313886   459.5651   \n",
       "8    0.0  0.0409        6.5        0.0       0.0     5.682548   722.1251   \n",
       "9    0.0  0.0192        6.5        0.0       0.0     5.623472   408.8981   \n",
       "10   0.0  0.0160        6.5        0.0       0.0     2.965960   333.0912   \n",
       "11   0.0  0.1002        6.5        0.0       0.0     2.753606   373.0281   \n",
       "12   0.0  0.0416        6.5        0.0       0.0     5.500365   362.4045   \n",
       "13   0.0  0.0479        6.5        0.0       0.0     9.955202   513.2098   \n",
       "14   0.0 -0.0267        6.5        0.0       0.0     2.203701   297.3801   \n",
       "15   0.0 -0.0189        6.5        0.0       0.0     3.432009   670.4999   \n",
       "16   0.0  0.1001        6.5        0.0       0.0    13.074427   888.3166   \n",
       "17   0.0  0.0259        6.5        0.0       0.0    11.439562   803.6778   \n",
       "18   0.0  0.0898        6.5        0.0       0.0     3.997152   884.6946   \n",
       "19   0.0  0.0112        6.5        0.0       0.0     5.340487   665.4382   \n",
       "20   0.0  0.1469        6.5        0.0       0.0     8.438971  1081.4613   \n",
       "21   0.0  0.0664        6.5        0.0       0.0     4.275341   883.2908   \n",
       "22   0.0  0.1533        6.5        0.0       0.0     2.622764   594.9585   \n",
       "23   0.0  0.0435        6.5        0.0       0.0    16.930543   719.7580   \n",
       "24   0.0  0.0910        6.5        0.0       0.0     9.162735   599.6982   \n",
       "25   0.0  0.1725        6.5        0.0       0.0     2.295497   627.6815   \n",
       "26   0.0  0.1778        6.5        0.0       0.0     9.601344   635.4930   \n",
       "27   0.0  0.1760        6.5        0.0       0.0     1.771151   434.4645   \n",
       "28   0.0 -0.1909        6.5        0.0       0.0    11.583391   498.0069   \n",
       "29   0.0 -0.0537        6.5        0.0       0.0     9.168583   694.7733   \n",
       "30   0.0  0.0875        6.5        0.0       0.0    16.143874  1273.8110   \n",
       "31   0.0 -0.0339        6.5        0.0       0.0     5.564156   932.6902   \n",
       "32   0.0  0.0732        6.5        0.0       0.0    22.287813  1871.7660   \n",
       "33   0.0 -0.0290        6.5        0.0       0.0     2.154142   484.2786   \n",
       "34   0.0 -0.0255        6.5        0.0       0.0     4.446912   550.1954   \n",
       "35   0.0  0.0248        6.5        0.0       0.0     6.184616  1448.1090   \n",
       "36   0.0  0.0131        6.5        0.0       0.0     3.125851   463.1525   \n",
       "37   0.0  0.0418        6.5        0.0       0.0     6.120058   591.1450   \n",
       "38   0.0  0.1202        6.5        0.0       0.0     3.418878   277.1361   \n",
       "39   0.0 -0.1297        6.5        0.0       0.0     6.473057   547.3728   \n",
       "40   0.0 -0.1194        6.5        0.0       0.0    14.724753   510.9444   \n",
       "41   0.0  0.0455        6.5        0.0       0.0    12.998115  1625.1464   \n",
       "42   0.0 -0.0463        6.5        0.0       0.0     6.306652   309.9076   \n",
       "43   0.0 -0.0717        6.5        0.0       0.0    10.202024   304.5560   \n",
       "44   0.0 -0.0571        6.5        0.0       0.0     2.656733   647.0560   \n",
       "45   0.0 -0.1005        6.5        0.0       0.0     5.130926   478.0122   \n",
       "\n",
       "    flag_error  flag_warning  \n",
       "0            0             0  \n",
       "1            0             0  \n",
       "2            0             0  \n",
       "3            0             0  \n",
       "4            0             0  \n",
       "5            0             0  \n",
       "6            0             0  \n",
       "7            0             0  \n",
       "8            0             0  \n",
       "9            0             0  \n",
       "10           0             0  \n",
       "11           0             0  \n",
       "12           0             0  \n",
       "13           0             0  \n",
       "14           0             0  \n",
       "15           0             0  \n",
       "16           0             0  \n",
       "17           0             0  \n",
       "18           0             0  \n",
       "19           0             0  \n",
       "20           0             0  \n",
       "21           0             0  \n",
       "22           0             0  \n",
       "23           0             0  \n",
       "24           0             0  \n",
       "25           0             0  \n",
       "26           0             0  \n",
       "27           0             0  \n",
       "28           0             0  \n",
       "29           0             0  \n",
       "30           0             0  \n",
       "31           0             0  \n",
       "32           0             0  \n",
       "33           0             0  \n",
       "34           0             0  \n",
       "35           0             0  \n",
       "36           0             0  \n",
       "37           0             0  \n",
       "38           0             0  \n",
       "39           0             0  \n",
       "40           0             0  \n",
       "41           0             0  \n",
       "42           0             0  \n",
       "43           0             0  \n",
       "44           0             0  \n",
       "45           0             0  "
      ]
     },
     "execution_count": 67,
     "metadata": {},
     "output_type": "execute_result"
    }
   ],
   "source": [
    "output_results_pd_df"
   ]
  },
  {
   "cell_type": "code",
   "execution_count": 68,
   "metadata": {},
   "outputs": [
    {
     "name": "stdout",
     "output_type": "stream",
     "text": [
      "23255.5  23253.5  23257.5\n",
      "23261.3  23259.4  23263.2\n",
      "23274.0  23272.0  23276.0\n",
      "23280.0  23277.6  23282.4\n",
      "23304.0  23302.0  23306.0\n",
      "23313.5  23311.0  23316.0\n",
      "23362.1  23360.7  23363.5\n",
      "23373.0  23371.5  23374.5\n",
      "23385.2  23383.2  23387.2\n",
      "23421.0  23419.79  23422.2\n",
      "23447.75  23446.5  23449.0\n",
      "23476.045  23474.79  23477.3\n",
      "23718.15  23717.0  23719.3\n",
      "23731.5  23730.0  23733.0\n",
      "23759.0  23757.5  23760.5\n",
      "23794.95  23793.6  23796.3\n",
      "23799.0  23797.0  23801.0\n",
      "23803.5  23802.0  23805.0\n",
      "23808.5  23807.0  23810.0\n",
      "23878.5  23877.0  23880.0\n",
      "23918.25  23916.0  23920.5\n",
      "24003.0  24001.0  24005.0\n",
      "24016.25  24015.0  24017.5\n",
      "24022.6  24020.6  24024.6\n",
      "24035.25  24033.5  24037.0\n",
      "24044.75  24043.5  24046.0\n",
      "24059.5  24058.0  24061.0\n",
      "24065.55  24064.1  24067.0\n",
      "24099.75  24098.5  24101.0\n",
      "24115.2  24113.79  24116.6\n",
      "24121.5  24119.0  24124.0\n",
      "24166.25  24164.0  24168.5\n",
      "24285.75  24284.5  24287.0\n",
      "24299.0  24297.5  24300.5\n",
      "24310.35  24305.7  24315.0\n",
      "24330.2  24328.4  24332.0\n",
      "24357.25  24355.5  24359.0\n",
      "24365.15  24364.0  24366.3\n",
      "24393.85  24392.0  24395.7\n",
      "24576.0  24574.6  24577.4\n",
      "24589.75  24585.5  24594.0\n",
      "24605.25  24604.0  24606.5\n",
      "24683.35  24682.0  24684.7\n",
      "24721.0  24719.0  24723.0\n",
      "24837.2  24836.0  24838.4\n"
     ]
    }
   ],
   "source": [
    "for i in range(len(output_trimmed)):    \n",
    "    print(f\"{output_trimmed['wave_center'].iloc[i]}  {output_trimmed['wave_start'].iloc[i]}  {output_trimmed['wave_end'].iloc[i]}\")"
   ]
  },
  {
   "cell_type": "code",
   "execution_count": 69,
   "metadata": {},
   "outputs": [
    {
     "data": {
      "text/plain": [
       "(np.float64(8.794), np.float64(0.082))"
      ]
     },
     "execution_count": 69,
     "metadata": {},
     "output_type": "execute_result"
    }
   ],
   "source": [
    "(solar_abundances['O']+np.mean(output_trimmed['O_Fe'])).round(3), np.std(output_trimmed['O_Fe']).round(3)"
   ]
  },
  {
   "cell_type": "code",
   "execution_count": 70,
   "metadata": {},
   "outputs": [
    {
     "data": {
      "text/plain": [
       "<matplotlib.colorbar.Colorbar at 0x729f0b7114f0>"
      ]
     },
     "execution_count": 70,
     "metadata": {},
     "output_type": "execute_result"
    },
    {
     "data": {
      "image/png": "[encoded data removed]",
      "text/plain": [
       "<Figure size 800x600 with 2 Axes>"
      ]
     },
     "metadata": {},
     "output_type": "display_data"
    }
   ],
   "source": [
    "plt.scatter(output_trimmed['wave_center'], output_trimmed['O_Fe']+solar_abundances['O'], c = output_trimmed['chi_squared'], cmap = 'inferno')\n",
    "plt.colorbar()"
   ]
  },
  {
   "cell_type": "code",
   "execution_count": 50,
   "metadata": {},
   "outputs": [
    {
     "name": "stderr",
     "output_type": "stream",
     "text": [
      "/media/advait/DATA/research/rcb-project/TSFitPy/plotting_tools/scripts_for_plotting.py:109: FutureWarning: errors='ignore' is deprecated and will raise in a future version. Use to_numeric without passing `errors` and catch exceptions explicitly instead\n",
      "  output_file_df = output_file_df.apply(pd.to_numeric, errors='ignore')\n"
     ]
    }
   ],
   "source": [
    "outpath = \"/media/advait/DATA/research/rcb-project/TSFitPy/output_files/hd137613/\"\n",
    "# find the newest folder in the directory\n",
    "import glob\n",
    "newest_folder = max(glob.glob(outpath + \"/*\"), key=os.path.getctime)\n",
    "config_dict = load_output_data(newest_folder)\n",
    "output_results_pd_df = config_dict[\"output_file_df\"]\n",
    "output_trimmed = (output_results_pd_df[output_results_pd_df[\"chi_squared\"] <25])\n",
    "# output_trimmed = output_trimmed[output_trimmed[\"C_Fe\"] > 0]"
   ]
  },
  {
   "cell_type": "code",
   "execution_count": 51,
   "metadata": {},
   "outputs": [
    {
     "data": {
      "text/plain": [
       "<matplotlib.colorbar.Colorbar at 0x749e25436cc0>"
      ]
     },
     "execution_count": 51,
     "metadata": {},
     "output_type": "execute_result"
    },
    {
     "data": {
      "image/png": "[encoded data removed]",
      "text/plain": [
       "<Figure size 800x600 with 2 Axes>"
      ]
     },
     "metadata": {},
     "output_type": "display_data"
    }
   ],
   "source": [
    "plt.scatter(output_trimmed['wave_center'], output_trimmed['O_Fe']+solar_abundances['O'], c = output_trimmed['chi_squared'], cmap = 'inferno')\n",
    "plt.colorbar()"
   ]
  },
  {
   "cell_type": "code",
   "execution_count": 52,
   "metadata": {},
   "outputs": [
    {
     "data": {
      "text/plain": [
       "(np.float64(8.723), np.float64(0.083))"
      ]
     },
     "execution_count": 52,
     "metadata": {},
     "output_type": "execute_result"
    }
   ],
   "source": [
    "(solar_abundances['O']+np.mean(output_trimmed['O_Fe'])).round(3), np.std(output_trimmed['O_Fe']).round(3)"
   ]
  },
  {
   "cell_type": "code",
   "execution_count": 86,
   "metadata": {},
   "outputs": [
    {
     "data": {
      "text/plain": [
       "np.float64(9.084074523518728)"
      ]
     },
     "execution_count": 86,
     "metadata": {},
     "output_type": "execute_result"
    }
   ],
   "source": [
    "np.log(np.exp(8.498) + np.exp(8.271))"
   ]
  },
  {
   "cell_type": "code",
   "execution_count": 88,
   "metadata": {},
   "outputs": [
    {
     "data": {
      "text/plain": [
       "np.float64(0.7969207822901407)"
      ]
     },
     "execution_count": 88,
     "metadata": {},
     "output_type": "execute_result"
    }
   ],
   "source": [
    "np.exp(8.271)/(np.exp(8.498))"
   ]
  },
  {
   "cell_type": "code",
   "execution_count": 96,
   "metadata": {},
   "outputs": [
    {
     "name": "stderr",
     "output_type": "stream",
     "text": [
      "/tmp/ipykernel_1361439/265521429.py:1: ParserWarning: Falling back to the 'python' engine because the 'c' engine does not support regex separators (separators > 1 char and different from '\\s+' are interpreted as regex); you can avoid this warning by specifying engine='python'.\n",
      "  fitlist = pd.read_csv('/media/advait/DATA/research/rcb-project/TSFitPy/input_files/hd137613/c2', sep='  ')\n"
     ]
    }
   ],
   "source": [
    "fitlist = pd.read_csv('/media/advait/DATA/research/rcb-project/TSFitPy/input_files/hd137613/c2', sep='  ')"
   ]
  },
  {
   "cell_type": "code",
   "execution_count": 113,
   "metadata": {},
   "outputs": [
    {
     "data": {
      "text/plain": [
       "array([0.35, 0.35, 0.35, 0.35, 0.35, 0.36, 0.36, 0.36, 0.36, 0.36, 0.37,\n",
       "       0.37, 0.37, 0.37, 0.37, 0.38, 0.38, 0.38, 0.38, 0.38, 0.39, 0.39,\n",
       "       0.39, 0.39, 0.39, 0.4 , 0.4 , 0.4 , 0.4 , 0.4 , 0.41, 0.41, 0.41,\n",
       "       0.41, 0.41, 0.42, 0.42, 0.42, 0.42, 0.42, 0.43, 0.43, 0.43, 0.43,\n",
       "       0.43, 0.44, 0.44, 0.44, 0.44, 0.44, 0.45, 0.45, 0.45, 0.45, 0.45,\n",
       "       0.46, 0.46, 0.46, 0.46, 0.46, 0.47, 0.47, 0.47, 0.47, 0.47, 0.48,\n",
       "       0.48, 0.48, 0.48, 0.48, 0.49, 0.49, 0.49, 0.49, 0.49, 0.5 , 0.5 ,\n",
       "       0.5 , 0.5 , 0.5 , 0.51, 0.51, 0.51, 0.51, 0.51, 0.52, 0.52, 0.52,\n",
       "       0.52, 0.52, 0.53, 0.53, 0.53, 0.53, 0.53, 0.54, 0.54, 0.54, 0.54,\n",
       "       0.54, 0.55, 0.55, 0.55, 0.55, 0.55, 0.56, 0.56, 0.56, 0.56, 0.56,\n",
       "       0.57, 0.57, 0.57, 0.57, 0.57, 0.58, 0.58, 0.58, 0.58, 0.58, 0.59,\n",
       "       0.59, 0.59, 0.59, 0.59, 0.6 , 0.6 , 0.6 , 0.6 , 0.6 , 0.61, 0.61,\n",
       "       0.61, 0.61, 0.61, 0.62, 0.62, 0.62, 0.62, 0.62, 0.63, 0.63, 0.63,\n",
       "       0.63, 0.63, 0.64, 0.64, 0.64, 0.64, 0.64, 0.65, 0.65, 0.65, 0.65,\n",
       "       0.65, 0.66, 0.66, 0.66, 0.66, 0.66, 0.67, 0.67, 0.67, 0.67, 0.67,\n",
       "       0.68, 0.68, 0.68, 0.68, 0.68, 0.69, 0.69, 0.69, 0.69, 0.69])"
      ]
     },
     "execution_count": 113,
     "metadata": {},
     "output_type": "execute_result"
    }
   ],
   "source": [
    "rats = np.arange(0.35, 0.7,0.01)\n",
    "rats = np.repeat(rats, 5)\n",
    "rats"
   ]
  },
  {
   "cell_type": "code",
   "execution_count": 116,
   "metadata": {},
   "outputs": [
    {
     "data": {
      "text/plain": [
       "175"
      ]
     },
     "execution_count": 116,
     "metadata": {},
     "output_type": "execute_result"
    }
   ],
   "source": [
    "len(rats)"
   ]
  },
  {
   "cell_type": "code",
   "execution_count": 117,
   "metadata": {},
   "outputs": [
    {
     "data": {
      "text/html": [
       "<div>\n",
       "<style scoped>\n",
       "    .dataframe tbody tr th:only-of-type {\n",
       "        vertical-align: middle;\n",
       "    }\n",
       "\n",
       "    .dataframe tbody tr th {\n",
       "        vertical-align: top;\n",
       "    }\n",
       "\n",
       "    .dataframe thead th {\n",
       "        text-align: right;\n",
       "    }\n",
       "</style>\n",
       "<table border=\"1\" class=\"dataframe\">\n",
       "  <thead>\n",
       "    <tr style=\"text-align: right;\">\n",
       "      <th></th>\n",
       "      <th>#name_of_spectrum_to_fit</th>\n",
       "      <th>rv</th>\n",
       "      <th>teff</th>\n",
       "      <th>logg</th>\n",
       "      <th>[Fe/H]</th>\n",
       "      <th>Input_vmicroturb</th>\n",
       "      <th>A(H)</th>\n",
       "      <th>A(He)</th>\n",
       "      <th>A(C)</th>\n",
       "      <th>A(O)</th>\n",
       "      <th>A(Fe)</th>\n",
       "      <th>A(N)</th>\n",
       "      <th>A(Mg)</th>\n",
       "      <th>oisorat</th>\n",
       "    </tr>\n",
       "  </thead>\n",
       "  <tbody>\n",
       "    <tr>\n",
       "      <th>0</th>\n",
       "      <td>HD137613.txt</td>\n",
       "      <td>0.0</td>\n",
       "      <td>5500.0</td>\n",
       "      <td>1.0</td>\n",
       "      <td>0.0</td>\n",
       "      <td>6.5</td>\n",
       "      <td>7.5</td>\n",
       "      <td>11.5</td>\n",
       "      <td>9.7214</td>\n",
       "      <td>8.8</td>\n",
       "      <td>7.3</td>\n",
       "      <td>9.195</td>\n",
       "      <td>7.75</td>\n",
       "      <td>0.35</td>\n",
       "    </tr>\n",
       "    <tr>\n",
       "      <th>1</th>\n",
       "      <td>HD137613.txt</td>\n",
       "      <td>0.0</td>\n",
       "      <td>5500.0</td>\n",
       "      <td>1.0</td>\n",
       "      <td>0.0</td>\n",
       "      <td>6.5</td>\n",
       "      <td>7.5</td>\n",
       "      <td>11.5</td>\n",
       "      <td>9.7214</td>\n",
       "      <td>8.8</td>\n",
       "      <td>7.3</td>\n",
       "      <td>9.195</td>\n",
       "      <td>7.75</td>\n",
       "      <td>0.35</td>\n",
       "    </tr>\n",
       "    <tr>\n",
       "      <th>2</th>\n",
       "      <td>HD137613.txt</td>\n",
       "      <td>0.0</td>\n",
       "      <td>5500.0</td>\n",
       "      <td>1.0</td>\n",
       "      <td>0.0</td>\n",
       "      <td>6.5</td>\n",
       "      <td>7.5</td>\n",
       "      <td>11.5</td>\n",
       "      <td>9.7214</td>\n",
       "      <td>8.8</td>\n",
       "      <td>7.3</td>\n",
       "      <td>9.195</td>\n",
       "      <td>7.75</td>\n",
       "      <td>0.35</td>\n",
       "    </tr>\n",
       "    <tr>\n",
       "      <th>3</th>\n",
       "      <td>HD137613.txt</td>\n",
       "      <td>0.0</td>\n",
       "      <td>5500.0</td>\n",
       "      <td>1.0</td>\n",
       "      <td>0.0</td>\n",
       "      <td>6.5</td>\n",
       "      <td>7.5</td>\n",
       "      <td>11.5</td>\n",
       "      <td>9.7214</td>\n",
       "      <td>8.8</td>\n",
       "      <td>7.3</td>\n",
       "      <td>9.195</td>\n",
       "      <td>7.75</td>\n",
       "      <td>0.35</td>\n",
       "    </tr>\n",
       "    <tr>\n",
       "      <th>4</th>\n",
       "      <td>HD137613.txt</td>\n",
       "      <td>0.0</td>\n",
       "      <td>5500.0</td>\n",
       "      <td>1.0</td>\n",
       "      <td>0.0</td>\n",
       "      <td>6.5</td>\n",
       "      <td>7.5</td>\n",
       "      <td>11.5</td>\n",
       "      <td>9.7214</td>\n",
       "      <td>8.8</td>\n",
       "      <td>7.3</td>\n",
       "      <td>9.195</td>\n",
       "      <td>7.75</td>\n",
       "      <td>0.35</td>\n",
       "    </tr>\n",
       "    <tr>\n",
       "      <th>...</th>\n",
       "      <td>...</td>\n",
       "      <td>...</td>\n",
       "      <td>...</td>\n",
       "      <td>...</td>\n",
       "      <td>...</td>\n",
       "      <td>...</td>\n",
       "      <td>...</td>\n",
       "      <td>...</td>\n",
       "      <td>...</td>\n",
       "      <td>...</td>\n",
       "      <td>...</td>\n",
       "      <td>...</td>\n",
       "      <td>...</td>\n",
       "      <td>...</td>\n",
       "    </tr>\n",
       "    <tr>\n",
       "      <th>170</th>\n",
       "      <td>HD137613.txt</td>\n",
       "      <td>0.0</td>\n",
       "      <td>5500.0</td>\n",
       "      <td>1.0</td>\n",
       "      <td>0.0</td>\n",
       "      <td>6.5</td>\n",
       "      <td>7.5</td>\n",
       "      <td>11.5</td>\n",
       "      <td>9.7214</td>\n",
       "      <td>8.8</td>\n",
       "      <td>7.3</td>\n",
       "      <td>9.195</td>\n",
       "      <td>7.75</td>\n",
       "      <td>0.69</td>\n",
       "    </tr>\n",
       "    <tr>\n",
       "      <th>171</th>\n",
       "      <td>HD137613.txt</td>\n",
       "      <td>0.0</td>\n",
       "      <td>5500.0</td>\n",
       "      <td>1.0</td>\n",
       "      <td>0.0</td>\n",
       "      <td>6.5</td>\n",
       "      <td>7.5</td>\n",
       "      <td>11.5</td>\n",
       "      <td>9.7214</td>\n",
       "      <td>8.8</td>\n",
       "      <td>7.3</td>\n",
       "      <td>9.195</td>\n",
       "      <td>7.75</td>\n",
       "      <td>0.69</td>\n",
       "    </tr>\n",
       "    <tr>\n",
       "      <th>172</th>\n",
       "      <td>HD137613.txt</td>\n",
       "      <td>0.0</td>\n",
       "      <td>5500.0</td>\n",
       "      <td>1.0</td>\n",
       "      <td>0.0</td>\n",
       "      <td>6.5</td>\n",
       "      <td>7.5</td>\n",
       "      <td>11.5</td>\n",
       "      <td>9.7214</td>\n",
       "      <td>8.8</td>\n",
       "      <td>7.3</td>\n",
       "      <td>9.195</td>\n",
       "      <td>7.75</td>\n",
       "      <td>0.69</td>\n",
       "    </tr>\n",
       "    <tr>\n",
       "      <th>173</th>\n",
       "      <td>HD137613.txt</td>\n",
       "      <td>0.0</td>\n",
       "      <td>5500.0</td>\n",
       "      <td>1.0</td>\n",
       "      <td>0.0</td>\n",
       "      <td>6.5</td>\n",
       "      <td>7.5</td>\n",
       "      <td>11.5</td>\n",
       "      <td>9.7214</td>\n",
       "      <td>8.8</td>\n",
       "      <td>7.3</td>\n",
       "      <td>9.195</td>\n",
       "      <td>7.75</td>\n",
       "      <td>0.69</td>\n",
       "    </tr>\n",
       "    <tr>\n",
       "      <th>174</th>\n",
       "      <td>HD137613.txt</td>\n",
       "      <td>0.0</td>\n",
       "      <td>5500.0</td>\n",
       "      <td>1.0</td>\n",
       "      <td>0.0</td>\n",
       "      <td>6.5</td>\n",
       "      <td>7.5</td>\n",
       "      <td>11.5</td>\n",
       "      <td>9.7214</td>\n",
       "      <td>8.8</td>\n",
       "      <td>7.3</td>\n",
       "      <td>9.195</td>\n",
       "      <td>7.75</td>\n",
       "      <td>0.69</td>\n",
       "    </tr>\n",
       "  </tbody>\n",
       "</table>\n",
       "<p>175 rows × 14 columns</p>\n",
       "</div>"
      ],
      "text/plain": [
       "    #name_of_spectrum_to_fit   rv    teff  logg  [Fe/H]  Input_vmicroturb  \\\n",
       "0               HD137613.txt  0.0  5500.0   1.0     0.0               6.5   \n",
       "1               HD137613.txt  0.0  5500.0   1.0     0.0               6.5   \n",
       "2               HD137613.txt  0.0  5500.0   1.0     0.0               6.5   \n",
       "3               HD137613.txt  0.0  5500.0   1.0     0.0               6.5   \n",
       "4               HD137613.txt  0.0  5500.0   1.0     0.0               6.5   \n",
       "..                       ...  ...     ...   ...     ...               ...   \n",
       "170             HD137613.txt  0.0  5500.0   1.0     0.0               6.5   \n",
       "171             HD137613.txt  0.0  5500.0   1.0     0.0               6.5   \n",
       "172             HD137613.txt  0.0  5500.0   1.0     0.0               6.5   \n",
       "173             HD137613.txt  0.0  5500.0   1.0     0.0               6.5   \n",
       "174             HD137613.txt  0.0  5500.0   1.0     0.0               6.5   \n",
       "\n",
       "     A(H)  A(He)    A(C)  A(O)  A(Fe)   A(N)  A(Mg)  oisorat  \n",
       "0     7.5   11.5  9.7214   8.8    7.3  9.195   7.75     0.35  \n",
       "1     7.5   11.5  9.7214   8.8    7.3  9.195   7.75     0.35  \n",
       "2     7.5   11.5  9.7214   8.8    7.3  9.195   7.75     0.35  \n",
       "3     7.5   11.5  9.7214   8.8    7.3  9.195   7.75     0.35  \n",
       "4     7.5   11.5  9.7214   8.8    7.3  9.195   7.75     0.35  \n",
       "..    ...    ...     ...   ...    ...    ...    ...      ...  \n",
       "170   7.5   11.5  9.7214   8.8    7.3  9.195   7.75     0.69  \n",
       "171   7.5   11.5  9.7214   8.8    7.3  9.195   7.75     0.69  \n",
       "172   7.5   11.5  9.7214   8.8    7.3  9.195   7.75     0.69  \n",
       "173   7.5   11.5  9.7214   8.8    7.3  9.195   7.75     0.69  \n",
       "174   7.5   11.5  9.7214   8.8    7.3  9.195   7.75     0.69  \n",
       "\n",
       "[175 rows x 14 columns]"
      ]
     },
     "execution_count": 117,
     "metadata": {},
     "output_type": "execute_result"
    }
   ],
   "source": [
    "# Extract the last row\n",
    "last_row = fitlist.iloc[-1]\n",
    "\n",
    "# Create a new DataFrame by repeating the last row n times\n",
    "new_rows = pd.DataFrame([last_row] * (len(rats) - len(fitlist)), columns=fitlist.columns)\n",
    "\n",
    "# Append the new rows to the original DataFrame\n",
    "fitlist2 = pd.concat([fitlist, new_rows], ignore_index=True)\n",
    "\n",
    "fitlist2['oisorat'] = rats\n",
    "fitlist2"
   ]
  },
  {
   "cell_type": "code",
   "execution_count": 118,
   "metadata": {},
   "outputs": [],
   "source": [
    "fitlist2.to_csv('/media/advait/DATA/research/rcb-project/TSFitPy/input_files/hd137613/fitlist_comb', sep=' ', index=False)"
   ]
  },
  {
   "cell_type": "code",
   "execution_count": 9,
   "metadata": {},
   "outputs": [],
   "source": [
    "allpath = '/media/advait/DATA/research/rcb-project/TSFitPy/output_files/hd137613/Oct-17-2024-15-56-09_0.9324879596047584_LTE_O_1D/output'\n",
    "# allpath = \"/media/advait/DATA/research/rcb-project/TSFitPy/output_files/hd137613/Oct-17-2024-23-13-22_0.35833114159931434_LTE_O_1D/output\"\n",
    "df1 = pd.read_csv(allpath, sep='\\t')\n",
    "# allpath = '/media/advait/DATA/research/rcb-project/TSFitPy/output_files/asas-rcb-21-2/Oct-16-2024-10-19-06_0.7760709184924286_LTE_O_1D/output'\n",
    "# df2 = pd.read_csv(allpath, sep='\\t')\n"
   ]
  },
  {
   "cell_type": "code",
   "execution_count": 10,
   "metadata": {},
   "outputs": [],
   "source": [
    "# df_fine = pd.concat([df1,df2])\n",
    "df_fine = df1\n",
    "df_fine.sort_values(by='oisorat', inplace=True)\n",
    "rats = np.unique(df_fine['oisorat'])"
   ]
  },
  {
   "cell_type": "code",
   "execution_count": 11,
   "metadata": {},
   "outputs": [
    {
     "data": {
      "text/html": [
       "<div>\n",
       "<style scoped>\n",
       "    .dataframe tbody tr th:only-of-type {\n",
       "        vertical-align: middle;\n",
       "    }\n",
       "\n",
       "    .dataframe tbody tr th {\n",
       "        vertical-align: top;\n",
       "    }\n",
       "\n",
       "    .dataframe thead th {\n",
       "        text-align: right;\n",
       "    }\n",
       "</style>\n",
       "<table border=\"1\" class=\"dataframe\">\n",
       "  <thead>\n",
       "    <tr style=\"text-align: right;\">\n",
       "      <th></th>\n",
       "      <th>specname</th>\n",
       "      <th>O_Fe</th>\n",
       "      <th>Doppler_Shift_add_to_RV</th>\n",
       "      <th>chi_squared</th>\n",
       "      <th>vmac</th>\n",
       "      <th>red_chi_squared</th>\n",
       "      <th>oisorat</th>\n",
       "    </tr>\n",
       "  </thead>\n",
       "  <tbody>\n",
       "    <tr>\n",
       "      <th>0</th>\n",
       "      <td>HD137613.txt</td>\n",
       "      <td>-0.071679</td>\n",
       "      <td>-0.473544</td>\n",
       "      <td>3.959489</td>\n",
       "      <td>0.0</td>\n",
       "      <td>9.356317</td>\n",
       "      <td>0.35</td>\n",
       "    </tr>\n",
       "    <tr>\n",
       "      <th>1</th>\n",
       "      <td>HD137613.txt</td>\n",
       "      <td>-0.070000</td>\n",
       "      <td>-0.419780</td>\n",
       "      <td>4.004963</td>\n",
       "      <td>0.0</td>\n",
       "      <td>9.423958</td>\n",
       "      <td>0.35</td>\n",
       "    </tr>\n",
       "    <tr>\n",
       "      <th>2</th>\n",
       "      <td>HD137613.txt</td>\n",
       "      <td>-0.071578</td>\n",
       "      <td>-0.418221</td>\n",
       "      <td>4.010714</td>\n",
       "      <td>0.0</td>\n",
       "      <td>9.466629</td>\n",
       "      <td>0.35</td>\n",
       "    </tr>\n",
       "    <tr>\n",
       "      <th>3</th>\n",
       "      <td>HD137613.txt</td>\n",
       "      <td>-0.074314</td>\n",
       "      <td>-0.336052</td>\n",
       "      <td>4.107217</td>\n",
       "      <td>0.0</td>\n",
       "      <td>9.739456</td>\n",
       "      <td>0.35</td>\n",
       "    </tr>\n",
       "    <tr>\n",
       "      <th>4</th>\n",
       "      <td>HD137613.txt</td>\n",
       "      <td>-0.077374</td>\n",
       "      <td>-0.448116</td>\n",
       "      <td>4.003339</td>\n",
       "      <td>0.0</td>\n",
       "      <td>9.562695</td>\n",
       "      <td>0.35</td>\n",
       "    </tr>\n",
       "    <tr>\n",
       "      <th>...</th>\n",
       "      <td>...</td>\n",
       "      <td>...</td>\n",
       "      <td>...</td>\n",
       "      <td>...</td>\n",
       "      <td>...</td>\n",
       "      <td>...</td>\n",
       "      <td>...</td>\n",
       "    </tr>\n",
       "    <tr>\n",
       "      <th>170</th>\n",
       "      <td>HD137613.txt</td>\n",
       "      <td>-0.101669</td>\n",
       "      <td>-0.653997</td>\n",
       "      <td>3.465523</td>\n",
       "      <td>0.0</td>\n",
       "      <td>8.499435</td>\n",
       "      <td>0.69</td>\n",
       "    </tr>\n",
       "    <tr>\n",
       "      <th>171</th>\n",
       "      <td>HD137613.txt</td>\n",
       "      <td>-0.102761</td>\n",
       "      <td>-0.486558</td>\n",
       "      <td>3.602718</td>\n",
       "      <td>0.0</td>\n",
       "      <td>8.797562</td>\n",
       "      <td>0.69</td>\n",
       "    </tr>\n",
       "    <tr>\n",
       "      <th>172</th>\n",
       "      <td>HD137613.txt</td>\n",
       "      <td>-0.106612</td>\n",
       "      <td>-0.552891</td>\n",
       "      <td>3.556538</td>\n",
       "      <td>0.0</td>\n",
       "      <td>8.749684</td>\n",
       "      <td>0.69</td>\n",
       "    </tr>\n",
       "    <tr>\n",
       "      <th>173</th>\n",
       "      <td>HD137613.txt</td>\n",
       "      <td>-0.098755</td>\n",
       "      <td>-0.652786</td>\n",
       "      <td>3.459382</td>\n",
       "      <td>0.0</td>\n",
       "      <td>8.450596</td>\n",
       "      <td>0.69</td>\n",
       "    </tr>\n",
       "    <tr>\n",
       "      <th>174</th>\n",
       "      <td>HD137613.txt</td>\n",
       "      <td>-0.094403</td>\n",
       "      <td>-0.694416</td>\n",
       "      <td>3.432906</td>\n",
       "      <td>0.0</td>\n",
       "      <td>8.347288</td>\n",
       "      <td>0.69</td>\n",
       "    </tr>\n",
       "  </tbody>\n",
       "</table>\n",
       "<p>175 rows × 7 columns</p>\n",
       "</div>"
      ],
      "text/plain": [
       "         specname      O_Fe  Doppler_Shift_add_to_RV  chi_squared  vmac  \\\n",
       "0    HD137613.txt -0.071679                -0.473544     3.959489   0.0   \n",
       "1    HD137613.txt -0.070000                -0.419780     4.004963   0.0   \n",
       "2    HD137613.txt -0.071578                -0.418221     4.010714   0.0   \n",
       "3    HD137613.txt -0.074314                -0.336052     4.107217   0.0   \n",
       "4    HD137613.txt -0.077374                -0.448116     4.003339   0.0   \n",
       "..            ...       ...                      ...          ...   ...   \n",
       "170  HD137613.txt -0.101669                -0.653997     3.465523   0.0   \n",
       "171  HD137613.txt -0.102761                -0.486558     3.602718   0.0   \n",
       "172  HD137613.txt -0.106612                -0.552891     3.556538   0.0   \n",
       "173  HD137613.txt -0.098755                -0.652786     3.459382   0.0   \n",
       "174  HD137613.txt -0.094403                -0.694416     3.432906   0.0   \n",
       "\n",
       "     red_chi_squared  oisorat  \n",
       "0           9.356317     0.35  \n",
       "1           9.423958     0.35  \n",
       "2           9.466629     0.35  \n",
       "3           9.739456     0.35  \n",
       "4           9.562695     0.35  \n",
       "..               ...      ...  \n",
       "170         8.499435     0.69  \n",
       "171         8.797562     0.69  \n",
       "172         8.749684     0.69  \n",
       "173         8.450596     0.69  \n",
       "174         8.347288     0.69  \n",
       "\n",
       "[175 rows x 7 columns]"
      ]
     },
     "execution_count": 11,
     "metadata": {},
     "output_type": "execute_result"
    }
   ],
   "source": [
    "df_fine"
   ]
  },
  {
   "cell_type": "code",
   "execution_count": 4,
   "metadata": {},
   "outputs": [
    {
     "data": {
      "text/plain": [
       "np.float64(-0.3113629194376325)"
      ]
     },
     "execution_count": 4,
     "metadata": {},
     "output_type": "execute_result"
    }
   ],
   "source": [
    "np.max(df_fine['Doppler_Shift_add_to_RV'])"
   ]
  },
  {
   "cell_type": "code",
   "execution_count": 12,
   "metadata": {},
   "outputs": [
    {
     "name": "stderr",
     "output_type": "stream",
     "text": [
      "/tmp/ipykernel_747308/3174125861.py:6: SettingWithCopyWarning: \n",
      "A value is trying to be set on a copy of a slice from a DataFrame\n",
      "\n",
      "See the caveats in the documentation: https://pandas.pydata.org/pandas-docs/stable/user_guide/indexing.html#returning-a-view-versus-a-copy\n",
      "  subdf.sort_values(by='red_chi_squared', inplace=True)\n"
     ]
    }
   ],
   "source": [
    "rats = np.unique(df_fine['oisorat'])\n",
    "chis, dchis, oabunds, doabunds = [], [], [], []\n",
    "rvs = []\n",
    "for rat in rats:\n",
    "    subdf = df_fine[df_fine['oisorat'] == rat]\n",
    "    subdf.sort_values(by='red_chi_squared', inplace=True)\n",
    "    subdf = subdf.iloc[:3]\n",
    "    meanchi = np.mean(subdf['red_chi_squared'])\n",
    "    stdchi = np.std(subdf['red_chi_squared'])\n",
    "    meanoabund = np.mean(subdf['O_Fe'])\n",
    "    stdoabund = np.std(subdf['O_Fe'])\n",
    "    rv = np.mean(subdf['Doppler_Shift_add_to_RV'])\n",
    "    rvs.append(rv)\n",
    "    chis.append(meanchi)\n",
    "    dchis.append(stdchi)\n",
    "    oabunds.append(meanoabund)\n",
    "    doabunds.append(stdoabund)"
   ]
  },
  {
   "cell_type": "code",
   "execution_count": 13,
   "metadata": {},
   "outputs": [
    {
     "name": "stdout",
     "output_type": "stream",
     "text": [
      "0.52 0.14 -0.11\n"
     ]
    },
    {
     "data": {
      "text/plain": [
       "Text(0.5, 0, '16O/18O ratio')"
      ]
     },
     "execution_count": 13,
     "metadata": {},
     "output_type": "execute_result"
    },
    {
     "data": {
      "image/png": "[encoded data removed]",
      "text/plain": [
       "<Figure size 800x600 with 1 Axes>"
      ]
     },
     "metadata": {},
     "output_type": "display_data"
    }
   ],
   "source": [
    "plt.plot(rats, chis, 'ko-')\n",
    "plt.errorbar(rats, chis, yerr=dchis, fmt='ko', capsize=3)\n",
    "# plt.axhline(np.min(chis), ls='--', color='r')\n",
    "# plt.axhline(np.min(chis)+1.0, ls='--', color='r')\n",
    "# plt.axvline(3.4)\n",
    "plt.grid(which='both')\n",
    "\n",
    "# fit a 3rd degree polynomial weighted by the errors\n",
    "p = np.polyfit(rats, chis, 4, w=1/np.array(dchis))\n",
    "x = np.linspace(0.35,0.7,1000)\n",
    "y = np.polyval(p, x)\n",
    "plt.plot(x, y, 'r')\n",
    "plt.axvline(x[np.where(y == np.min(y))], color='r')\n",
    "xfit = x[np.where(y == np.min(y))]\n",
    "plt.axhline(np.min(y), color='r')\n",
    "# find nearest x value to min + 1 y value\n",
    "ybound = np.min(y) + 1.0\n",
    "diff = np.abs(y-ybound)\n",
    "idx = np.where(diff == np.min(diff))\n",
    "# find the index of next minimum\n",
    "idx2 = np.where(diff == np.partition(diff, 1)[1])\n",
    "xbounds = (x[idx]-xfit).round(2), (x[idx2]-xfit).round(2)\n",
    "plt.axvline(x[idx], color='r')\n",
    "plt.axvline(x[idx2], color='r')\n",
    "plt.axhline(ybound, color='r')\n",
    "print(xfit[0].round(2), xbounds[0][0], xbounds[1][0])\n",
    "plt.ylabel(r'$\\chi^2$')\n",
    "plt.xlabel(\"16O/18O ratio\")\n",
    "# find x values nearest to ybounds\n"
   ]
  },
  {
   "cell_type": "code",
   "execution_count": 19,
   "metadata": {},
   "outputs": [
    {
     "name": "stdout",
     "output_type": "stream",
     "text": [
      "0.66 0.053 -0.055\n"
     ]
    },
    {
     "data": {
      "image/png": "[encoded data removed]",
      "text/plain": [
       "<Figure size 800x600 with 1 Axes>"
      ]
     },
     "metadata": {},
     "output_type": "display_data"
    }
   ],
   "source": [
    "o18rats = 1/(1+rats)\n",
    "plt.plot(o18rats, chis, 'ko-')\n",
    "p = np.polyfit(o18rats, chis, 4)\n",
    "\n",
    "# Evaluate the polynomial fit on a logarithmic scale\n",
    "x = np.linspace(0.6, 0.75, 500)\n",
    "y = np.polyval(p, x)\n",
    "\n",
    "# Convert x back to the original scale for plotting\n",
    "# x_original = np.exp(x)\n",
    "\n",
    "# Plot the polynomial fit\n",
    "plt.plot(x, y, 'r')\n",
    "plt.axvline(x[np.where(y == np.min(y))], color='r')\n",
    "xfit = x[np.where(y == np.min(y))]\n",
    "plt.axhline(np.min(y), color='r')\n",
    "\n",
    "# Find nearest x value to min + 1 y value\n",
    "ybound = np.min(y) + 1.0\n",
    "diff = np.abs(y - ybound)\n",
    "idx = np.where(diff == np.min(diff))\n",
    "# Find the index of next minimum\n",
    "idx2 = np.where(diff == np.partition(diff, 1)[1])\n",
    "xbounds = (x[idx] - xfit).round(3), (x[idx2] - xfit).round(3)\n",
    "plt.axvline(x[idx], color='r')\n",
    "plt.axvline(x[idx2], color='r')\n",
    "plt.axhline(ybound, color='r')\n",
    "\n",
    "print(xfit[0].round(3), xbounds[0][0], xbounds[1][0])\n",
    "\n",
    "# Label the axes\n",
    "plt.ylabel(r'$\\chi^2$')\n",
    "plt.xlabel(\"16O/18O ratio\")\n",
    "# plt.xscale('log')\n",
    "# xs = np.linspace(np.log(300), np.log(800), 10)\n",
    "# plt.plot(np.exp(xs), np.polyval(p, (xs)), 'k.')\n",
    "plt.show()"
   ]
  },
  {
   "cell_type": "code",
   "execution_count": 165,
   "metadata": {},
   "outputs": [
    {
     "data": {
      "text/plain": [
       "<matplotlib.lines.Line2D at 0x7861abe82f00>"
      ]
     },
     "execution_count": 165,
     "metadata": {},
     "output_type": "execute_result"
    },
    {
     "data": {
      "image/png": "[encoded data removed]",
      "text/plain": [
       "<Figure size 800x600 with 1 Axes>"
      ]
     },
     "metadata": {},
     "output_type": "display_data"
    }
   ],
   "source": [
    "plt.plot(rats, np.array(oabunds)+8.77, 'ko-')\n",
    "plt.errorbar(rats, np.array(oabunds)+8.77, yerr=doabunds, fmt='ko', capsize=3)\n",
    "plt.axhline(8.695)\n",
    "# plt.axhline(8.81, color='r')\n",
    "plt.axhline(8.695-0.084, color='r')\n",
    "# plt.axhline(8.81+0.1, color='r')\n",
    "# plt.axvline(0.52)"
   ]
  },
  {
   "cell_type": "code",
   "execution_count": 166,
   "metadata": {},
   "outputs": [
    {
     "data": {
      "text/plain": [
       "[<matplotlib.lines.Line2D at 0x7861aac6f2f0>]"
      ]
     },
     "execution_count": 166,
     "metadata": {},
     "output_type": "execute_result"
    },
    {
     "data": {
      "image/png": "[encoded data removed]",
      "text/plain": [
       "<Figure size 800x600 with 1 Axes>"
      ]
     },
     "metadata": {},
     "output_type": "display_data"
    }
   ],
   "source": [
    "plt.plot(rats, rvs, 'ko-')"
   ]
  },
  {
   "cell_type": "code",
   "execution_count": 129,
   "metadata": {},
   "outputs": [
    {
     "name": "stderr",
     "output_type": "stream",
     "text": [
      "/media/advait/DATA/research/rcb-project/TSFitPy/plotting_tools/scripts_for_plotting.py:109: FutureWarning: errors='ignore' is deprecated and will raise in a future version. Use to_numeric without passing `errors` and catch exceptions explicitly instead\n",
      "  output_file_df = output_file_df.apply(pd.to_numeric, errors='ignore')\n"
     ]
    }
   ],
   "source": [
    "# outpath = \"/media/advait/DATA/research/rcb-project/TSFitPy/output_files/wise222/Oct-13-2024-22-42-15_0.9770073685963133_LTE_O_1D\"\n",
    "outpath = \"/media/advait/DATA/research/rcb-project/TSFitPy/output_files/hd137613/Oct-18-2024-11-15-46_0.5778776628396651_LTE_O_1D\"\n",
    "config_dict = load_output_data(outpath)\n",
    "output_results_pd_df = config_dict[\"output_file_df\"]\n",
    "output_trimmed = (output_results_pd_df[output_results_pd_df[\"chi_squared\"] < 20])"
   ]
  },
  {
   "cell_type": "code",
   "execution_count": 130,
   "metadata": {},
   "outputs": [
    {
     "data": {
      "text/plain": [
       "<matplotlib.colorbar.Colorbar at 0x7861ab81b7d0>"
      ]
     },
     "execution_count": 130,
     "metadata": {},
     "output_type": "execute_result"
    },
    {
     "data": {
      "image/png": "[encoded data removed]",
      "text/plain": [
       "<Figure size 800x600 with 2 Axes>"
      ]
     },
     "metadata": {},
     "output_type": "display_data"
    }
   ],
   "source": [
    "plt.scatter(output_trimmed['wave_center'], output_trimmed['O_Fe']+solar_abundances['O'], c = output_trimmed['chi_squared'], cmap = 'inferno')\n",
    "plt.colorbar()"
   ]
  },
  {
   "cell_type": "code",
   "execution_count": 131,
   "metadata": {},
   "outputs": [
    {
     "data": {
      "text/plain": [
       "(np.float64(8.695), np.float64(0.084))"
      ]
     },
     "execution_count": 131,
     "metadata": {},
     "output_type": "execute_result"
    }
   ],
   "source": [
    "(solar_abundances['O']+np.mean(output_trimmed['O_Fe'])).round(3), np.std(output_trimmed['O_Fe']).round(3)"
   ]
  },
  {
   "cell_type": "code",
   "execution_count": 135,
   "metadata": {},
   "outputs": [
    {
     "data": {
      "text/plain": [
       "np.float64(-0.07461111111111111)"
      ]
     },
     "execution_count": 135,
     "metadata": {},
     "output_type": "execute_result"
    }
   ],
   "source": [
    "np.mean(output_trimmed['O_Fe'])"
   ]
  },
  {
   "cell_type": "code",
   "execution_count": 10,
   "metadata": {},
   "outputs": [],
   "source": [
    "def printexp(n, exp, filt, howmany):\n",
    "    strn = f\"{exp}+\"*n\n",
    "    strn = strn[:-1]\n",
    "    strf = f\"{filt}+\"*n\n",
    "    strf = strf[:-1]\n",
    "    strh = f\"{howmany}+\"*n\n",
    "    strh = strh[:-1]\n",
    "    print(f\"-filt '{strf}' -exp '{strn}' -noexp '{strh}' \")\n",
    "    t_total = exp*howmany*n\n",
    "    print(f\"Total time = {t_total} secs\")\n",
    "    t_block = exp*howmany\n",
    "    print(f\"Time per block = {t_block} secs\")\n"
   ]
  },
  {
   "cell_type": "code",
   "execution_count": 16,
   "metadata": {},
   "outputs": [
    {
     "name": "stdout",
     "output_type": "stream",
     "text": [
      "-filt 'g+g' -exp '40+40' -noexp '4+4' \n",
      "Total time = 320 secs\n",
      "Time per block = 160 secs\n"
     ]
    }
   ],
   "source": [
    "printexp(2, 40, \"g\", 4)"
   ]
  },
  {
   "cell_type": "code",
   "execution_count": 3,
   "metadata": {},
   "outputs": [
    {
     "ename": "SyntaxError",
     "evalue": "invalid syntax (1665923938.py, line 1)",
     "output_type": "error",
     "traceback": [
      "\u001b[0;36m  Cell \u001b[0;32mIn[3], line 1\u001b[0;36m\u001b[0m\n\u001b[0;31m    sudo python make_too.py -ra '16:13:09.8' -dec '2:05:22.0' -ra_rate '0.147' -dec_rate '0.012' -filt 'g+g+g+i+i+i' -exp '15+15+15+15+15+15' -noexp '2+2+2+2+2+2' -name 'CK23A030' -p '9300' -obs_type 'NS' -domesleep '50' -d '20241019' -iit_obs 'advait' -hanle_obs 'kaysang' -stack 'Y' -propnums 'P06'\u001b[0m\n\u001b[0m         ^\u001b[0m\n\u001b[0;31mSyntaxError\u001b[0m\u001b[0;31m:\u001b[0m invalid syntax\n"
     ]
    }
   ],
   "source": [
    "sudo python make_too.py -ra '17:39:57.0' -dec '3:32:35.6' -ra_rate '0.061' -dec_rate '0.003' -filt 'i+i' -exp '40+40' -noexp '4+4' -name 'CK23A030' -p '7950' -obs_type 'NS' -domesleep '50' -d '20241028' -iit_obs 'advait' -hanle_obs 'kaysang' -stack 'N' -propnums 'P06'"
   ]
  },
  {
   "cell_type": "code",
   "execution_count": 4,
   "metadata": {},
   "outputs": [
    {
     "ename": "SyntaxError",
     "evalue": "invalid syntax (4244974217.py, line 1)",
     "output_type": "error",
     "traceback": [
      "\u001b[0;36m  Cell \u001b[0;32mIn[4], line 1\u001b[0;36m\u001b[0m\n\u001b[0;31m    rsync -chavzP -e 'ssh -o \"ProxyCommand ssh -oHostKeyAlgorithms=+ssh-dss -A growth-crest@117.252.85.44 -W %h:%p\"' 'iiap@195.167.1.145:/home/iiap/20241019/Raw/CK23A030/20241018131-510-RA.fits' .\u001b[0m\n\u001b[0m                     ^\u001b[0m\n\u001b[0;31mSyntaxError\u001b[0m\u001b[0;31m:\u001b[0m invalid syntax\n"
     ]
    }
   ],
   "source": [
    "rsync -chavzP -e 'ssh -o \"ProxyCommand ssh -oHostKeyAlgorithms=+ssh-dss -A growth-crest@117.252.85.44 -W %h:%p\"' 'iiap@195.167.1.145:/home/iiap/20241020/Raw/CK23A030/20241018131-510-RA.fits' ."
   ]
  },
  {
   "cell_type": "code",
   "execution_count": 2,
   "metadata": {},
   "outputs": [],
   "source": [
    "from astropy.coordinates import SkyCoord\n",
    "import astropy.units as u"
   ]
  },
  {
   "cell_type": "code",
   "execution_count": 3,
   "metadata": {},
   "outputs": [],
   "source": [
    "target_ra = '17:41:54.8'\n",
    "target_dec = '3:33:13.0'\n",
    "target_coords = SkyCoord(ra=target_ra, dec=target_dec, unit=(u.hourangle, u.deg))"
   ]
  },
  {
   "cell_type": "code",
   "execution_count": 4,
   "metadata": {},
   "outputs": [],
   "source": [
    "actual_ra, actual_dec = (265.969, 3.564)\n",
    "actual_coords = SkyCoord(ra=actual_ra, dec=actual_dec, unit=(u.deg, u.deg))"
   ]
  },
  {
   "cell_type": "code",
   "execution_count": 5,
   "metadata": {},
   "outputs": [
    {
     "data": {
      "text/plain": [
       "(<SkyCoord (ICRS): (ra, dec) in deg\n",
       "     (265.47833333, 3.55361111)>,\n",
       " <SkyCoord (ICRS): (ra, dec) in deg\n",
       "     (265.969, 3.564)>)"
      ]
     },
     "execution_count": 5,
     "metadata": {},
     "output_type": "execute_result"
    }
   ],
   "source": [
    "target_coords, actual_coords"
   ]
  },
  {
   "cell_type": "code",
   "execution_count": 6,
   "metadata": {},
   "outputs": [
    {
     "data": {
      "text/plain": [
       "(<Angle 0.49066667 deg>, <Angle 0.01038889 deg>)"
      ]
     },
     "execution_count": 6,
     "metadata": {},
     "output_type": "execute_result"
    }
   ],
   "source": [
    "# find offset between actual and target\n",
    "ra_diff = actual_coords.ra - target_coords.ra\n",
    "dec_diff = actual_coords.dec - target_coords.dec\n",
    "ra_diff, dec_diff"
   ]
  },
  {
   "cell_type": "code",
   "execution_count": 7,
   "metadata": {},
   "outputs": [
    {
     "data": {
      "text/latex": [
       "$0^\\circ29{}^\\prime23.39033405{}^{\\prime\\prime}$"
      ],
      "text/plain": [
       "<Angle 0.48983065 deg>"
      ]
     },
     "execution_count": 7,
     "metadata": {},
     "output_type": "execute_result"
    }
   ],
   "source": [
    "# find separation between actual and target\n",
    "sep = actual_coords.separation(target_coords)\n",
    "sep"
   ]
  },
  {
   "cell_type": "code",
   "execution_count": 8,
   "metadata": {},
   "outputs": [
    {
     "data": {
      "text/plain": [
       "<SkyCoord (ICRS): (ra, dec) in deg\n",
       "    (264.98766667, 3.54322222)>"
      ]
     },
     "execution_count": 8,
     "metadata": {},
     "output_type": "execute_result"
    }
   ],
   "source": [
    "target_coords_new = SkyCoord(ra=target_coords.ra - ra_diff, dec=target_coords.dec - dec_diff, unit=(u.deg, u.deg))\n",
    "target_coords_new"
   ]
  },
  {
   "cell_type": "code",
   "execution_count": 9,
   "metadata": {},
   "outputs": [
    {
     "data": {
      "text/plain": [
       "(np.str_('17:39:57.0'), np.str_('3:32:35.6'))"
      ]
     },
     "execution_count": 9,
     "metadata": {},
     "output_type": "execute_result"
    }
   ],
   "source": [
    "# format with colons and remove hms dms\n",
    "target_coords_new.ra.to_string(u.hourangle, sep=':', precision=1), target_coords_new.dec.to_string(u.deg, sep=':', precision=1)"
   ]
  },
  {
   "cell_type": "code",
   "execution_count": 13,
   "metadata": {},
   "outputs": [],
   "source": [
    "target_ra = '16:03:18.0'\n",
    "target_dec = '1:51:46.0'\n",
    "target_coords = SkyCoord(ra=target_ra, dec=target_dec, unit=(u.hourangle, u.deg))"
   ]
  },
  {
   "cell_type": "code",
   "execution_count": 14,
   "metadata": {},
   "outputs": [],
   "source": [
    "actual_ra, actual_dec = (242.239, 1.984)\n",
    "actual_coords = SkyCoord(ra=actual_ra, dec=actual_dec, unit=(u.deg, u.deg))"
   ]
  },
  {
   "cell_type": "code",
   "execution_count": 15,
   "metadata": {},
   "outputs": [],
   "source": [
    "# find offset between actual and target\n",
    "ra_diff = actual_coords.ra - target_coords.ra\n",
    "dec_diff = actual_coords.dec - target_coords.dec\n"
   ]
  },
  {
   "cell_type": "code",
   "execution_count": 16,
   "metadata": {},
   "outputs": [
    {
     "data": {
      "text/plain": [
       "(<Angle 1.414 deg>, <Angle 0.12122222 deg>)"
      ]
     },
     "execution_count": 16,
     "metadata": {},
     "output_type": "execute_result"
    }
   ],
   "source": [
    "ra_diff, dec_diff"
   ]
  },
  {
   "cell_type": "code",
   "execution_count": null,
   "metadata": {},
   "outputs": [],
   "source": []
  }
 ],
 "metadata": {
  "kernelspec": {
   "display_name": "astro",
   "language": "python",
   "name": "python3"
  },
  "language_info": {
   "codemirror_mode": {
    "name": "ipython",
    "version": 3
   },
   "file_extension": ".py",
   "mimetype": "text/x-python",
   "name": "python",
   "nbconvert_exporter": "python",
   "pygments_lexer": "ipython3",
   "version": "3.12.5"
  }
 },
 "nbformat": 4,
 "nbformat_minor": 2
}
