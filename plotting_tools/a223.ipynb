{
 "cells": [
  {
   "cell_type": "code",
   "execution_count": 1,
   "metadata": {},
   "outputs": [],
   "source": [
    "from __future__ import annotations\n",
    "try:\n",
    "    from scripts_for_plotting import *\n",
    "except ModuleNotFoundError:\n",
    "    import sys\n",
    "    sys.path.append('../')\n",
    "    from scripts_for_plotting import *\n",
    "import scienceplots\n",
    "plt.style.use(['science', 'notebook'])"
   ]
  },
  {
   "cell_type": "code",
   "execution_count": 81,
   "metadata": {},
   "outputs": [
    {
     "name": "stderr",
     "output_type": "stream",
     "text": [
      "/media/advait/DATA/research/rcb-project/TSFitPy/plotting_tools/scripts_for_plotting.py:109: FutureWarning: errors='ignore' is deprecated and will raise in a future version. Use to_numeric without passing `errors` and catch exceptions explicitly instead\n",
      "  output_file_df = output_file_df.apply(pd.to_numeric, errors='ignore')\n"
     ]
    }
   ],
   "source": [
    "# outpath = \"/media/advait/DATA/research/rcb-project/TSFitPy/output_files/wise222/Oct-13-2024-22-42-15_0.9770073685963133_LTE_O_1D\"\n",
    "outpath = \"/media/advait/DATA/research/rcb-project/TSFitPy/output_files/a223/Nov-08-2024-00-46-25_0.5985021829704559_LTE_C_1D\"\n",
    "config_dict = load_output_data(outpath)\n",
    "output_results_pd_df = config_dict[\"output_file_df\"]\n",
    "output_trimmed = (output_results_pd_df[output_results_pd_df[\"chi_squared\"] < 25])"
   ]
  },
  {
   "cell_type": "code",
   "execution_count": 82,
   "metadata": {},
   "outputs": [
    {
     "data": {
      "text/html": [
       "<div>\n",
       "<style scoped>\n",
       "    .dataframe tbody tr th:only-of-type {\n",
       "        vertical-align: middle;\n",
       "    }\n",
       "\n",
       "    .dataframe tbody tr th {\n",
       "        vertical-align: top;\n",
       "    }\n",
       "\n",
       "    .dataframe thead th {\n",
       "        text-align: right;\n",
       "    }\n",
       "</style>\n",
       "<table border=\"1\" class=\"dataframe\">\n",
       "  <thead>\n",
       "    <tr style=\"text-align: right;\">\n",
       "      <th></th>\n",
       "      <th>specname</th>\n",
       "      <th>wave_center</th>\n",
       "      <th>wave_start</th>\n",
       "      <th>wave_end</th>\n",
       "      <th>Doppler_Shift_add_to_RV</th>\n",
       "      <th>Fe_H</th>\n",
       "      <th>C_Fe</th>\n",
       "      <th>Microturb</th>\n",
       "      <th>Macroturb</th>\n",
       "      <th>rotation</th>\n",
       "      <th>chi_squared</th>\n",
       "      <th>ew</th>\n",
       "      <th>flag_error</th>\n",
       "      <th>flag_warning</th>\n",
       "    </tr>\n",
       "  </thead>\n",
       "  <tbody>\n",
       "    <tr>\n",
       "      <th>0</th>\n",
       "      <td>A223_clean.txt</td>\n",
       "      <td>22743.35</td>\n",
       "      <td>22742.0</td>\n",
       "      <td>22744.7</td>\n",
       "      <td>-2.5310</td>\n",
       "      <td>0.0</td>\n",
       "      <td>-0.0712</td>\n",
       "      <td>7.0</td>\n",
       "      <td>0.0</td>\n",
       "      <td>0.0</td>\n",
       "      <td>11.951265</td>\n",
       "      <td>130.9097</td>\n",
       "      <td>0</td>\n",
       "      <td>0</td>\n",
       "    </tr>\n",
       "    <tr>\n",
       "      <th>1</th>\n",
       "      <td>A223_clean.txt</td>\n",
       "      <td>22799.60</td>\n",
       "      <td>22798.0</td>\n",
       "      <td>22801.2</td>\n",
       "      <td>-1.3247</td>\n",
       "      <td>0.0</td>\n",
       "      <td>0.0815</td>\n",
       "      <td>7.0</td>\n",
       "      <td>0.0</td>\n",
       "      <td>0.0</td>\n",
       "      <td>11.387113</td>\n",
       "      <td>169.7797</td>\n",
       "      <td>0</td>\n",
       "      <td>0</td>\n",
       "    </tr>\n",
       "    <tr>\n",
       "      <th>2</th>\n",
       "      <td>A223_clean.txt</td>\n",
       "      <td>22804.50</td>\n",
       "      <td>22802.0</td>\n",
       "      <td>22807.0</td>\n",
       "      <td>-1.7041</td>\n",
       "      <td>0.0</td>\n",
       "      <td>0.0933</td>\n",
       "      <td>7.0</td>\n",
       "      <td>0.0</td>\n",
       "      <td>0.0</td>\n",
       "      <td>4.850096</td>\n",
       "      <td>330.8306</td>\n",
       "      <td>0</td>\n",
       "      <td>0</td>\n",
       "    </tr>\n",
       "    <tr>\n",
       "      <th>3</th>\n",
       "      <td>A223_clean.txt</td>\n",
       "      <td>22868.25</td>\n",
       "      <td>22867.0</td>\n",
       "      <td>22869.5</td>\n",
       "      <td>3.0000</td>\n",
       "      <td>0.0</td>\n",
       "      <td>0.1799</td>\n",
       "      <td>7.0</td>\n",
       "      <td>0.0</td>\n",
       "      <td>0.0</td>\n",
       "      <td>2.062550</td>\n",
       "      <td>129.1946</td>\n",
       "      <td>0</td>\n",
       "      <td>10000000</td>\n",
       "    </tr>\n",
       "    <tr>\n",
       "      <th>4</th>\n",
       "      <td>A223_clean.txt</td>\n",
       "      <td>22879.25</td>\n",
       "      <td>22877.0</td>\n",
       "      <td>22881.5</td>\n",
       "      <td>-3.0000</td>\n",
       "      <td>0.0</td>\n",
       "      <td>-0.0060</td>\n",
       "      <td>7.0</td>\n",
       "      <td>0.0</td>\n",
       "      <td>0.0</td>\n",
       "      <td>4.955484</td>\n",
       "      <td>244.7681</td>\n",
       "      <td>0</td>\n",
       "      <td>10000000</td>\n",
       "    </tr>\n",
       "    <tr>\n",
       "      <th>5</th>\n",
       "      <td>A223_clean.txt</td>\n",
       "      <td>23067.25</td>\n",
       "      <td>23065.0</td>\n",
       "      <td>23069.5</td>\n",
       "      <td>-2.2191</td>\n",
       "      <td>0.0</td>\n",
       "      <td>0.1172</td>\n",
       "      <td>7.0</td>\n",
       "      <td>0.0</td>\n",
       "      <td>0.0</td>\n",
       "      <td>11.831220</td>\n",
       "      <td>282.4968</td>\n",
       "      <td>0</td>\n",
       "      <td>0</td>\n",
       "    </tr>\n",
       "    <tr>\n",
       "      <th>6</th>\n",
       "      <td>A223_clean.txt</td>\n",
       "      <td>23336.60</td>\n",
       "      <td>23333.5</td>\n",
       "      <td>23339.7</td>\n",
       "      <td>-3.0000</td>\n",
       "      <td>0.0</td>\n",
       "      <td>-0.0063</td>\n",
       "      <td>7.0</td>\n",
       "      <td>0.0</td>\n",
       "      <td>0.0</td>\n",
       "      <td>18.219773</td>\n",
       "      <td>296.5276</td>\n",
       "      <td>0</td>\n",
       "      <td>10000000</td>\n",
       "    </tr>\n",
       "  </tbody>\n",
       "</table>\n",
       "</div>"
      ],
      "text/plain": [
       "         specname  wave_center  wave_start  wave_end  Doppler_Shift_add_to_RV  \\\n",
       "0  A223_clean.txt     22743.35     22742.0   22744.7                  -2.5310   \n",
       "1  A223_clean.txt     22799.60     22798.0   22801.2                  -1.3247   \n",
       "2  A223_clean.txt     22804.50     22802.0   22807.0                  -1.7041   \n",
       "3  A223_clean.txt     22868.25     22867.0   22869.5                   3.0000   \n",
       "4  A223_clean.txt     22879.25     22877.0   22881.5                  -3.0000   \n",
       "5  A223_clean.txt     23067.25     23065.0   23069.5                  -2.2191   \n",
       "6  A223_clean.txt     23336.60     23333.5   23339.7                  -3.0000   \n",
       "\n",
       "   Fe_H    C_Fe  Microturb  Macroturb  rotation  chi_squared        ew  \\\n",
       "0   0.0 -0.0712        7.0        0.0       0.0    11.951265  130.9097   \n",
       "1   0.0  0.0815        7.0        0.0       0.0    11.387113  169.7797   \n",
       "2   0.0  0.0933        7.0        0.0       0.0     4.850096  330.8306   \n",
       "3   0.0  0.1799        7.0        0.0       0.0     2.062550  129.1946   \n",
       "4   0.0 -0.0060        7.0        0.0       0.0     4.955484  244.7681   \n",
       "5   0.0  0.1172        7.0        0.0       0.0    11.831220  282.4968   \n",
       "6   0.0 -0.0063        7.0        0.0       0.0    18.219773  296.5276   \n",
       "\n",
       "   flag_error  flag_warning  \n",
       "0           0             0  \n",
       "1           0             0  \n",
       "2           0             0  \n",
       "3           0      10000000  \n",
       "4           0      10000000  \n",
       "5           0             0  \n",
       "6           0      10000000  "
      ]
     },
     "execution_count": 82,
     "metadata": {},
     "output_type": "execute_result"
    }
   ],
   "source": [
    "output_trimmed"
   ]
  },
  {
   "cell_type": "code",
   "execution_count": 83,
   "metadata": {},
   "outputs": [
    {
     "data": {
      "text/html": [
       "<div>\n",
       "<style scoped>\n",
       "    .dataframe tbody tr th:only-of-type {\n",
       "        vertical-align: middle;\n",
       "    }\n",
       "\n",
       "    .dataframe tbody tr th {\n",
       "        vertical-align: top;\n",
       "    }\n",
       "\n",
       "    .dataframe thead th {\n",
       "        text-align: right;\n",
       "    }\n",
       "</style>\n",
       "<table border=\"1\" class=\"dataframe\">\n",
       "  <thead>\n",
       "    <tr style=\"text-align: right;\">\n",
       "      <th></th>\n",
       "      <th>specname</th>\n",
       "      <th>wave_center</th>\n",
       "      <th>wave_start</th>\n",
       "      <th>wave_end</th>\n",
       "      <th>Doppler_Shift_add_to_RV</th>\n",
       "      <th>Fe_H</th>\n",
       "      <th>C_Fe</th>\n",
       "      <th>Microturb</th>\n",
       "      <th>Macroturb</th>\n",
       "      <th>rotation</th>\n",
       "      <th>chi_squared</th>\n",
       "      <th>ew</th>\n",
       "      <th>flag_error</th>\n",
       "      <th>flag_warning</th>\n",
       "    </tr>\n",
       "  </thead>\n",
       "  <tbody>\n",
       "    <tr>\n",
       "      <th>2</th>\n",
       "      <td>A223_clean.txt</td>\n",
       "      <td>22804.50</td>\n",
       "      <td>22802.0</td>\n",
       "      <td>22807.0</td>\n",
       "      <td>-1.7041</td>\n",
       "      <td>0.0</td>\n",
       "      <td>0.0933</td>\n",
       "      <td>7.0</td>\n",
       "      <td>0.0</td>\n",
       "      <td>0.0</td>\n",
       "      <td>4.850096</td>\n",
       "      <td>330.8306</td>\n",
       "      <td>0</td>\n",
       "      <td>0</td>\n",
       "    </tr>\n",
       "    <tr>\n",
       "      <th>3</th>\n",
       "      <td>A223_clean.txt</td>\n",
       "      <td>22868.25</td>\n",
       "      <td>22867.0</td>\n",
       "      <td>22869.5</td>\n",
       "      <td>3.0000</td>\n",
       "      <td>0.0</td>\n",
       "      <td>0.1799</td>\n",
       "      <td>7.0</td>\n",
       "      <td>0.0</td>\n",
       "      <td>0.0</td>\n",
       "      <td>2.062550</td>\n",
       "      <td>129.1946</td>\n",
       "      <td>0</td>\n",
       "      <td>10000000</td>\n",
       "    </tr>\n",
       "    <tr>\n",
       "      <th>4</th>\n",
       "      <td>A223_clean.txt</td>\n",
       "      <td>22879.25</td>\n",
       "      <td>22877.0</td>\n",
       "      <td>22881.5</td>\n",
       "      <td>-3.0000</td>\n",
       "      <td>0.0</td>\n",
       "      <td>-0.0060</td>\n",
       "      <td>7.0</td>\n",
       "      <td>0.0</td>\n",
       "      <td>0.0</td>\n",
       "      <td>4.955484</td>\n",
       "      <td>244.7681</td>\n",
       "      <td>0</td>\n",
       "      <td>10000000</td>\n",
       "    </tr>\n",
       "    <tr>\n",
       "      <th>5</th>\n",
       "      <td>A223_clean.txt</td>\n",
       "      <td>23067.25</td>\n",
       "      <td>23065.0</td>\n",
       "      <td>23069.5</td>\n",
       "      <td>-2.2191</td>\n",
       "      <td>0.0</td>\n",
       "      <td>0.1172</td>\n",
       "      <td>7.0</td>\n",
       "      <td>0.0</td>\n",
       "      <td>0.0</td>\n",
       "      <td>11.831220</td>\n",
       "      <td>282.4968</td>\n",
       "      <td>0</td>\n",
       "      <td>0</td>\n",
       "    </tr>\n",
       "  </tbody>\n",
       "</table>\n",
       "</div>"
      ],
      "text/plain": [
       "         specname  wave_center  wave_start  wave_end  Doppler_Shift_add_to_RV  \\\n",
       "2  A223_clean.txt     22804.50     22802.0   22807.0                  -1.7041   \n",
       "3  A223_clean.txt     22868.25     22867.0   22869.5                   3.0000   \n",
       "4  A223_clean.txt     22879.25     22877.0   22881.5                  -3.0000   \n",
       "5  A223_clean.txt     23067.25     23065.0   23069.5                  -2.2191   \n",
       "\n",
       "   Fe_H    C_Fe  Microturb  Macroturb  rotation  chi_squared        ew  \\\n",
       "2   0.0  0.0933        7.0        0.0       0.0     4.850096  330.8306   \n",
       "3   0.0  0.1799        7.0        0.0       0.0     2.062550  129.1946   \n",
       "4   0.0 -0.0060        7.0        0.0       0.0     4.955484  244.7681   \n",
       "5   0.0  0.1172        7.0        0.0       0.0    11.831220  282.4968   \n",
       "\n",
       "   flag_error  flag_warning  \n",
       "2           0             0  \n",
       "3           0      10000000  \n",
       "4           0      10000000  \n",
       "5           0             0  "
      ]
     },
     "execution_count": 83,
     "metadata": {},
     "output_type": "execute_result"
    }
   ],
   "source": [
    "remove = [23336.60\t,22743.35,22799.60\t]\n",
    "output_trimmed = output_trimmed[~output_trimmed[\"wave_center\"].isin(remove)]\n",
    "output_trimmed"
   ]
  },
  {
   "cell_type": "code",
   "execution_count": 84,
   "metadata": {},
   "outputs": [
    {
     "data": {
      "text/plain": [
       "np.float64(8.656)"
      ]
     },
     "execution_count": 84,
     "metadata": {},
     "output_type": "execute_result"
    }
   ],
   "source": [
    "(solar_abundances['C'] + np.mean(output_trimmed[\"C_Fe\"])).round(3)"
   ]
  },
  {
   "cell_type": "code",
   "execution_count": 73,
   "metadata": {},
   "outputs": [
    {
     "data": {
      "text/plain": [
       "np.float64(0.0623996143818213)"
      ]
     },
     "execution_count": 73,
     "metadata": {},
     "output_type": "execute_result"
    }
   ],
   "source": [
    "np.std((output_trimmed[\"C_Fe\"]))"
   ]
  },
  {
   "cell_type": "code",
   "execution_count": 22,
   "metadata": {},
   "outputs": [
    {
     "data": {
      "text/plain": [
       "np.float64(7.834225)"
      ]
     },
     "execution_count": 22,
     "metadata": {},
     "output_type": "execute_result"
    }
   ],
   "source": [
    "solar_abundances['N'] + np.mean(output_trimmed[\"N_Fe\"])"
   ]
  },
  {
   "cell_type": "code",
   "execution_count": 77,
   "metadata": {},
   "outputs": [
    {
     "name": "stderr",
     "output_type": "stream",
     "text": [
      "/media/advait/DATA/research/rcb-project/TSFitPy/plotting_tools/scripts_for_plotting.py:109: FutureWarning: errors='ignore' is deprecated and will raise in a future version. Use to_numeric without passing `errors` and catch exceptions explicitly instead\n",
      "  output_file_df = output_file_df.apply(pd.to_numeric, errors='ignore')\n"
     ]
    }
   ],
   "source": [
    "# outpath = \"/media/advait/DATA/research/rcb-project/TSFitPy/output_files/wise222/Oct-13-2024-22-42-15_0.9770073685963133_LTE_O_1D\"\n",
    "outpath = \"/media/advait/DATA/research/rcb-project/TSFitPy/output_files/a223/Nov-08-2024-00-41-42_0.10338844142295434_LTE_N_1D\"\n",
    "config_dict = load_output_data(outpath)\n",
    "output_results_pd_df = config_dict[\"output_file_df\"]\n",
    "output_trimmed = (output_results_pd_df[np.logical_and(output_results_pd_df[\"chi_squared\"] < 30, output_results_pd_df[\"N_Fe\"] > 7.5-7.98)])"
   ]
  },
  {
   "cell_type": "code",
   "execution_count": 78,
   "metadata": {},
   "outputs": [
    {
     "data": {
      "text/plain": [
       "np.float64(8.481080558504054)"
      ]
     },
     "execution_count": 78,
     "metadata": {},
     "output_type": "execute_result"
    }
   ],
   "source": [
    "np.mean(output_trimmed[\"chi_squared\"])"
   ]
  },
  {
   "cell_type": "code",
   "execution_count": 79,
   "metadata": {},
   "outputs": [
    {
     "data": {
      "text/plain": [
       "<matplotlib.colorbar.Colorbar at 0x70cc9a12d940>"
      ]
     },
     "execution_count": 79,
     "metadata": {},
     "output_type": "execute_result"
    },
    {
     "data": {
      "image/png": "[encoded data removed]",
      "text/plain": [
       "<Figure size 800x600 with 2 Axes>"
      ]
     },
     "metadata": {},
     "output_type": "display_data"
    }
   ],
   "source": [
    "plt.scatter(output_trimmed['wave_center'], output_trimmed['N_Fe']+7.98, c = output_trimmed['chi_squared'], cmap = 'inferno')\n",
    "plt.colorbar()"
   ]
  },
  {
   "cell_type": "code",
   "execution_count": 80,
   "metadata": {},
   "outputs": [
    {
     "data": {
      "text/plain": [
       "(np.float64(7.766), np.float64(0.096))"
      ]
     },
     "execution_count": 80,
     "metadata": {},
     "output_type": "execute_result"
    }
   ],
   "source": [
    "(7.98+np.mean(output_trimmed['N_Fe'])).round(3), np.std(output_trimmed['N_Fe']).round(3)"
   ]
  },
  {
   "cell_type": "code",
   "execution_count": 85,
   "metadata": {},
   "outputs": [
    {
     "name": "stderr",
     "output_type": "stream",
     "text": [
      "/tmp/ipykernel_802008/796760162.py:1: ParserWarning: Falling back to the 'python' engine because the 'c' engine does not support regex separators (separators > 1 char and different from '\\s+' are interpreted as regex); you can avoid this warning by specifying engine='python'.\n",
      "  fitlist = pd.read_csv('/media/advait/DATA/research/rcb-project/TSFitPy/input_files/a223/vmac', sep='  ')\n"
     ]
    },
    {
     "data": {
      "text/html": [
       "<div>\n",
       "<style scoped>\n",
       "    .dataframe tbody tr th:only-of-type {\n",
       "        vertical-align: middle;\n",
       "    }\n",
       "\n",
       "    .dataframe tbody tr th {\n",
       "        vertical-align: top;\n",
       "    }\n",
       "\n",
       "    .dataframe thead th {\n",
       "        text-align: right;\n",
       "    }\n",
       "</style>\n",
       "<table border=\"1\" class=\"dataframe\">\n",
       "  <thead>\n",
       "    <tr style=\"text-align: right;\">\n",
       "      <th></th>\n",
       "      <th>#name_of_spectrum_to_fit</th>\n",
       "      <th>rv</th>\n",
       "      <th>teff</th>\n",
       "      <th>logg</th>\n",
       "      <th>[Fe/H]</th>\n",
       "      <th>Input_vmicroturb</th>\n",
       "      <th>A(H)</th>\n",
       "      <th>A(He)</th>\n",
       "      <th>A(C)</th>\n",
       "      <th>A(O)</th>\n",
       "      <th>...</th>\n",
       "      <th>A(N)</th>\n",
       "      <th>A(Mg)</th>\n",
       "      <th>A(Na)</th>\n",
       "      <th>A(S)</th>\n",
       "      <th>A(Si)</th>\n",
       "      <th>A(Ca)</th>\n",
       "      <th>A(Ni)</th>\n",
       "      <th>A(Ti)</th>\n",
       "      <th>A(Co)</th>\n",
       "      <th>oisorat</th>\n",
       "    </tr>\n",
       "  </thead>\n",
       "  <tbody>\n",
       "    <tr>\n",
       "      <th>0</th>\n",
       "      <td>A223_clean.txt</td>\n",
       "      <td>0.0</td>\n",
       "      <td>5000.0</td>\n",
       "      <td>1.0</td>\n",
       "      <td>0.0</td>\n",
       "      <td>7.0</td>\n",
       "      <td>7.5</td>\n",
       "      <td>11.5</td>\n",
       "      <td>8.654</td>\n",
       "      <td>7.0</td>\n",
       "      <td>...</td>\n",
       "      <td>7.766</td>\n",
       "      <td>7.35</td>\n",
       "      <td>5.99</td>\n",
       "      <td>7.66</td>\n",
       "      <td>6.59</td>\n",
       "      <td>5.67</td>\n",
       "      <td>5.24</td>\n",
       "      <td>3.94</td>\n",
       "      <td>3.95</td>\n",
       "      <td>0.54</td>\n",
       "    </tr>\n",
       "  </tbody>\n",
       "</table>\n",
       "<p>1 rows × 21 columns</p>\n",
       "</div>"
      ],
      "text/plain": [
       "  #name_of_spectrum_to_fit   rv    teff  logg  [Fe/H]  Input_vmicroturb  A(H)  \\\n",
       "0           A223_clean.txt  0.0  5000.0   1.0     0.0               7.0   7.5   \n",
       "\n",
       "   A(He)   A(C)  A(O)  ...   A(N)  A(Mg)  A(Na)  A(S)  A(Si)  A(Ca)  A(Ni)  \\\n",
       "0   11.5  8.654   7.0  ...  7.766   7.35   5.99  7.66   6.59   5.67   5.24   \n",
       "\n",
       "   A(Ti)  A(Co)  oisorat  \n",
       "0   3.94   3.95     0.54  \n",
       "\n",
       "[1 rows x 21 columns]"
      ]
     },
     "execution_count": 85,
     "metadata": {},
     "output_type": "execute_result"
    }
   ],
   "source": [
    "fitlist = pd.read_csv('/media/advait/DATA/research/rcb-project/TSFitPy/input_files/a223/vmac', sep='  ')\n",
    "fitlist"
   ]
  },
  {
   "cell_type": "code",
   "execution_count": 86,
   "metadata": {},
   "outputs": [
    {
     "data": {
      "text/plain": [
       "array([0.3 , 0.3 , 0.3 , 0.32, 0.32, 0.32, 0.34, 0.34, 0.34, 0.36, 0.36,\n",
       "       0.36, 0.38, 0.38, 0.38, 0.4 , 0.4 , 0.4 , 0.42, 0.42, 0.42, 0.44,\n",
       "       0.44, 0.44, 0.46, 0.46, 0.46, 0.48, 0.48, 0.48, 0.5 , 0.5 , 0.5 ,\n",
       "       0.52, 0.52, 0.52, 0.54, 0.54, 0.54, 0.56, 0.56, 0.56, 0.58, 0.58,\n",
       "       0.58, 0.6 , 0.6 , 0.6 , 0.62, 0.62, 0.62, 0.64, 0.64, 0.64, 0.66,\n",
       "       0.66, 0.66, 0.68, 0.68, 0.68, 0.7 , 0.7 , 0.7 , 0.72, 0.72, 0.72,\n",
       "       0.74, 0.74, 0.74, 0.76, 0.76, 0.76, 0.78, 0.78, 0.78, 0.8 , 0.8 ,\n",
       "       0.8 , 0.82, 0.82, 0.82, 0.84, 0.84, 0.84, 0.86, 0.86, 0.86, 0.88,\n",
       "       0.88, 0.88, 0.9 , 0.9 , 0.9 ])"
      ]
     },
     "execution_count": 86,
     "metadata": {},
     "output_type": "execute_result"
    }
   ],
   "source": [
    "rats = np.arange(0.3, 0.9,0.02)\n",
    "rats = np.repeat(rats, 3)\n",
    "rats"
   ]
  },
  {
   "cell_type": "code",
   "execution_count": 87,
   "metadata": {},
   "outputs": [
    {
     "data": {
      "text/plain": [
       "93"
      ]
     },
     "execution_count": 87,
     "metadata": {},
     "output_type": "execute_result"
    }
   ],
   "source": [
    "len(rats)"
   ]
  },
  {
   "cell_type": "code",
   "execution_count": 88,
   "metadata": {},
   "outputs": [
    {
     "data": {
      "text/html": [
       "<div>\n",
       "<style scoped>\n",
       "    .dataframe tbody tr th:only-of-type {\n",
       "        vertical-align: middle;\n",
       "    }\n",
       "\n",
       "    .dataframe tbody tr th {\n",
       "        vertical-align: top;\n",
       "    }\n",
       "\n",
       "    .dataframe thead th {\n",
       "        text-align: right;\n",
       "    }\n",
       "</style>\n",
       "<table border=\"1\" class=\"dataframe\">\n",
       "  <thead>\n",
       "    <tr style=\"text-align: right;\">\n",
       "      <th></th>\n",
       "      <th>#name_of_spectrum_to_fit</th>\n",
       "      <th>rv</th>\n",
       "      <th>teff</th>\n",
       "      <th>logg</th>\n",
       "      <th>[Fe/H]</th>\n",
       "      <th>Input_vmicroturb</th>\n",
       "      <th>A(H)</th>\n",
       "      <th>A(He)</th>\n",
       "      <th>A(C)</th>\n",
       "      <th>A(O)</th>\n",
       "      <th>...</th>\n",
       "      <th>A(N)</th>\n",
       "      <th>A(Mg)</th>\n",
       "      <th>A(Na)</th>\n",
       "      <th>A(S)</th>\n",
       "      <th>A(Si)</th>\n",
       "      <th>A(Ca)</th>\n",
       "      <th>A(Ni)</th>\n",
       "      <th>A(Ti)</th>\n",
       "      <th>A(Co)</th>\n",
       "      <th>oisorat</th>\n",
       "    </tr>\n",
       "  </thead>\n",
       "  <tbody>\n",
       "    <tr>\n",
       "      <th>0</th>\n",
       "      <td>A223_clean.txt</td>\n",
       "      <td>0.0</td>\n",
       "      <td>5000.0</td>\n",
       "      <td>1.0</td>\n",
       "      <td>0.0</td>\n",
       "      <td>7.0</td>\n",
       "      <td>7.5</td>\n",
       "      <td>11.5</td>\n",
       "      <td>8.654</td>\n",
       "      <td>7.0</td>\n",
       "      <td>...</td>\n",
       "      <td>7.766</td>\n",
       "      <td>7.35</td>\n",
       "      <td>5.99</td>\n",
       "      <td>7.66</td>\n",
       "      <td>6.59</td>\n",
       "      <td>5.67</td>\n",
       "      <td>5.24</td>\n",
       "      <td>3.94</td>\n",
       "      <td>3.95</td>\n",
       "      <td>0.30</td>\n",
       "    </tr>\n",
       "    <tr>\n",
       "      <th>1</th>\n",
       "      <td>A223_clean.txt</td>\n",
       "      <td>0.0</td>\n",
       "      <td>5000.0</td>\n",
       "      <td>1.0</td>\n",
       "      <td>0.0</td>\n",
       "      <td>7.0</td>\n",
       "      <td>7.5</td>\n",
       "      <td>11.5</td>\n",
       "      <td>8.654</td>\n",
       "      <td>7.0</td>\n",
       "      <td>...</td>\n",
       "      <td>7.766</td>\n",
       "      <td>7.35</td>\n",
       "      <td>5.99</td>\n",
       "      <td>7.66</td>\n",
       "      <td>6.59</td>\n",
       "      <td>5.67</td>\n",
       "      <td>5.24</td>\n",
       "      <td>3.94</td>\n",
       "      <td>3.95</td>\n",
       "      <td>0.30</td>\n",
       "    </tr>\n",
       "    <tr>\n",
       "      <th>2</th>\n",
       "      <td>A223_clean.txt</td>\n",
       "      <td>0.0</td>\n",
       "      <td>5000.0</td>\n",
       "      <td>1.0</td>\n",
       "      <td>0.0</td>\n",
       "      <td>7.0</td>\n",
       "      <td>7.5</td>\n",
       "      <td>11.5</td>\n",
       "      <td>8.654</td>\n",
       "      <td>7.0</td>\n",
       "      <td>...</td>\n",
       "      <td>7.766</td>\n",
       "      <td>7.35</td>\n",
       "      <td>5.99</td>\n",
       "      <td>7.66</td>\n",
       "      <td>6.59</td>\n",
       "      <td>5.67</td>\n",
       "      <td>5.24</td>\n",
       "      <td>3.94</td>\n",
       "      <td>3.95</td>\n",
       "      <td>0.30</td>\n",
       "    </tr>\n",
       "    <tr>\n",
       "      <th>3</th>\n",
       "      <td>A223_clean.txt</td>\n",
       "      <td>0.0</td>\n",
       "      <td>5000.0</td>\n",
       "      <td>1.0</td>\n",
       "      <td>0.0</td>\n",
       "      <td>7.0</td>\n",
       "      <td>7.5</td>\n",
       "      <td>11.5</td>\n",
       "      <td>8.654</td>\n",
       "      <td>7.0</td>\n",
       "      <td>...</td>\n",
       "      <td>7.766</td>\n",
       "      <td>7.35</td>\n",
       "      <td>5.99</td>\n",
       "      <td>7.66</td>\n",
       "      <td>6.59</td>\n",
       "      <td>5.67</td>\n",
       "      <td>5.24</td>\n",
       "      <td>3.94</td>\n",
       "      <td>3.95</td>\n",
       "      <td>0.32</td>\n",
       "    </tr>\n",
       "    <tr>\n",
       "      <th>4</th>\n",
       "      <td>A223_clean.txt</td>\n",
       "      <td>0.0</td>\n",
       "      <td>5000.0</td>\n",
       "      <td>1.0</td>\n",
       "      <td>0.0</td>\n",
       "      <td>7.0</td>\n",
       "      <td>7.5</td>\n",
       "      <td>11.5</td>\n",
       "      <td>8.654</td>\n",
       "      <td>7.0</td>\n",
       "      <td>...</td>\n",
       "      <td>7.766</td>\n",
       "      <td>7.35</td>\n",
       "      <td>5.99</td>\n",
       "      <td>7.66</td>\n",
       "      <td>6.59</td>\n",
       "      <td>5.67</td>\n",
       "      <td>5.24</td>\n",
       "      <td>3.94</td>\n",
       "      <td>3.95</td>\n",
       "      <td>0.32</td>\n",
       "    </tr>\n",
       "    <tr>\n",
       "      <th>...</th>\n",
       "      <td>...</td>\n",
       "      <td>...</td>\n",
       "      <td>...</td>\n",
       "      <td>...</td>\n",
       "      <td>...</td>\n",
       "      <td>...</td>\n",
       "      <td>...</td>\n",
       "      <td>...</td>\n",
       "      <td>...</td>\n",
       "      <td>...</td>\n",
       "      <td>...</td>\n",
       "      <td>...</td>\n",
       "      <td>...</td>\n",
       "      <td>...</td>\n",
       "      <td>...</td>\n",
       "      <td>...</td>\n",
       "      <td>...</td>\n",
       "      <td>...</td>\n",
       "      <td>...</td>\n",
       "      <td>...</td>\n",
       "      <td>...</td>\n",
       "    </tr>\n",
       "    <tr>\n",
       "      <th>88</th>\n",
       "      <td>A223_clean.txt</td>\n",
       "      <td>0.0</td>\n",
       "      <td>5000.0</td>\n",
       "      <td>1.0</td>\n",
       "      <td>0.0</td>\n",
       "      <td>7.0</td>\n",
       "      <td>7.5</td>\n",
       "      <td>11.5</td>\n",
       "      <td>8.654</td>\n",
       "      <td>7.0</td>\n",
       "      <td>...</td>\n",
       "      <td>7.766</td>\n",
       "      <td>7.35</td>\n",
       "      <td>5.99</td>\n",
       "      <td>7.66</td>\n",
       "      <td>6.59</td>\n",
       "      <td>5.67</td>\n",
       "      <td>5.24</td>\n",
       "      <td>3.94</td>\n",
       "      <td>3.95</td>\n",
       "      <td>0.88</td>\n",
       "    </tr>\n",
       "    <tr>\n",
       "      <th>89</th>\n",
       "      <td>A223_clean.txt</td>\n",
       "      <td>0.0</td>\n",
       "      <td>5000.0</td>\n",
       "      <td>1.0</td>\n",
       "      <td>0.0</td>\n",
       "      <td>7.0</td>\n",
       "      <td>7.5</td>\n",
       "      <td>11.5</td>\n",
       "      <td>8.654</td>\n",
       "      <td>7.0</td>\n",
       "      <td>...</td>\n",
       "      <td>7.766</td>\n",
       "      <td>7.35</td>\n",
       "      <td>5.99</td>\n",
       "      <td>7.66</td>\n",
       "      <td>6.59</td>\n",
       "      <td>5.67</td>\n",
       "      <td>5.24</td>\n",
       "      <td>3.94</td>\n",
       "      <td>3.95</td>\n",
       "      <td>0.88</td>\n",
       "    </tr>\n",
       "    <tr>\n",
       "      <th>90</th>\n",
       "      <td>A223_clean.txt</td>\n",
       "      <td>0.0</td>\n",
       "      <td>5000.0</td>\n",
       "      <td>1.0</td>\n",
       "      <td>0.0</td>\n",
       "      <td>7.0</td>\n",
       "      <td>7.5</td>\n",
       "      <td>11.5</td>\n",
       "      <td>8.654</td>\n",
       "      <td>7.0</td>\n",
       "      <td>...</td>\n",
       "      <td>7.766</td>\n",
       "      <td>7.35</td>\n",
       "      <td>5.99</td>\n",
       "      <td>7.66</td>\n",
       "      <td>6.59</td>\n",
       "      <td>5.67</td>\n",
       "      <td>5.24</td>\n",
       "      <td>3.94</td>\n",
       "      <td>3.95</td>\n",
       "      <td>0.90</td>\n",
       "    </tr>\n",
       "    <tr>\n",
       "      <th>91</th>\n",
       "      <td>A223_clean.txt</td>\n",
       "      <td>0.0</td>\n",
       "      <td>5000.0</td>\n",
       "      <td>1.0</td>\n",
       "      <td>0.0</td>\n",
       "      <td>7.0</td>\n",
       "      <td>7.5</td>\n",
       "      <td>11.5</td>\n",
       "      <td>8.654</td>\n",
       "      <td>7.0</td>\n",
       "      <td>...</td>\n",
       "      <td>7.766</td>\n",
       "      <td>7.35</td>\n",
       "      <td>5.99</td>\n",
       "      <td>7.66</td>\n",
       "      <td>6.59</td>\n",
       "      <td>5.67</td>\n",
       "      <td>5.24</td>\n",
       "      <td>3.94</td>\n",
       "      <td>3.95</td>\n",
       "      <td>0.90</td>\n",
       "    </tr>\n",
       "    <tr>\n",
       "      <th>92</th>\n",
       "      <td>A223_clean.txt</td>\n",
       "      <td>0.0</td>\n",
       "      <td>5000.0</td>\n",
       "      <td>1.0</td>\n",
       "      <td>0.0</td>\n",
       "      <td>7.0</td>\n",
       "      <td>7.5</td>\n",
       "      <td>11.5</td>\n",
       "      <td>8.654</td>\n",
       "      <td>7.0</td>\n",
       "      <td>...</td>\n",
       "      <td>7.766</td>\n",
       "      <td>7.35</td>\n",
       "      <td>5.99</td>\n",
       "      <td>7.66</td>\n",
       "      <td>6.59</td>\n",
       "      <td>5.67</td>\n",
       "      <td>5.24</td>\n",
       "      <td>3.94</td>\n",
       "      <td>3.95</td>\n",
       "      <td>0.90</td>\n",
       "    </tr>\n",
       "  </tbody>\n",
       "</table>\n",
       "<p>93 rows × 21 columns</p>\n",
       "</div>"
      ],
      "text/plain": [
       "   #name_of_spectrum_to_fit   rv    teff  logg  [Fe/H]  Input_vmicroturb  \\\n",
       "0            A223_clean.txt  0.0  5000.0   1.0     0.0               7.0   \n",
       "1            A223_clean.txt  0.0  5000.0   1.0     0.0               7.0   \n",
       "2            A223_clean.txt  0.0  5000.0   1.0     0.0               7.0   \n",
       "3            A223_clean.txt  0.0  5000.0   1.0     0.0               7.0   \n",
       "4            A223_clean.txt  0.0  5000.0   1.0     0.0               7.0   \n",
       "..                      ...  ...     ...   ...     ...               ...   \n",
       "88           A223_clean.txt  0.0  5000.0   1.0     0.0               7.0   \n",
       "89           A223_clean.txt  0.0  5000.0   1.0     0.0               7.0   \n",
       "90           A223_clean.txt  0.0  5000.0   1.0     0.0               7.0   \n",
       "91           A223_clean.txt  0.0  5000.0   1.0     0.0               7.0   \n",
       "92           A223_clean.txt  0.0  5000.0   1.0     0.0               7.0   \n",
       "\n",
       "    A(H)  A(He)   A(C)  A(O)  ...   A(N)  A(Mg)  A(Na)  A(S)  A(Si)  A(Ca)  \\\n",
       "0    7.5   11.5  8.654   7.0  ...  7.766   7.35   5.99  7.66   6.59   5.67   \n",
       "1    7.5   11.5  8.654   7.0  ...  7.766   7.35   5.99  7.66   6.59   5.67   \n",
       "2    7.5   11.5  8.654   7.0  ...  7.766   7.35   5.99  7.66   6.59   5.67   \n",
       "3    7.5   11.5  8.654   7.0  ...  7.766   7.35   5.99  7.66   6.59   5.67   \n",
       "4    7.5   11.5  8.654   7.0  ...  7.766   7.35   5.99  7.66   6.59   5.67   \n",
       "..   ...    ...    ...   ...  ...    ...    ...    ...   ...    ...    ...   \n",
       "88   7.5   11.5  8.654   7.0  ...  7.766   7.35   5.99  7.66   6.59   5.67   \n",
       "89   7.5   11.5  8.654   7.0  ...  7.766   7.35   5.99  7.66   6.59   5.67   \n",
       "90   7.5   11.5  8.654   7.0  ...  7.766   7.35   5.99  7.66   6.59   5.67   \n",
       "91   7.5   11.5  8.654   7.0  ...  7.766   7.35   5.99  7.66   6.59   5.67   \n",
       "92   7.5   11.5  8.654   7.0  ...  7.766   7.35   5.99  7.66   6.59   5.67   \n",
       "\n",
       "    A(Ni)  A(Ti)  A(Co)  oisorat  \n",
       "0    5.24   3.94   3.95     0.30  \n",
       "1    5.24   3.94   3.95     0.30  \n",
       "2    5.24   3.94   3.95     0.30  \n",
       "3    5.24   3.94   3.95     0.32  \n",
       "4    5.24   3.94   3.95     0.32  \n",
       "..    ...    ...    ...      ...  \n",
       "88   5.24   3.94   3.95     0.88  \n",
       "89   5.24   3.94   3.95     0.88  \n",
       "90   5.24   3.94   3.95     0.90  \n",
       "91   5.24   3.94   3.95     0.90  \n",
       "92   5.24   3.94   3.95     0.90  \n",
       "\n",
       "[93 rows x 21 columns]"
      ]
     },
     "execution_count": 88,
     "metadata": {},
     "output_type": "execute_result"
    }
   ],
   "source": [
    "# Extract the last row\n",
    "last_row = fitlist.iloc[-1]\n",
    "\n",
    "# Create a new DataFrame by repeating the last row n times\n",
    "new_rows = pd.DataFrame([last_row] * (len(rats) - len(fitlist)), columns=fitlist.columns)\n",
    "\n",
    "# Append the new rows to the original DataFrame\n",
    "fitlist2 = pd.concat([fitlist, new_rows], ignore_index=True)\n",
    "\n",
    "fitlist2['oisorat'] = np.round(rats,3)\n",
    "fitlist2"
   ]
  },
  {
   "cell_type": "code",
   "execution_count": 89,
   "metadata": {},
   "outputs": [],
   "source": [
    "fitlist2.to_csv('/media/advait/DATA/research/rcb-project/TSFitPy/input_files/a223/fitlist_comb', sep=' ', index=False)"
   ]
  },
  {
   "cell_type": "code",
   "execution_count": 2,
   "metadata": {},
   "outputs": [],
   "source": [
    "allpath = '/media/advait/DATA/research/rcb-project/TSFitPy/output_files/hd182040/Nov-05-2024-07-25-46_0.7358498135708336_LTE_O_1D/output'\n",
    "# allpath = \"/media/advait/DATA/research/rcb-project/TSFitPy/output_files/hd137613/Oct-17-2024-23-13-22_0.35833114159931434_LTE_O_1D/output\"\n",
    "df1 = pd.read_csv(allpath, sep='\\t')\n",
    "# allpath = '/media/advait/DATA/research/rcb-project/TSFitPy/output_files/asas-rcb-21-2/Oct-16-2024-10-19-06_0.7760709184924286_LTE_O_1D/output'\n",
    "# df2 = pd.read_csv(allpath, sep='\\t')\n"
   ]
  },
  {
   "cell_type": "code",
   "execution_count": 3,
   "metadata": {},
   "outputs": [],
   "source": [
    "# df_fine = pd.concat([df1,df2])\n",
    "df_fine = df1\n",
    "df_fine.sort_values(by='oisorat', inplace=True)\n",
    "rats = np.unique(df_fine['oisorat'])"
   ]
  },
  {
   "cell_type": "code",
   "execution_count": 4,
   "metadata": {},
   "outputs": [
    {
     "data": {
      "text/plain": [
       "np.float64(-2.071238383983584)"
      ]
     },
     "execution_count": 4,
     "metadata": {},
     "output_type": "execute_result"
    }
   ],
   "source": [
    "np.max(df_fine['Doppler_Shift_add_to_RV'])"
   ]
  },
  {
   "cell_type": "code",
   "execution_count": 5,
   "metadata": {},
   "outputs": [
    {
     "name": "stderr",
     "output_type": "stream",
     "text": [
      "/tmp/ipykernel_626072/245589135.py:7: SettingWithCopyWarning: \n",
      "A value is trying to be set on a copy of a slice from a DataFrame\n",
      "\n",
      "See the caveats in the documentation: https://pandas.pydata.org/pandas-docs/stable/user_guide/indexing.html#returning-a-view-versus-a-copy\n",
      "  subdf.sort_values(by='red_chi_squared', inplace=True)\n"
     ]
    }
   ],
   "source": [
    "rats = np.unique(df_fine['oisorat'])\n",
    "chis, dchis, oabunds, doabunds = [], [], [], []\n",
    "rvs = []\n",
    "for rat in rats:\n",
    "    subdf = df_fine[df_fine['oisorat'] == rat]\n",
    "    # sort by chi squared and take the first 2\n",
    "    subdf.sort_values(by='red_chi_squared', inplace=True)\n",
    "    # subdf = subdf.iloc[:2]\n",
    "    meanchi = np.mean(subdf['red_chi_squared'])\n",
    "    stdchi = np.std(subdf['red_chi_squared'])\n",
    "    meanoabund = np.mean(subdf['O_Fe'])\n",
    "    stdoabund = np.std(subdf['O_Fe'])\n",
    "    rv = np.mean(subdf['Doppler_Shift_add_to_RV'])\n",
    "    rvs.append(rv)\n",
    "    chis.append(meanchi)\n",
    "    dchis.append(stdchi)\n",
    "    oabunds.append(meanoabund)\n",
    "    doabunds.append(stdoabund)"
   ]
  },
  {
   "cell_type": "code",
   "execution_count": 6,
   "metadata": {},
   "outputs": [
    {
     "data": {
      "text/html": [
       "<div>\n",
       "<style scoped>\n",
       "    .dataframe tbody tr th:only-of-type {\n",
       "        vertical-align: middle;\n",
       "    }\n",
       "\n",
       "    .dataframe tbody tr th {\n",
       "        vertical-align: top;\n",
       "    }\n",
       "\n",
       "    .dataframe thead th {\n",
       "        text-align: right;\n",
       "    }\n",
       "</style>\n",
       "<table border=\"1\" class=\"dataframe\">\n",
       "  <thead>\n",
       "    <tr style=\"text-align: right;\">\n",
       "      <th></th>\n",
       "      <th>specname</th>\n",
       "      <th>O_Fe</th>\n",
       "      <th>Doppler_Shift_add_to_RV</th>\n",
       "      <th>chi_squared</th>\n",
       "      <th>vmac</th>\n",
       "      <th>red_chi_squared</th>\n",
       "      <th>oisorat</th>\n",
       "    </tr>\n",
       "  </thead>\n",
       "  <tbody>\n",
       "    <tr>\n",
       "      <th>30</th>\n",
       "      <td>HD182040_clean.txt</td>\n",
       "      <td>-0.783</td>\n",
       "      <td>-2.126002</td>\n",
       "      <td>1.785475</td>\n",
       "      <td>0.0</td>\n",
       "      <td>5.217628</td>\n",
       "      <td>0.9</td>\n",
       "    </tr>\n",
       "  </tbody>\n",
       "</table>\n",
       "</div>"
      ],
      "text/plain": [
       "              specname   O_Fe  Doppler_Shift_add_to_RV  chi_squared  vmac  \\\n",
       "30  HD182040_clean.txt -0.783                -2.126002     1.785475   0.0   \n",
       "\n",
       "    red_chi_squared  oisorat  \n",
       "30         5.217628      0.9  "
      ]
     },
     "execution_count": 6,
     "metadata": {},
     "output_type": "execute_result"
    }
   ],
   "source": [
    "subdf"
   ]
  },
  {
   "cell_type": "code",
   "execution_count": 7,
   "metadata": {},
   "outputs": [
    {
     "name": "stdout",
     "output_type": "stream",
     "text": [
      "0.58 -0.24 0.35\n"
     ]
    },
    {
     "data": {
      "text/plain": [
       "Text(0.5, 0, '16O/18O ratio')"
      ]
     },
     "execution_count": 7,
     "metadata": {},
     "output_type": "execute_result"
    },
    {
     "data": {
      "image/png": "[encoded data removed]",
      "text/plain": [
       "<Figure size 800x600 with 1 Axes>"
      ]
     },
     "metadata": {},
     "output_type": "display_data"
    }
   ],
   "source": [
    "plt.plot(rats, chis, 'ko-')\n",
    "plt.errorbar(rats, chis, yerr=dchis, fmt='ko', capsize=3)\n",
    "# plt.axhline(np.min(chis), ls='--', color='r')\n",
    "# plt.axhline(np.min(chis)+1.0, ls='--', color='r')\n",
    "# plt.axvline(3.4)\n",
    "plt.grid(which='both')\n",
    "\n",
    "# fit a 3rd degree polynomial weighted by the errors\n",
    "p = np.polyfit(rats, chis, 5)\n",
    "x = np.linspace(0.3,0.95,100)\n",
    "y = np.polyval(p, x)\n",
    "plt.plot(x, y, 'r')\n",
    "plt.axvline(x[np.where(y == np.min(y))], color='r')\n",
    "xfit = x[np.where(y == np.min(y))]\n",
    "plt.axhline(np.min(y), color='r')\n",
    "# find nearest x value to min + 1 y value\n",
    "ybound = np.min(y) + 1.0\n",
    "diff = np.abs(y-ybound)\n",
    "idx = np.where(diff == np.min(diff))\n",
    "# find the index of next minimum\n",
    "idx2 = np.where(diff == np.partition(diff, 1)[1])\n",
    "xbounds = (x[idx]-xfit).round(2), (x[idx2]-xfit).round(2)\n",
    "plt.axvline(x[idx], color='r')\n",
    "plt.axvline(x[idx2], color='r')\n",
    "plt.axhline(ybound, color='r')\n",
    "print(xfit[0].round(2), xbounds[0][0], xbounds[1][0])\n",
    "plt.ylabel(r'$\\chi^2$')\n",
    "plt.xlabel(\"16O/18O ratio\")\n",
    "# find x values nearest to ybounds\n"
   ]
  },
  {
   "cell_type": "code",
   "execution_count": 9,
   "metadata": {},
   "outputs": [
    {
     "name": "stdout",
     "output_type": "stream",
     "text": [
      "0.634 -0.116 0.116\n"
     ]
    },
    {
     "data": {
      "image/png": "[encoded data removed]",
      "text/plain": [
       "<Figure size 800x600 with 1 Axes>"
      ]
     },
     "metadata": {},
     "output_type": "display_data"
    }
   ],
   "source": [
    "o18rats = 1/(1+rats)\n",
    "plt.plot(o18rats, chis, 'ko-')\n",
    "p = np.polyfit(o18rats, chis, 4)\n",
    "\n",
    "# Evaluate the polynomial fit on a logarithmic scale\n",
    "x = np.linspace(0.5, 0.75, 500)\n",
    "y = np.polyval(p, x)\n",
    "\n",
    "# Convert x back to the original scale for plotting\n",
    "# x_original = np.exp(x)\n",
    "\n",
    "# Plot the polynomial fit\n",
    "plt.plot(x, y, 'r')\n",
    "plt.axvline(x[np.where(y == np.min(y))], color='r')\n",
    "xfit = x[np.where(y == np.min(y))]\n",
    "plt.axhline(np.min(y), color='r')\n",
    "\n",
    "# Find nearest x value to min + 1 y value\n",
    "ybound = np.min(y) + 1.0\n",
    "diff = np.abs(y - ybound)\n",
    "idx = np.where(diff == np.min(diff))\n",
    "# Find the index of next minimum\n",
    "idx2 = np.where(diff == np.partition(diff, 1)[1])\n",
    "xbounds = (x[idx] - xfit).round(3), (x[idx2] - xfit).round(3)\n",
    "plt.axvline(x[idx], color='r')\n",
    "plt.axvline(x[idx2], color='r')\n",
    "plt.axhline(ybound, color='r')\n",
    "\n",
    "print(xfit[0].round(3), xbounds[0][0], xbounds[1][0])\n",
    "\n",
    "# Label the axes\n",
    "plt.ylabel(r'$\\chi^2$')\n",
    "plt.xlabel(\"16O/18O ratio\")\n",
    "# plt.xscale('log')\n",
    "# xs = np.linspace(np.log(300), np.log(800), 10)\n",
    "# plt.plot(np.exp(xs), np.polyval(p, (xs)), 'k.')\n",
    "plt.show()"
   ]
  },
  {
   "cell_type": "code",
   "execution_count": 124,
   "metadata": {},
   "outputs": [
    {
     "name": "stderr",
     "output_type": "stream",
     "text": [
      "/media/advait/DATA/research/rcb-project/TSFitPy/plotting_tools/scripts_for_plotting.py:109: FutureWarning: errors='ignore' is deprecated and will raise in a future version. Use to_numeric without passing `errors` and catch exceptions explicitly instead\n",
      "  output_file_df = output_file_df.apply(pd.to_numeric, errors='ignore')\n"
     ]
    }
   ],
   "source": [
    "# outpath = \"/media/advait/DATA/research/rcb-project/TSFitPy/output_files/wise222/Oct-13-2024-22-42-15_0.9770073685963133_LTE_O_1D\"\n",
    "outpath = \"/media/advait/DATA/research/rcb-project/TSFitPy/output_files/hd182040/Nov-05-2024-20-38-32_0.25630684911208235_LTE_O_1D\"\n",
    "config_dict = load_output_data(outpath)\n",
    "output_results_pd_df = config_dict[\"output_file_df\"]\n",
    "output_trimmed = (output_results_pd_df[output_results_pd_df[\"chi_squared\"] < 20])"
   ]
  },
  {
   "cell_type": "code",
   "execution_count": 125,
   "metadata": {},
   "outputs": [
    {
     "data": {
      "text/plain": [
       "<matplotlib.colorbar.Colorbar at 0x73ef06fb8800>"
      ]
     },
     "execution_count": 125,
     "metadata": {},
     "output_type": "execute_result"
    },
    {
     "data": {
      "image/png": "[encoded data removed]",
      "text/plain": [
       "<Figure size 800x600 with 2 Axes>"
      ]
     },
     "metadata": {},
     "output_type": "display_data"
    }
   ],
   "source": [
    "plt.scatter(output_trimmed['wave_center'], output_trimmed['O_Fe']+solar_abundances['O'], c = output_trimmed['chi_squared'], cmap = 'inferno')\n",
    "plt.colorbar()"
   ]
  },
  {
   "cell_type": "code",
   "execution_count": 134,
   "metadata": {},
   "outputs": [
    {
     "data": {
      "text/plain": [
       "(np.float64(7.987), np.float64(0.084))"
      ]
     },
     "execution_count": 134,
     "metadata": {},
     "output_type": "execute_result"
    }
   ],
   "source": [
    "(solar_abundances['O']+np.mean(output_trimmed['O_Fe'])).round(3), np.std(output_trimmed['O_Fe']).round(3)"
   ]
  },
  {
   "cell_type": "code",
   "execution_count": 135,
   "metadata": {},
   "outputs": [
    {
     "data": {
      "text/plain": [
       "np.float64(-0.7828921052631578)"
      ]
     },
     "execution_count": 135,
     "metadata": {},
     "output_type": "execute_result"
    }
   ],
   "source": [
    "np.mean(output_trimmed['O_Fe'])"
   ]
  },
  {
   "cell_type": "code",
   "execution_count": null,
   "metadata": {},
   "outputs": [],
   "source": []
  }
 ],
 "metadata": {
  "kernelspec": {
   "display_name": "astro",
   "language": "python",
   "name": "python3"
  },
  "language_info": {
   "codemirror_mode": {
    "name": "ipython",
    "version": 3
   },
   "file_extension": ".py",
   "mimetype": "text/x-python",
   "name": "python",
   "nbconvert_exporter": "python",
   "pygments_lexer": "ipython3",
   "version": "3.12.5"
  }
 },
 "nbformat": 4,
 "nbformat_minor": 2
}
