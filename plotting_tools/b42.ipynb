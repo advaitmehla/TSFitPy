{
 "cells": [
  {
   "cell_type": "code",
   "execution_count": 1,
   "metadata": {},
   "outputs": [],
   "source": [
    "from __future__ import annotations\n",
    "try:\n",
    "    from scripts_for_plotting import *\n",
    "except ModuleNotFoundError:\n",
    "    import sys\n",
    "    sys.path.append('../')\n",
    "    from scripts_for_plotting import *\n",
    "import scienceplots\n",
    "plt.style.use(['science', 'notebook'])"
   ]
  },
  {
   "cell_type": "code",
   "execution_count": 63,
   "metadata": {},
   "outputs": [
    {
     "name": "stderr",
     "output_type": "stream",
     "text": [
      "/media/advait/DATA/research/rcb-project/TSFitPy/plotting_tools/scripts_for_plotting.py:109: FutureWarning: errors='ignore' is deprecated and will raise in a future version. Use to_numeric without passing `errors` and catch exceptions explicitly instead\n",
      "  output_file_df = output_file_df.apply(pd.to_numeric, errors='ignore')\n"
     ]
    }
   ],
   "source": [
    "# outpath = \"/media/advait/DATA/research/rcb-project/TSFitPy/output_files/wise222/Oct-13-2024-22-42-15_0.9770073685963133_LTE_O_1D\"\n",
    "outpath = \"/media/advait/DATA/research/rcb-project/TSFitPy/output_files/b42/Nov-13-2024-23-37-23_0.7143957513699482_LTE_Na_1D\"\n",
    "config_dict = load_output_data(outpath)\n",
    "output_results_pd_df = config_dict[\"output_file_df\"]\n",
    "output_trimmed = (output_results_pd_df[output_results_pd_df[\"chi_squared\"] >0])\n"
   ]
  },
  {
   "cell_type": "code",
   "execution_count": 64,
   "metadata": {},
   "outputs": [],
   "source": [
    "remove = [22770.0\t,22740.0,23308.0\t\t\t]\n",
    "output_trimmed = output_trimmed[~output_trimmed[\"wave_center\"].isin(remove)]"
   ]
  },
  {
   "cell_type": "code",
   "execution_count": 65,
   "metadata": {},
   "outputs": [],
   "source": [
    "# output_trimmed = output_trimmed[output_trimmed[\"flag_warning\"]!=1010000]"
   ]
  },
  {
   "cell_type": "code",
   "execution_count": 66,
   "metadata": {},
   "outputs": [
    {
     "data": {
      "text/html": [
       "<div>\n",
       "<style scoped>\n",
       "    .dataframe tbody tr th:only-of-type {\n",
       "        vertical-align: middle;\n",
       "    }\n",
       "\n",
       "    .dataframe tbody tr th {\n",
       "        vertical-align: top;\n",
       "    }\n",
       "\n",
       "    .dataframe thead th {\n",
       "        text-align: right;\n",
       "    }\n",
       "</style>\n",
       "<table border=\"1\" class=\"dataframe\">\n",
       "  <thead>\n",
       "    <tr style=\"text-align: right;\">\n",
       "      <th></th>\n",
       "      <th>specname</th>\n",
       "      <th>wave_center</th>\n",
       "      <th>wave_start</th>\n",
       "      <th>wave_end</th>\n",
       "      <th>Doppler_Shift_add_to_RV</th>\n",
       "      <th>Fe_H</th>\n",
       "      <th>Na_Fe</th>\n",
       "      <th>Microturb</th>\n",
       "      <th>Macroturb</th>\n",
       "      <th>rotation</th>\n",
       "      <th>chi_squared</th>\n",
       "      <th>ew</th>\n",
       "      <th>flag_error</th>\n",
       "      <th>flag_warning</th>\n",
       "    </tr>\n",
       "  </thead>\n",
       "  <tbody>\n",
       "    <tr>\n",
       "      <th>0</th>\n",
       "      <td>B42_clean.txt</td>\n",
       "      <td>23348.5</td>\n",
       "      <td>23347.0</td>\n",
       "      <td>23350.0</td>\n",
       "      <td>1.9197</td>\n",
       "      <td>0.0</td>\n",
       "      <td>0.7653</td>\n",
       "      <td>6.0</td>\n",
       "      <td>0.0</td>\n",
       "      <td>0.0</td>\n",
       "      <td>8.484498</td>\n",
       "      <td>797.4085</td>\n",
       "      <td>0</td>\n",
       "      <td>0</td>\n",
       "    </tr>\n",
       "    <tr>\n",
       "      <th>1</th>\n",
       "      <td>B42_clean.txt</td>\n",
       "      <td>23379.0</td>\n",
       "      <td>23377.0</td>\n",
       "      <td>23381.0</td>\n",
       "      <td>-1.6830</td>\n",
       "      <td>0.0</td>\n",
       "      <td>0.2870</td>\n",
       "      <td>6.0</td>\n",
       "      <td>0.0</td>\n",
       "      <td>0.0</td>\n",
       "      <td>0.712065</td>\n",
       "      <td>790.1457</td>\n",
       "      <td>0</td>\n",
       "      <td>0</td>\n",
       "    </tr>\n",
       "  </tbody>\n",
       "</table>\n",
       "</div>"
      ],
      "text/plain": [
       "        specname  wave_center  wave_start  wave_end  Doppler_Shift_add_to_RV  \\\n",
       "0  B42_clean.txt      23348.5     23347.0   23350.0                   1.9197   \n",
       "1  B42_clean.txt      23379.0     23377.0   23381.0                  -1.6830   \n",
       "\n",
       "   Fe_H   Na_Fe  Microturb  Macroturb  rotation  chi_squared        ew  \\\n",
       "0   0.0  0.7653        6.0        0.0       0.0     8.484498  797.4085   \n",
       "1   0.0  0.2870        6.0        0.0       0.0     0.712065  790.1457   \n",
       "\n",
       "   flag_error  flag_warning  \n",
       "0           0             0  \n",
       "1           0             0  "
      ]
     },
     "execution_count": 66,
     "metadata": {},
     "output_type": "execute_result"
    }
   ],
   "source": [
    "output_trimmed"
   ]
  },
  {
   "cell_type": "code",
   "execution_count": 67,
   "metadata": {},
   "outputs": [
    {
     "data": {
      "text/plain": [
       "np.float64(0.53)"
      ]
     },
     "execution_count": 67,
     "metadata": {},
     "output_type": "execute_result"
    }
   ],
   "source": [
    "X = \"Na\"\n",
    "np.mean(output_trimmed[f\"{X}_Fe\"]).round(2)"
   ]
  },
  {
   "cell_type": "code",
   "execution_count": 70,
   "metadata": {},
   "outputs": [
    {
     "data": {
      "text/plain": [
       "6.577"
      ]
     },
     "execution_count": 70,
     "metadata": {},
     "output_type": "execute_result"
    }
   ],
   "source": [
    "(solar_abundances[X] + 0.2870\t)"
   ]
  },
  {
   "cell_type": "code",
   "execution_count": null,
   "metadata": {},
   "outputs": [],
   "source": [
    "(solar_abundances[X] + np.mean(output_trimmed[f\"{X}_Fe\"])).round(2)"
   ]
  },
  {
   "cell_type": "code",
   "execution_count": 14,
   "metadata": {},
   "outputs": [
    {
     "data": {
      "text/plain": [
       "np.float64(-0.31)"
      ]
     },
     "execution_count": 14,
     "metadata": {},
     "output_type": "execute_result"
    }
   ],
   "source": [
    "np.mean(output_trimmed[f\"Fe_H\"]).round(2)"
   ]
  },
  {
   "cell_type": "code",
   "execution_count": 16,
   "metadata": {},
   "outputs": [
    {
     "data": {
      "text/plain": [
       "np.float64(7.19)"
      ]
     },
     "execution_count": 16,
     "metadata": {},
     "output_type": "execute_result"
    }
   ],
   "source": [
    "(solar_abundances[\"Fe\"] + np.mean(output_trimmed[f\"Fe_H\"])).round(2)"
   ]
  },
  {
   "cell_type": "code",
   "execution_count": 71,
   "metadata": {},
   "outputs": [],
   "source": [
    "# plot_one_star(config_dict, \"B42_clean\")"
   ]
  },
  {
   "cell_type": "code",
   "execution_count": 2,
   "metadata": {},
   "outputs": [],
   "source": [
    "multwavs = [22587.95,22593.85,22613.8,22634,22659.4,22680.5,22691.75,22703,22713.25,22773.25,22783.3,22789.35,22915.25,23028.35,23067.25,23655.35,\n",
    "            22920.00, 23292.60]\n"
   ]
  },
  {
   "cell_type": "code",
   "execution_count": 3,
   "metadata": {},
   "outputs": [
    {
     "name": "stderr",
     "output_type": "stream",
     "text": [
      "/media/advait/DATA/research/rcb-project/TSFitPy/plotting_tools/scripts_for_plotting.py:109: FutureWarning: errors='ignore' is deprecated and will raise in a future version. Use to_numeric without passing `errors` and catch exceptions explicitly instead\n",
      "  output_file_df = output_file_df.apply(pd.to_numeric, errors='ignore')\n"
     ]
    }
   ],
   "source": [
    "# outpath = \"/media/advait/DATA/research/rcb-project/TSFitPy/output_files/wise222/Oct-13-2024-22-42-15_0.9770073685963133_LTE_O_1D\"\n",
    "outpath = \"/media/advait/DATA/research/rcb-project/TSFitPy/output_files/b42/Nov-11-2024-13-29-55_0.7786918172011659_LTE_N_1D\"\n",
    "config_dict = load_output_data(outpath)\n",
    "output_results_pd_df = config_dict[\"output_file_df\"]\n",
    "output_trimmed_vmic = (output_results_pd_df[output_results_pd_df[\"chi_squared\"] < 20])\n",
    "output_trimmed_vmic = output_trimmed_vmic.reset_index(drop=True)\n",
    "output_trimmed_vmic = output_trimmed_vmic[~output_trimmed_vmic[\"wave_center\"].isin(multwavs)]"
   ]
  },
  {
   "cell_type": "code",
   "execution_count": 5,
   "metadata": {},
   "outputs": [
    {
     "name": "stdout",
     "output_type": "stream",
     "text": [
      "5.0 0.004293129623058763 14\n",
      "6.0 0.00433856905439897 15\n",
      "7.0 0.003568189482968728 15\n",
      "8.0 0.004272264478402368 18\n"
     ]
    },
    {
     "data": {
      "image/png": "[encoded data removed]",
      "text/plain": [
       "<Figure size 800x600 with 1 Axes>"
      ]
     },
     "metadata": {},
     "output_type": "display_data"
    }
   ],
   "source": [
    "vmics = np.unique(output_trimmed_vmic[\"Microturb\"].values)\n",
    "cs = ['r', 'g', 'b', 'c', 'm', 'y']\n",
    "markers = ['o', 's', 'D', '^', 'v', 'p']\n",
    "for i in range(len(vmics)):\n",
    "    vmic = vmics[i]\n",
    "    output_vmic = output_trimmed_vmic[output_trimmed_vmic[\"Microturb\"] == vmic]\n",
    "    ews = np.array(output_vmic[\"ew\"])\n",
    "    nfes = np.array(output_vmic[\"N_Fe\"])\n",
    "    mean_nfe = np.mean(nfes)\n",
    "    std_nfe = np.std(nfes)\n",
    "    choose_idxs = np.where(np.logical_and(np.abs(nfes - mean_nfe) < 3*std_nfe, nfes>-0.5))\n",
    "    choose_idxs = choose_idxs[0]\n",
    "\n",
    "    ews = ews[choose_idxs]\n",
    "    nfes = nfes[choose_idxs]\n",
    "    corr = np.corrcoef(ews,nfes)[0,1]\n",
    "    corr = corr.round(2)\n",
    "    plt.scatter(ews,nfes, c=cs[i], marker = markers[i], label = f\"vmic = {vmics[i]}, corr = {corr}\")\n",
    "    m,c = np.polyfit(ews,nfes,1)\n",
    "    x = np.linspace(80, 400, 100)\n",
    "    y = m*x + c\n",
    "    print(vmics[i], m, len(nfes))\n",
    "    plt.plot(x,y, c = cs[i])\n",
    "    plt.legend(fontsize = 8)\n",
    "    plt.ylabel(\"[N/Fe]\")\n",
    "    plt.xlabel(\"EW\")"
   ]
  },
  {
   "cell_type": "code",
   "execution_count": 11,
   "metadata": {},
   "outputs": [
    {
     "name": "stderr",
     "output_type": "stream",
     "text": [
      "/media/advait/DATA/research/rcb-project/TSFitPy/plotting_tools/scripts_for_plotting.py:109: FutureWarning: errors='ignore' is deprecated and will raise in a future version. Use to_numeric without passing `errors` and catch exceptions explicitly instead\n",
      "  output_file_df = output_file_df.apply(pd.to_numeric, errors='ignore')\n"
     ]
    }
   ],
   "source": [
    "# outpath = \"/media/advait/DATA/research/rcb-project/TSFitPy/output_files/wise222/Oct-13-2024-22-42-15_0.9770073685963133_LTE_O_1D\"\n",
    "outpath = \"/media/advait/DATA/research/rcb-project/TSFitPy/output_files/b42/Nov-11-2024-15-36-38_0.07947762042312756_LTE_O_1D\"\n",
    "config_dict = load_output_data(outpath)\n",
    "output_results_pd_df = config_dict[\"output_file_df\"]\n",
    "output_trimmed_vmic = (output_results_pd_df[output_results_pd_df[\"chi_squared\"] < 30])\n",
    "output_trimmed_vmic = output_trimmed_vmic.reset_index(drop=True)\n",
    "output_trimmed_vmic = output_trimmed_vmic[~output_trimmed_vmic[\"wave_center\"].isin(multwavs)]"
   ]
  },
  {
   "cell_type": "code",
   "execution_count": 12,
   "metadata": {},
   "outputs": [
    {
     "data": {
      "text/html": [
       "<div>\n",
       "<style scoped>\n",
       "    .dataframe tbody tr th:only-of-type {\n",
       "        vertical-align: middle;\n",
       "    }\n",
       "\n",
       "    .dataframe tbody tr th {\n",
       "        vertical-align: top;\n",
       "    }\n",
       "\n",
       "    .dataframe thead th {\n",
       "        text-align: right;\n",
       "    }\n",
       "</style>\n",
       "<table border=\"1\" class=\"dataframe\">\n",
       "  <thead>\n",
       "    <tr style=\"text-align: right;\">\n",
       "      <th></th>\n",
       "      <th>specname</th>\n",
       "      <th>wave_center</th>\n",
       "      <th>wave_start</th>\n",
       "      <th>wave_end</th>\n",
       "      <th>Doppler_Shift_add_to_RV</th>\n",
       "      <th>Fe_H</th>\n",
       "      <th>O_Fe</th>\n",
       "      <th>Microturb</th>\n",
       "      <th>Macroturb</th>\n",
       "      <th>rotation</th>\n",
       "      <th>chi_squared</th>\n",
       "      <th>ew</th>\n",
       "      <th>flag_error</th>\n",
       "      <th>flag_warning</th>\n",
       "    </tr>\n",
       "  </thead>\n",
       "  <tbody>\n",
       "    <tr>\n",
       "      <th>0</th>\n",
       "      <td>B42_clean.txt</td>\n",
       "      <td>22978.00</td>\n",
       "      <td>22976.0</td>\n",
       "      <td>22980.0</td>\n",
       "      <td>0.9223</td>\n",
       "      <td>0.0</td>\n",
       "      <td>-2.5000</td>\n",
       "      <td>5.0</td>\n",
       "      <td>0.0</td>\n",
       "      <td>0.0</td>\n",
       "      <td>9.987083</td>\n",
       "      <td>199.4746</td>\n",
       "      <td>10000</td>\n",
       "      <td>11010000</td>\n",
       "    </tr>\n",
       "    <tr>\n",
       "      <th>1</th>\n",
       "      <td>B42_clean.txt</td>\n",
       "      <td>23362.10</td>\n",
       "      <td>23360.7</td>\n",
       "      <td>23363.5</td>\n",
       "      <td>1.9833</td>\n",
       "      <td>0.0</td>\n",
       "      <td>-2.5000</td>\n",
       "      <td>5.0</td>\n",
       "      <td>0.0</td>\n",
       "      <td>0.0</td>\n",
       "      <td>28.091089</td>\n",
       "      <td>274.3469</td>\n",
       "      <td>0</td>\n",
       "      <td>10001000</td>\n",
       "    </tr>\n",
       "    <tr>\n",
       "      <th>2</th>\n",
       "      <td>B42_clean.txt</td>\n",
       "      <td>23373.00</td>\n",
       "      <td>23371.5</td>\n",
       "      <td>23374.5</td>\n",
       "      <td>-2.5000</td>\n",
       "      <td>0.0</td>\n",
       "      <td>-0.5267</td>\n",
       "      <td>5.0</td>\n",
       "      <td>0.0</td>\n",
       "      <td>0.0</td>\n",
       "      <td>25.007041</td>\n",
       "      <td>215.3265</td>\n",
       "      <td>10000</td>\n",
       "      <td>10010000</td>\n",
       "    </tr>\n",
       "    <tr>\n",
       "      <th>3</th>\n",
       "      <td>B42_clean.txt</td>\n",
       "      <td>23437.95</td>\n",
       "      <td>23436.7</td>\n",
       "      <td>23439.2</td>\n",
       "      <td>-2.0415</td>\n",
       "      <td>0.0</td>\n",
       "      <td>-2.5000</td>\n",
       "      <td>5.0</td>\n",
       "      <td>0.0</td>\n",
       "      <td>0.0</td>\n",
       "      <td>7.922167</td>\n",
       "      <td>26.7045</td>\n",
       "      <td>10000</td>\n",
       "      <td>11011000</td>\n",
       "    </tr>\n",
       "    <tr>\n",
       "      <th>4</th>\n",
       "      <td>B42_clean.txt</td>\n",
       "      <td>23759.00</td>\n",
       "      <td>23757.5</td>\n",
       "      <td>23760.5</td>\n",
       "      <td>-0.3495</td>\n",
       "      <td>0.0</td>\n",
       "      <td>-2.5000</td>\n",
       "      <td>5.0</td>\n",
       "      <td>0.0</td>\n",
       "      <td>0.0</td>\n",
       "      <td>17.216761</td>\n",
       "      <td>20.3059</td>\n",
       "      <td>10000</td>\n",
       "      <td>11010000</td>\n",
       "    </tr>\n",
       "    <tr>\n",
       "      <th>5</th>\n",
       "      <td>B42_clean.txt</td>\n",
       "      <td>24283.60</td>\n",
       "      <td>24282.6</td>\n",
       "      <td>24284.6</td>\n",
       "      <td>-2.5000</td>\n",
       "      <td>0.0</td>\n",
       "      <td>-0.5203</td>\n",
       "      <td>5.0</td>\n",
       "      <td>0.0</td>\n",
       "      <td>0.0</td>\n",
       "      <td>7.384498</td>\n",
       "      <td>176.3979</td>\n",
       "      <td>0</td>\n",
       "      <td>10010000</td>\n",
       "    </tr>\n",
       "    <tr>\n",
       "      <th>6</th>\n",
       "      <td>B42_clean.txt</td>\n",
       "      <td>24420.95</td>\n",
       "      <td>24419.4</td>\n",
       "      <td>24422.5</td>\n",
       "      <td>-0.0516</td>\n",
       "      <td>0.0</td>\n",
       "      <td>-0.3491</td>\n",
       "      <td>5.0</td>\n",
       "      <td>0.0</td>\n",
       "      <td>0.0</td>\n",
       "      <td>22.986686</td>\n",
       "      <td>440.4578</td>\n",
       "      <td>10000</td>\n",
       "      <td>1010000</td>\n",
       "    </tr>\n",
       "    <tr>\n",
       "      <th>7</th>\n",
       "      <td>B42_clean.txt</td>\n",
       "      <td>24683.35</td>\n",
       "      <td>24682.0</td>\n",
       "      <td>24684.7</td>\n",
       "      <td>-1.3227</td>\n",
       "      <td>0.0</td>\n",
       "      <td>-2.1359</td>\n",
       "      <td>5.0</td>\n",
       "      <td>0.0</td>\n",
       "      <td>0.0</td>\n",
       "      <td>19.886573</td>\n",
       "      <td>77.7125</td>\n",
       "      <td>10000</td>\n",
       "      <td>1010000</td>\n",
       "    </tr>\n",
       "    <tr>\n",
       "      <th>8</th>\n",
       "      <td>B42_clean.txt</td>\n",
       "      <td>22978.00</td>\n",
       "      <td>22976.0</td>\n",
       "      <td>22980.0</td>\n",
       "      <td>0.8312</td>\n",
       "      <td>0.0</td>\n",
       "      <td>-0.8709</td>\n",
       "      <td>6.0</td>\n",
       "      <td>0.0</td>\n",
       "      <td>0.0</td>\n",
       "      <td>9.114983</td>\n",
       "      <td>255.0235</td>\n",
       "      <td>0</td>\n",
       "      <td>1010000</td>\n",
       "    </tr>\n",
       "    <tr>\n",
       "      <th>9</th>\n",
       "      <td>B42_clean.txt</td>\n",
       "      <td>23362.10</td>\n",
       "      <td>23360.7</td>\n",
       "      <td>23363.5</td>\n",
       "      <td>1.9840</td>\n",
       "      <td>0.0</td>\n",
       "      <td>-2.5000</td>\n",
       "      <td>6.0</td>\n",
       "      <td>0.0</td>\n",
       "      <td>0.0</td>\n",
       "      <td>25.135366</td>\n",
       "      <td>287.9420</td>\n",
       "      <td>0</td>\n",
       "      <td>10000000</td>\n",
       "    </tr>\n",
       "    <tr>\n",
       "      <th>10</th>\n",
       "      <td>B42_clean.txt</td>\n",
       "      <td>23373.00</td>\n",
       "      <td>23371.5</td>\n",
       "      <td>23374.5</td>\n",
       "      <td>-2.5000</td>\n",
       "      <td>0.0</td>\n",
       "      <td>-0.5015</td>\n",
       "      <td>6.0</td>\n",
       "      <td>0.0</td>\n",
       "      <td>0.0</td>\n",
       "      <td>24.083741</td>\n",
       "      <td>227.7857</td>\n",
       "      <td>10000</td>\n",
       "      <td>10010000</td>\n",
       "    </tr>\n",
       "    <tr>\n",
       "      <th>11</th>\n",
       "      <td>B42_clean.txt</td>\n",
       "      <td>23437.95</td>\n",
       "      <td>23436.7</td>\n",
       "      <td>23439.2</td>\n",
       "      <td>-0.8799</td>\n",
       "      <td>0.0</td>\n",
       "      <td>-2.1356</td>\n",
       "      <td>6.0</td>\n",
       "      <td>0.0</td>\n",
       "      <td>0.0</td>\n",
       "      <td>8.598265</td>\n",
       "      <td>27.3436</td>\n",
       "      <td>10000</td>\n",
       "      <td>1011000</td>\n",
       "    </tr>\n",
       "    <tr>\n",
       "      <th>12</th>\n",
       "      <td>B42_clean.txt</td>\n",
       "      <td>23759.00</td>\n",
       "      <td>23757.5</td>\n",
       "      <td>23760.5</td>\n",
       "      <td>0.6189</td>\n",
       "      <td>0.0</td>\n",
       "      <td>-2.5000</td>\n",
       "      <td>6.0</td>\n",
       "      <td>0.0</td>\n",
       "      <td>0.0</td>\n",
       "      <td>18.674321</td>\n",
       "      <td>20.9676</td>\n",
       "      <td>10000</td>\n",
       "      <td>11011000</td>\n",
       "    </tr>\n",
       "    <tr>\n",
       "      <th>13</th>\n",
       "      <td>B42_clean.txt</td>\n",
       "      <td>24283.60</td>\n",
       "      <td>24282.6</td>\n",
       "      <td>24284.6</td>\n",
       "      <td>-2.5000</td>\n",
       "      <td>0.0</td>\n",
       "      <td>-0.4391</td>\n",
       "      <td>6.0</td>\n",
       "      <td>0.0</td>\n",
       "      <td>0.0</td>\n",
       "      <td>5.730070</td>\n",
       "      <td>195.0210</td>\n",
       "      <td>0</td>\n",
       "      <td>10000000</td>\n",
       "    </tr>\n",
       "    <tr>\n",
       "      <th>14</th>\n",
       "      <td>B42_clean.txt</td>\n",
       "      <td>24420.95</td>\n",
       "      <td>24419.4</td>\n",
       "      <td>24422.5</td>\n",
       "      <td>1.0693</td>\n",
       "      <td>0.0</td>\n",
       "      <td>-2.5000</td>\n",
       "      <td>6.0</td>\n",
       "      <td>0.0</td>\n",
       "      <td>0.0</td>\n",
       "      <td>20.116833</td>\n",
       "      <td>51.5536</td>\n",
       "      <td>10000</td>\n",
       "      <td>11010000</td>\n",
       "    </tr>\n",
       "    <tr>\n",
       "      <th>15</th>\n",
       "      <td>B42_clean.txt</td>\n",
       "      <td>24683.35</td>\n",
       "      <td>24682.0</td>\n",
       "      <td>24684.7</td>\n",
       "      <td>-1.3227</td>\n",
       "      <td>0.0</td>\n",
       "      <td>-2.5000</td>\n",
       "      <td>6.0</td>\n",
       "      <td>0.0</td>\n",
       "      <td>0.0</td>\n",
       "      <td>19.987716</td>\n",
       "      <td>77.1139</td>\n",
       "      <td>10000</td>\n",
       "      <td>11011000</td>\n",
       "    </tr>\n",
       "    <tr>\n",
       "      <th>16</th>\n",
       "      <td>B42_clean.txt</td>\n",
       "      <td>22978.00</td>\n",
       "      <td>22976.0</td>\n",
       "      <td>22980.0</td>\n",
       "      <td>0.8312</td>\n",
       "      <td>0.0</td>\n",
       "      <td>-2.2007</td>\n",
       "      <td>7.0</td>\n",
       "      <td>0.0</td>\n",
       "      <td>0.0</td>\n",
       "      <td>9.247548</td>\n",
       "      <td>208.0682</td>\n",
       "      <td>10000</td>\n",
       "      <td>1011000</td>\n",
       "    </tr>\n",
       "    <tr>\n",
       "      <th>17</th>\n",
       "      <td>B42_clean.txt</td>\n",
       "      <td>23362.10</td>\n",
       "      <td>23360.7</td>\n",
       "      <td>23363.5</td>\n",
       "      <td>1.9840</td>\n",
       "      <td>0.0</td>\n",
       "      <td>-2.5000</td>\n",
       "      <td>7.0</td>\n",
       "      <td>0.0</td>\n",
       "      <td>0.0</td>\n",
       "      <td>22.606880</td>\n",
       "      <td>298.4480</td>\n",
       "      <td>0</td>\n",
       "      <td>10001000</td>\n",
       "    </tr>\n",
       "    <tr>\n",
       "      <th>18</th>\n",
       "      <td>B42_clean.txt</td>\n",
       "      <td>23373.00</td>\n",
       "      <td>23371.5</td>\n",
       "      <td>23374.5</td>\n",
       "      <td>-2.5000</td>\n",
       "      <td>0.0</td>\n",
       "      <td>-0.4773</td>\n",
       "      <td>7.0</td>\n",
       "      <td>0.0</td>\n",
       "      <td>0.0</td>\n",
       "      <td>22.928932</td>\n",
       "      <td>240.7813</td>\n",
       "      <td>10000</td>\n",
       "      <td>10010000</td>\n",
       "    </tr>\n",
       "    <tr>\n",
       "      <th>19</th>\n",
       "      <td>B42_clean.txt</td>\n",
       "      <td>23437.95</td>\n",
       "      <td>23436.7</td>\n",
       "      <td>23439.2</td>\n",
       "      <td>-1.5336</td>\n",
       "      <td>0.0</td>\n",
       "      <td>-2.5000</td>\n",
       "      <td>7.0</td>\n",
       "      <td>0.0</td>\n",
       "      <td>0.0</td>\n",
       "      <td>8.082497</td>\n",
       "      <td>27.5615</td>\n",
       "      <td>10000</td>\n",
       "      <td>11010000</td>\n",
       "    </tr>\n",
       "    <tr>\n",
       "      <th>20</th>\n",
       "      <td>B42_clean.txt</td>\n",
       "      <td>23759.00</td>\n",
       "      <td>23757.5</td>\n",
       "      <td>23760.5</td>\n",
       "      <td>-0.0896</td>\n",
       "      <td>0.0</td>\n",
       "      <td>-1.9530</td>\n",
       "      <td>7.0</td>\n",
       "      <td>0.0</td>\n",
       "      <td>0.0</td>\n",
       "      <td>17.498309</td>\n",
       "      <td>24.6059</td>\n",
       "      <td>10000</td>\n",
       "      <td>1011000</td>\n",
       "    </tr>\n",
       "    <tr>\n",
       "      <th>21</th>\n",
       "      <td>B42_clean.txt</td>\n",
       "      <td>24283.60</td>\n",
       "      <td>24282.6</td>\n",
       "      <td>24284.6</td>\n",
       "      <td>-2.5000</td>\n",
       "      <td>0.0</td>\n",
       "      <td>-0.3820</td>\n",
       "      <td>7.0</td>\n",
       "      <td>0.0</td>\n",
       "      <td>0.0</td>\n",
       "      <td>4.366159</td>\n",
       "      <td>209.9010</td>\n",
       "      <td>0</td>\n",
       "      <td>10000000</td>\n",
       "    </tr>\n",
       "    <tr>\n",
       "      <th>22</th>\n",
       "      <td>B42_clean.txt</td>\n",
       "      <td>24420.95</td>\n",
       "      <td>24419.4</td>\n",
       "      <td>24422.5</td>\n",
       "      <td>-0.0516</td>\n",
       "      <td>0.0</td>\n",
       "      <td>-0.3971</td>\n",
       "      <td>7.0</td>\n",
       "      <td>0.0</td>\n",
       "      <td>0.0</td>\n",
       "      <td>19.138374</td>\n",
       "      <td>429.4173</td>\n",
       "      <td>10000</td>\n",
       "      <td>1010000</td>\n",
       "    </tr>\n",
       "    <tr>\n",
       "      <th>23</th>\n",
       "      <td>B42_clean.txt</td>\n",
       "      <td>24683.35</td>\n",
       "      <td>24682.0</td>\n",
       "      <td>24684.7</td>\n",
       "      <td>-1.3228</td>\n",
       "      <td>0.0</td>\n",
       "      <td>-2.5000</td>\n",
       "      <td>7.0</td>\n",
       "      <td>0.0</td>\n",
       "      <td>0.0</td>\n",
       "      <td>20.187416</td>\n",
       "      <td>77.6701</td>\n",
       "      <td>10000</td>\n",
       "      <td>11011000</td>\n",
       "    </tr>\n",
       "    <tr>\n",
       "      <th>24</th>\n",
       "      <td>B42_clean.txt</td>\n",
       "      <td>22978.00</td>\n",
       "      <td>22976.0</td>\n",
       "      <td>22980.0</td>\n",
       "      <td>0.8312</td>\n",
       "      <td>0.0</td>\n",
       "      <td>-2.5000</td>\n",
       "      <td>8.0</td>\n",
       "      <td>0.0</td>\n",
       "      <td>0.0</td>\n",
       "      <td>9.264378</td>\n",
       "      <td>207.6068</td>\n",
       "      <td>10000</td>\n",
       "      <td>11011000</td>\n",
       "    </tr>\n",
       "    <tr>\n",
       "      <th>25</th>\n",
       "      <td>B42_clean.txt</td>\n",
       "      <td>23362.10</td>\n",
       "      <td>23360.7</td>\n",
       "      <td>23363.5</td>\n",
       "      <td>1.9840</td>\n",
       "      <td>0.0</td>\n",
       "      <td>-2.5000</td>\n",
       "      <td>8.0</td>\n",
       "      <td>0.0</td>\n",
       "      <td>0.0</td>\n",
       "      <td>20.592683</td>\n",
       "      <td>306.2016</td>\n",
       "      <td>0</td>\n",
       "      <td>10000000</td>\n",
       "    </tr>\n",
       "    <tr>\n",
       "      <th>26</th>\n",
       "      <td>B42_clean.txt</td>\n",
       "      <td>23373.00</td>\n",
       "      <td>23371.5</td>\n",
       "      <td>23374.5</td>\n",
       "      <td>-2.5000</td>\n",
       "      <td>0.0</td>\n",
       "      <td>-0.4474</td>\n",
       "      <td>8.0</td>\n",
       "      <td>0.0</td>\n",
       "      <td>0.0</td>\n",
       "      <td>21.654722</td>\n",
       "      <td>256.6699</td>\n",
       "      <td>10000</td>\n",
       "      <td>10010000</td>\n",
       "    </tr>\n",
       "    <tr>\n",
       "      <th>27</th>\n",
       "      <td>B42_clean.txt</td>\n",
       "      <td>23437.95</td>\n",
       "      <td>23436.7</td>\n",
       "      <td>23439.2</td>\n",
       "      <td>-1.5335</td>\n",
       "      <td>0.0</td>\n",
       "      <td>-1.2967</td>\n",
       "      <td>8.0</td>\n",
       "      <td>0.0</td>\n",
       "      <td>0.0</td>\n",
       "      <td>8.179537</td>\n",
       "      <td>30.1722</td>\n",
       "      <td>10000</td>\n",
       "      <td>1010000</td>\n",
       "    </tr>\n",
       "    <tr>\n",
       "      <th>28</th>\n",
       "      <td>B42_clean.txt</td>\n",
       "      <td>23759.00</td>\n",
       "      <td>23757.5</td>\n",
       "      <td>23760.5</td>\n",
       "      <td>0.8000</td>\n",
       "      <td>0.0</td>\n",
       "      <td>-2.5000</td>\n",
       "      <td>8.0</td>\n",
       "      <td>0.0</td>\n",
       "      <td>0.0</td>\n",
       "      <td>18.828158</td>\n",
       "      <td>22.8165</td>\n",
       "      <td>10000</td>\n",
       "      <td>11011000</td>\n",
       "    </tr>\n",
       "    <tr>\n",
       "      <th>29</th>\n",
       "      <td>B42_clean.txt</td>\n",
       "      <td>24283.60</td>\n",
       "      <td>24282.6</td>\n",
       "      <td>24284.6</td>\n",
       "      <td>-2.5000</td>\n",
       "      <td>0.0</td>\n",
       "      <td>-0.3379</td>\n",
       "      <td>8.0</td>\n",
       "      <td>0.0</td>\n",
       "      <td>0.0</td>\n",
       "      <td>3.314795</td>\n",
       "      <td>222.1637</td>\n",
       "      <td>0</td>\n",
       "      <td>10000000</td>\n",
       "    </tr>\n",
       "    <tr>\n",
       "      <th>30</th>\n",
       "      <td>B42_clean.txt</td>\n",
       "      <td>24420.95</td>\n",
       "      <td>24419.4</td>\n",
       "      <td>24422.5</td>\n",
       "      <td>-0.0516</td>\n",
       "      <td>0.0</td>\n",
       "      <td>-0.1935</td>\n",
       "      <td>8.0</td>\n",
       "      <td>0.0</td>\n",
       "      <td>0.0</td>\n",
       "      <td>17.819972</td>\n",
       "      <td>597.2456</td>\n",
       "      <td>10000</td>\n",
       "      <td>1010000</td>\n",
       "    </tr>\n",
       "    <tr>\n",
       "      <th>31</th>\n",
       "      <td>B42_clean.txt</td>\n",
       "      <td>24683.35</td>\n",
       "      <td>24682.0</td>\n",
       "      <td>24684.7</td>\n",
       "      <td>-1.9176</td>\n",
       "      <td>0.0</td>\n",
       "      <td>-2.5000</td>\n",
       "      <td>8.0</td>\n",
       "      <td>0.0</td>\n",
       "      <td>0.0</td>\n",
       "      <td>20.362674</td>\n",
       "      <td>78.0171</td>\n",
       "      <td>10000</td>\n",
       "      <td>11011000</td>\n",
       "    </tr>\n",
       "  </tbody>\n",
       "</table>\n",
       "</div>"
      ],
      "text/plain": [
       "         specname  wave_center  wave_start  wave_end  Doppler_Shift_add_to_RV  \\\n",
       "0   B42_clean.txt     22978.00     22976.0   22980.0                   0.9223   \n",
       "1   B42_clean.txt     23362.10     23360.7   23363.5                   1.9833   \n",
       "2   B42_clean.txt     23373.00     23371.5   23374.5                  -2.5000   \n",
       "3   B42_clean.txt     23437.95     23436.7   23439.2                  -2.0415   \n",
       "4   B42_clean.txt     23759.00     23757.5   23760.5                  -0.3495   \n",
       "5   B42_clean.txt     24283.60     24282.6   24284.6                  -2.5000   \n",
       "6   B42_clean.txt     24420.95     24419.4   24422.5                  -0.0516   \n",
       "7   B42_clean.txt     24683.35     24682.0   24684.7                  -1.3227   \n",
       "8   B42_clean.txt     22978.00     22976.0   22980.0                   0.8312   \n",
       "9   B42_clean.txt     23362.10     23360.7   23363.5                   1.9840   \n",
       "10  B42_clean.txt     23373.00     23371.5   23374.5                  -2.5000   \n",
       "11  B42_clean.txt     23437.95     23436.7   23439.2                  -0.8799   \n",
       "12  B42_clean.txt     23759.00     23757.5   23760.5                   0.6189   \n",
       "13  B42_clean.txt     24283.60     24282.6   24284.6                  -2.5000   \n",
       "14  B42_clean.txt     24420.95     24419.4   24422.5                   1.0693   \n",
       "15  B42_clean.txt     24683.35     24682.0   24684.7                  -1.3227   \n",
       "16  B42_clean.txt     22978.00     22976.0   22980.0                   0.8312   \n",
       "17  B42_clean.txt     23362.10     23360.7   23363.5                   1.9840   \n",
       "18  B42_clean.txt     23373.00     23371.5   23374.5                  -2.5000   \n",
       "19  B42_clean.txt     23437.95     23436.7   23439.2                  -1.5336   \n",
       "20  B42_clean.txt     23759.00     23757.5   23760.5                  -0.0896   \n",
       "21  B42_clean.txt     24283.60     24282.6   24284.6                  -2.5000   \n",
       "22  B42_clean.txt     24420.95     24419.4   24422.5                  -0.0516   \n",
       "23  B42_clean.txt     24683.35     24682.0   24684.7                  -1.3228   \n",
       "24  B42_clean.txt     22978.00     22976.0   22980.0                   0.8312   \n",
       "25  B42_clean.txt     23362.10     23360.7   23363.5                   1.9840   \n",
       "26  B42_clean.txt     23373.00     23371.5   23374.5                  -2.5000   \n",
       "27  B42_clean.txt     23437.95     23436.7   23439.2                  -1.5335   \n",
       "28  B42_clean.txt     23759.00     23757.5   23760.5                   0.8000   \n",
       "29  B42_clean.txt     24283.60     24282.6   24284.6                  -2.5000   \n",
       "30  B42_clean.txt     24420.95     24419.4   24422.5                  -0.0516   \n",
       "31  B42_clean.txt     24683.35     24682.0   24684.7                  -1.9176   \n",
       "\n",
       "    Fe_H    O_Fe  Microturb  Macroturb  rotation  chi_squared        ew  \\\n",
       "0    0.0 -2.5000        5.0        0.0       0.0     9.987083  199.4746   \n",
       "1    0.0 -2.5000        5.0        0.0       0.0    28.091089  274.3469   \n",
       "2    0.0 -0.5267        5.0        0.0       0.0    25.007041  215.3265   \n",
       "3    0.0 -2.5000        5.0        0.0       0.0     7.922167   26.7045   \n",
       "4    0.0 -2.5000        5.0        0.0       0.0    17.216761   20.3059   \n",
       "5    0.0 -0.5203        5.0        0.0       0.0     7.384498  176.3979   \n",
       "6    0.0 -0.3491        5.0        0.0       0.0    22.986686  440.4578   \n",
       "7    0.0 -2.1359        5.0        0.0       0.0    19.886573   77.7125   \n",
       "8    0.0 -0.8709        6.0        0.0       0.0     9.114983  255.0235   \n",
       "9    0.0 -2.5000        6.0        0.0       0.0    25.135366  287.9420   \n",
       "10   0.0 -0.5015        6.0        0.0       0.0    24.083741  227.7857   \n",
       "11   0.0 -2.1356        6.0        0.0       0.0     8.598265   27.3436   \n",
       "12   0.0 -2.5000        6.0        0.0       0.0    18.674321   20.9676   \n",
       "13   0.0 -0.4391        6.0        0.0       0.0     5.730070  195.0210   \n",
       "14   0.0 -2.5000        6.0        0.0       0.0    20.116833   51.5536   \n",
       "15   0.0 -2.5000        6.0        0.0       0.0    19.987716   77.1139   \n",
       "16   0.0 -2.2007        7.0        0.0       0.0     9.247548  208.0682   \n",
       "17   0.0 -2.5000        7.0        0.0       0.0    22.606880  298.4480   \n",
       "18   0.0 -0.4773        7.0        0.0       0.0    22.928932  240.7813   \n",
       "19   0.0 -2.5000        7.0        0.0       0.0     8.082497   27.5615   \n",
       "20   0.0 -1.9530        7.0        0.0       0.0    17.498309   24.6059   \n",
       "21   0.0 -0.3820        7.0        0.0       0.0     4.366159  209.9010   \n",
       "22   0.0 -0.3971        7.0        0.0       0.0    19.138374  429.4173   \n",
       "23   0.0 -2.5000        7.0        0.0       0.0    20.187416   77.6701   \n",
       "24   0.0 -2.5000        8.0        0.0       0.0     9.264378  207.6068   \n",
       "25   0.0 -2.5000        8.0        0.0       0.0    20.592683  306.2016   \n",
       "26   0.0 -0.4474        8.0        0.0       0.0    21.654722  256.6699   \n",
       "27   0.0 -1.2967        8.0        0.0       0.0     8.179537   30.1722   \n",
       "28   0.0 -2.5000        8.0        0.0       0.0    18.828158   22.8165   \n",
       "29   0.0 -0.3379        8.0        0.0       0.0     3.314795  222.1637   \n",
       "30   0.0 -0.1935        8.0        0.0       0.0    17.819972  597.2456   \n",
       "31   0.0 -2.5000        8.0        0.0       0.0    20.362674   78.0171   \n",
       "\n",
       "    flag_error  flag_warning  \n",
       "0        10000      11010000  \n",
       "1            0      10001000  \n",
       "2        10000      10010000  \n",
       "3        10000      11011000  \n",
       "4        10000      11010000  \n",
       "5            0      10010000  \n",
       "6        10000       1010000  \n",
       "7        10000       1010000  \n",
       "8            0       1010000  \n",
       "9            0      10000000  \n",
       "10       10000      10010000  \n",
       "11       10000       1011000  \n",
       "12       10000      11011000  \n",
       "13           0      10000000  \n",
       "14       10000      11010000  \n",
       "15       10000      11011000  \n",
       "16       10000       1011000  \n",
       "17           0      10001000  \n",
       "18       10000      10010000  \n",
       "19       10000      11010000  \n",
       "20       10000       1011000  \n",
       "21           0      10000000  \n",
       "22       10000       1010000  \n",
       "23       10000      11011000  \n",
       "24       10000      11011000  \n",
       "25           0      10000000  \n",
       "26       10000      10010000  \n",
       "27       10000       1010000  \n",
       "28       10000      11011000  \n",
       "29           0      10000000  \n",
       "30       10000       1010000  \n",
       "31       10000      11011000  "
      ]
     },
     "execution_count": 12,
     "metadata": {},
     "output_type": "execute_result"
    }
   ],
   "source": [
    "output_trimmed_vmic"
   ]
  },
  {
   "cell_type": "code",
   "execution_count": 17,
   "metadata": {},
   "outputs": [
    {
     "name": "stdout",
     "output_type": "stream",
     "text": [
      "5.0 0.000696655482682366 3\n",
      "6.0 -0.007019420647160586 3\n",
      "7.0 0.0037881901977686767 4\n",
      "8.0 0.00170594906723242 4\n"
     ]
    },
    {
     "data": {
      "image/png": "[encoded data removed]",
      "text/plain": [
       "<Figure size 800x600 with 1 Axes>"
      ]
     },
     "metadata": {},
     "output_type": "display_data"
    }
   ],
   "source": [
    "vmics = np.unique(output_trimmed_vmic[\"Microturb\"].values)\n",
    "cs = ['r', 'g', 'b', 'c', 'm', 'y']\n",
    "markers = ['o', 's', 'D', '^', 'v', 'p']\n",
    "for i in range(len(vmics)):\n",
    "    vmic = vmics[i]\n",
    "    output_vmic = output_trimmed_vmic[output_trimmed_vmic[\"Microturb\"] == vmic]\n",
    "    ews = np.array(output_vmic[\"ew\"])\n",
    "    nfes = np.array(output_vmic[\"O_Fe\"])\n",
    "    mean_nfe = np.mean(nfes)\n",
    "    std_nfe = np.std(nfes)\n",
    "    choose_idxs = np.where(np.logical_and(np.abs(nfes - mean_nfe) < 3*std_nfe, nfes>-2.))\n",
    "    choose_idxs = choose_idxs[0]\n",
    "\n",
    "    ews = ews[choose_idxs]\n",
    "    nfes = nfes[choose_idxs]\n",
    "    corr = np.corrcoef(ews,nfes)[0,1]\n",
    "    corr = corr.round(2)\n",
    "    plt.scatter(ews,nfes, c=cs[i], marker = markers[i], label = f\"vmic = {vmics[i]}, corr = {corr}\")\n",
    "    m,c = np.polyfit(ews,nfes,1)\n",
    "    x = np.linspace(80, 400, 100)\n",
    "    y = m*x + c\n",
    "    print(vmics[i], m, len(nfes))\n",
    "    plt.plot(x,y, c = cs[i])\n",
    "    plt.legend(fontsize = 8)\n",
    "    plt.ylabel(\"[N/Fe]\")\n",
    "    plt.xlabel(\"EW\")"
   ]
  },
  {
   "cell_type": "code",
   "execution_count": 15,
   "metadata": {},
   "outputs": [
    {
     "ename": "NameError",
     "evalue": "name 'output_trimmed' is not defined",
     "output_type": "error",
     "traceback": [
      "\u001b[0;31m---------------------------------------------------------------------------\u001b[0m",
      "\u001b[0;31mNameError\u001b[0m                                 Traceback (most recent call last)",
      "Cell \u001b[0;32mIn[15], line 1\u001b[0m\n\u001b[0;32m----> 1\u001b[0m (solar_abundances[\u001b[38;5;124m'\u001b[39m\u001b[38;5;124mC\u001b[39m\u001b[38;5;124m'\u001b[39m] \u001b[38;5;241m+\u001b[39m np\u001b[38;5;241m.\u001b[39mmean(output_trimmed[\u001b[38;5;124m\"\u001b[39m\u001b[38;5;124mC_Fe\u001b[39m\u001b[38;5;124m\"\u001b[39m]))\u001b[38;5;241m.\u001b[39mround(\u001b[38;5;241m3\u001b[39m)\n",
      "\u001b[0;31mNameError\u001b[0m: name 'output_trimmed' is not defined"
     ]
    }
   ],
   "source": [
    "(solar_abundances['C'] + np.mean(output_trimmed[\"C_Fe\"])).round(3)"
   ]
  },
  {
   "cell_type": "code",
   "execution_count": 22,
   "metadata": {},
   "outputs": [
    {
     "name": "stderr",
     "output_type": "stream",
     "text": [
      "/media/advait/DATA/research/rcb-project/TSFitPy/plotting_tools/scripts_for_plotting.py:109: FutureWarning: errors='ignore' is deprecated and will raise in a future version. Use to_numeric without passing `errors` and catch exceptions explicitly instead\n",
      "  output_file_df = output_file_df.apply(pd.to_numeric, errors='ignore')\n"
     ]
    }
   ],
   "source": [
    "# outpath = \"/media/advait/DATA/research/rcb-project/TSFitPy/output_files/wise222/Oct-13-2024-22-42-15_0.9770073685963133_LTE_O_1D\"\n",
    "outpath = \"/media/advait/DATA/research/rcb-project/TSFitPy/output_files/hd137613/Oct-24-2024-13-07-04_0.05164950234595578_LTE_N_1D\"\n",
    "config_dict = load_output_data(outpath)\n",
    "output_results_pd_df = config_dict[\"output_file_df\"]\n",
    "output_trimmed_vmic = (output_results_pd_df[output_results_pd_df[\"chi_squared\"] < 20])\n",
    "output_trimmed_vmic = output_trimmed_vmic.reset_index(drop=True)\n",
    "output_trimmed_vmic = output_trimmed_vmic[~output_trimmed_vmic[\"wave_center\"].isin(multwavs)]"
   ]
  },
  {
   "cell_type": "code",
   "execution_count": 83,
   "metadata": {},
   "outputs": [
    {
     "name": "stderr",
     "output_type": "stream",
     "text": [
      "/media/advait/DATA/research/rcb-project/TSFitPy/plotting_tools/scripts_for_plotting.py:109: FutureWarning: errors='ignore' is deprecated and will raise in a future version. Use to_numeric without passing `errors` and catch exceptions explicitly instead\n",
      "  output_file_df = output_file_df.apply(pd.to_numeric, errors='ignore')\n"
     ]
    }
   ],
   "source": [
    "# outpath = \"/media/advait/DATA/research/rcb-project/TSFitPy/output_files/wise222/Oct-13-2024-22-42-15_0.9770073685963133_LTE_O_1D\"\n",
    "outpath = \"/media/advait/DATA/research/rcb-project/TSFitPy/output_files/b42/Nov-14-2024-00-07-53_0.8778279604736388_LTE_CN_1D\"\n",
    "config_dict = load_output_data(outpath)\n",
    "output_results_pd_df = config_dict[\"output_file_df\"]\n",
    "output_trimmed = (output_results_pd_df[output_results_pd_df[\"chi_squared\"] < 25])"
   ]
  },
  {
   "cell_type": "code",
   "execution_count": 84,
   "metadata": {},
   "outputs": [
    {
     "data": {
      "text/html": [
       "<div>\n",
       "<style scoped>\n",
       "    .dataframe tbody tr th:only-of-type {\n",
       "        vertical-align: middle;\n",
       "    }\n",
       "\n",
       "    .dataframe tbody tr th {\n",
       "        vertical-align: top;\n",
       "    }\n",
       "\n",
       "    .dataframe thead th {\n",
       "        text-align: right;\n",
       "    }\n",
       "</style>\n",
       "<table border=\"1\" class=\"dataframe\">\n",
       "  <thead>\n",
       "    <tr style=\"text-align: right;\">\n",
       "      <th></th>\n",
       "      <th>specname</th>\n",
       "      <th>wave_center</th>\n",
       "      <th>wave_start</th>\n",
       "      <th>wave_end</th>\n",
       "      <th>Doppler_Shift_add_to_RV</th>\n",
       "      <th>Fe_H</th>\n",
       "      <th>C_Fe</th>\n",
       "      <th>N_Fe</th>\n",
       "      <th>Microturb</th>\n",
       "      <th>Macroturb</th>\n",
       "      <th>rotation</th>\n",
       "      <th>chi_squared</th>\n",
       "      <th>ew</th>\n",
       "      <th>flag_error</th>\n",
       "      <th>flag_warning</th>\n",
       "    </tr>\n",
       "  </thead>\n",
       "  <tbody>\n",
       "    <tr>\n",
       "      <th>0</th>\n",
       "      <td>B42_clean.txt</td>\n",
       "      <td>22743.35</td>\n",
       "      <td>22742.0</td>\n",
       "      <td>22744.7</td>\n",
       "      <td>0.3972</td>\n",
       "      <td>0.0</td>\n",
       "      <td>1.3032</td>\n",
       "      <td>1.3367</td>\n",
       "      <td>6.0</td>\n",
       "      <td>0.0</td>\n",
       "      <td>0.0</td>\n",
       "      <td>1.830608</td>\n",
       "      <td>394.3616</td>\n",
       "      <td>0</td>\n",
       "      <td>0</td>\n",
       "    </tr>\n",
       "    <tr>\n",
       "      <th>1</th>\n",
       "      <td>B42_clean.txt</td>\n",
       "      <td>22799.60</td>\n",
       "      <td>22798.0</td>\n",
       "      <td>22801.2</td>\n",
       "      <td>-0.4353</td>\n",
       "      <td>0.0</td>\n",
       "      <td>1.3385</td>\n",
       "      <td>1.4114</td>\n",
       "      <td>6.0</td>\n",
       "      <td>0.0</td>\n",
       "      <td>0.0</td>\n",
       "      <td>3.203975</td>\n",
       "      <td>441.8318</td>\n",
       "      <td>0</td>\n",
       "      <td>0</td>\n",
       "    </tr>\n",
       "    <tr>\n",
       "      <th>2</th>\n",
       "      <td>B42_clean.txt</td>\n",
       "      <td>22804.50</td>\n",
       "      <td>22802.0</td>\n",
       "      <td>22807.0</td>\n",
       "      <td>-2.5000</td>\n",
       "      <td>0.0</td>\n",
       "      <td>1.3790</td>\n",
       "      <td>1.3346</td>\n",
       "      <td>6.0</td>\n",
       "      <td>0.0</td>\n",
       "      <td>0.0</td>\n",
       "      <td>4.007379</td>\n",
       "      <td>697.0433</td>\n",
       "      <td>0</td>\n",
       "      <td>10000000</td>\n",
       "    </tr>\n",
       "    <tr>\n",
       "      <th>3</th>\n",
       "      <td>B42_clean.txt</td>\n",
       "      <td>22868.25</td>\n",
       "      <td>22867.0</td>\n",
       "      <td>22869.5</td>\n",
       "      <td>0.2110</td>\n",
       "      <td>0.0</td>\n",
       "      <td>1.3988</td>\n",
       "      <td>1.2485</td>\n",
       "      <td>6.0</td>\n",
       "      <td>0.0</td>\n",
       "      <td>0.0</td>\n",
       "      <td>3.196936</td>\n",
       "      <td>230.5733</td>\n",
       "      <td>10000</td>\n",
       "      <td>10000</td>\n",
       "    </tr>\n",
       "    <tr>\n",
       "      <th>4</th>\n",
       "      <td>B42_clean.txt</td>\n",
       "      <td>22879.25</td>\n",
       "      <td>22877.0</td>\n",
       "      <td>22881.5</td>\n",
       "      <td>0.3036</td>\n",
       "      <td>0.0</td>\n",
       "      <td>1.2838</td>\n",
       "      <td>1.4245</td>\n",
       "      <td>6.0</td>\n",
       "      <td>0.0</td>\n",
       "      <td>0.0</td>\n",
       "      <td>2.806493</td>\n",
       "      <td>757.3547</td>\n",
       "      <td>0</td>\n",
       "      <td>0</td>\n",
       "    </tr>\n",
       "    <tr>\n",
       "      <th>5</th>\n",
       "      <td>B42_clean.txt</td>\n",
       "      <td>23067.25</td>\n",
       "      <td>23065.0</td>\n",
       "      <td>23069.5</td>\n",
       "      <td>1.1845</td>\n",
       "      <td>0.0</td>\n",
       "      <td>1.1365</td>\n",
       "      <td>1.2012</td>\n",
       "      <td>6.0</td>\n",
       "      <td>0.0</td>\n",
       "      <td>0.0</td>\n",
       "      <td>1.860739</td>\n",
       "      <td>447.6506</td>\n",
       "      <td>0</td>\n",
       "      <td>1010000</td>\n",
       "    </tr>\n",
       "    <tr>\n",
       "      <th>6</th>\n",
       "      <td>B42_clean.txt</td>\n",
       "      <td>23336.60</td>\n",
       "      <td>23333.5</td>\n",
       "      <td>23339.7</td>\n",
       "      <td>-0.9276</td>\n",
       "      <td>0.0</td>\n",
       "      <td>1.2462</td>\n",
       "      <td>1.3899</td>\n",
       "      <td>6.0</td>\n",
       "      <td>0.0</td>\n",
       "      <td>0.0</td>\n",
       "      <td>3.962598</td>\n",
       "      <td>854.2869</td>\n",
       "      <td>0</td>\n",
       "      <td>0</td>\n",
       "    </tr>\n",
       "  </tbody>\n",
       "</table>\n",
       "</div>"
      ],
      "text/plain": [
       "        specname  wave_center  wave_start  wave_end  Doppler_Shift_add_to_RV  \\\n",
       "0  B42_clean.txt     22743.35     22742.0   22744.7                   0.3972   \n",
       "1  B42_clean.txt     22799.60     22798.0   22801.2                  -0.4353   \n",
       "2  B42_clean.txt     22804.50     22802.0   22807.0                  -2.5000   \n",
       "3  B42_clean.txt     22868.25     22867.0   22869.5                   0.2110   \n",
       "4  B42_clean.txt     22879.25     22877.0   22881.5                   0.3036   \n",
       "5  B42_clean.txt     23067.25     23065.0   23069.5                   1.1845   \n",
       "6  B42_clean.txt     23336.60     23333.5   23339.7                  -0.9276   \n",
       "\n",
       "   Fe_H    C_Fe    N_Fe  Microturb  Macroturb  rotation  chi_squared  \\\n",
       "0   0.0  1.3032  1.3367        6.0        0.0       0.0     1.830608   \n",
       "1   0.0  1.3385  1.4114        6.0        0.0       0.0     3.203975   \n",
       "2   0.0  1.3790  1.3346        6.0        0.0       0.0     4.007379   \n",
       "3   0.0  1.3988  1.2485        6.0        0.0       0.0     3.196936   \n",
       "4   0.0  1.2838  1.4245        6.0        0.0       0.0     2.806493   \n",
       "5   0.0  1.1365  1.2012        6.0        0.0       0.0     1.860739   \n",
       "6   0.0  1.2462  1.3899        6.0        0.0       0.0     3.962598   \n",
       "\n",
       "         ew  flag_error  flag_warning  \n",
       "0  394.3616           0             0  \n",
       "1  441.8318           0             0  \n",
       "2  697.0433           0      10000000  \n",
       "3  230.5733       10000         10000  \n",
       "4  757.3547           0             0  \n",
       "5  447.6506           0       1010000  \n",
       "6  854.2869           0             0  "
      ]
     },
     "execution_count": 84,
     "metadata": {},
     "output_type": "execute_result"
    }
   ],
   "source": [
    "output_trimmed"
   ]
  },
  {
   "cell_type": "code",
   "execution_count": 85,
   "metadata": {},
   "outputs": [],
   "source": [
    "multwavs = [22587.95,22593.85,22613.8,22634,22659.4,22680.5,22691.75,22703,22713.25,22773.25,22783.3,22789.35,22915.25,23028.35,23067.25,23655.35,\n",
    "            22920.00, 23292.60, 23067.25,22868.25]\n"
   ]
  },
  {
   "cell_type": "code",
   "execution_count": 86,
   "metadata": {},
   "outputs": [],
   "source": [
    "# use_wavs = [22743.35\t, 22799.60, 22804.50\t, 23067.25\t\t]\n",
    "output_trimmed = output_trimmed.reset_index(drop=True)\n",
    "output_trimmed = output_trimmed[~output_trimmed[\"wave_center\"].isin(multwavs)]\n",
    "# output_trimmed = output_trimmed[output_trimmed[\"wave_center\"].isin(use_wavs)]\n",
    "# output_trimmed = output_trimmed.reset_index(drop=True)"
   ]
  },
  {
   "cell_type": "code",
   "execution_count": 87,
   "metadata": {},
   "outputs": [
    {
     "data": {
      "text/html": [
       "<div>\n",
       "<style scoped>\n",
       "    .dataframe tbody tr th:only-of-type {\n",
       "        vertical-align: middle;\n",
       "    }\n",
       "\n",
       "    .dataframe tbody tr th {\n",
       "        vertical-align: top;\n",
       "    }\n",
       "\n",
       "    .dataframe thead th {\n",
       "        text-align: right;\n",
       "    }\n",
       "</style>\n",
       "<table border=\"1\" class=\"dataframe\">\n",
       "  <thead>\n",
       "    <tr style=\"text-align: right;\">\n",
       "      <th></th>\n",
       "      <th>specname</th>\n",
       "      <th>wave_center</th>\n",
       "      <th>wave_start</th>\n",
       "      <th>wave_end</th>\n",
       "      <th>Doppler_Shift_add_to_RV</th>\n",
       "      <th>Fe_H</th>\n",
       "      <th>C_Fe</th>\n",
       "      <th>N_Fe</th>\n",
       "      <th>Microturb</th>\n",
       "      <th>Macroturb</th>\n",
       "      <th>rotation</th>\n",
       "      <th>chi_squared</th>\n",
       "      <th>ew</th>\n",
       "      <th>flag_error</th>\n",
       "      <th>flag_warning</th>\n",
       "    </tr>\n",
       "  </thead>\n",
       "  <tbody>\n",
       "    <tr>\n",
       "      <th>0</th>\n",
       "      <td>B42_clean.txt</td>\n",
       "      <td>22743.35</td>\n",
       "      <td>22742.0</td>\n",
       "      <td>22744.7</td>\n",
       "      <td>0.3972</td>\n",
       "      <td>0.0</td>\n",
       "      <td>1.3032</td>\n",
       "      <td>1.3367</td>\n",
       "      <td>6.0</td>\n",
       "      <td>0.0</td>\n",
       "      <td>0.0</td>\n",
       "      <td>1.830608</td>\n",
       "      <td>394.3616</td>\n",
       "      <td>0</td>\n",
       "      <td>0</td>\n",
       "    </tr>\n",
       "    <tr>\n",
       "      <th>1</th>\n",
       "      <td>B42_clean.txt</td>\n",
       "      <td>22799.60</td>\n",
       "      <td>22798.0</td>\n",
       "      <td>22801.2</td>\n",
       "      <td>-0.4353</td>\n",
       "      <td>0.0</td>\n",
       "      <td>1.3385</td>\n",
       "      <td>1.4114</td>\n",
       "      <td>6.0</td>\n",
       "      <td>0.0</td>\n",
       "      <td>0.0</td>\n",
       "      <td>3.203975</td>\n",
       "      <td>441.8318</td>\n",
       "      <td>0</td>\n",
       "      <td>0</td>\n",
       "    </tr>\n",
       "    <tr>\n",
       "      <th>2</th>\n",
       "      <td>B42_clean.txt</td>\n",
       "      <td>22804.50</td>\n",
       "      <td>22802.0</td>\n",
       "      <td>22807.0</td>\n",
       "      <td>-2.5000</td>\n",
       "      <td>0.0</td>\n",
       "      <td>1.3790</td>\n",
       "      <td>1.3346</td>\n",
       "      <td>6.0</td>\n",
       "      <td>0.0</td>\n",
       "      <td>0.0</td>\n",
       "      <td>4.007379</td>\n",
       "      <td>697.0433</td>\n",
       "      <td>0</td>\n",
       "      <td>10000000</td>\n",
       "    </tr>\n",
       "    <tr>\n",
       "      <th>4</th>\n",
       "      <td>B42_clean.txt</td>\n",
       "      <td>22879.25</td>\n",
       "      <td>22877.0</td>\n",
       "      <td>22881.5</td>\n",
       "      <td>0.3036</td>\n",
       "      <td>0.0</td>\n",
       "      <td>1.2838</td>\n",
       "      <td>1.4245</td>\n",
       "      <td>6.0</td>\n",
       "      <td>0.0</td>\n",
       "      <td>0.0</td>\n",
       "      <td>2.806493</td>\n",
       "      <td>757.3547</td>\n",
       "      <td>0</td>\n",
       "      <td>0</td>\n",
       "    </tr>\n",
       "    <tr>\n",
       "      <th>6</th>\n",
       "      <td>B42_clean.txt</td>\n",
       "      <td>23336.60</td>\n",
       "      <td>23333.5</td>\n",
       "      <td>23339.7</td>\n",
       "      <td>-0.9276</td>\n",
       "      <td>0.0</td>\n",
       "      <td>1.2462</td>\n",
       "      <td>1.3899</td>\n",
       "      <td>6.0</td>\n",
       "      <td>0.0</td>\n",
       "      <td>0.0</td>\n",
       "      <td>3.962598</td>\n",
       "      <td>854.2869</td>\n",
       "      <td>0</td>\n",
       "      <td>0</td>\n",
       "    </tr>\n",
       "  </tbody>\n",
       "</table>\n",
       "</div>"
      ],
      "text/plain": [
       "        specname  wave_center  wave_start  wave_end  Doppler_Shift_add_to_RV  \\\n",
       "0  B42_clean.txt     22743.35     22742.0   22744.7                   0.3972   \n",
       "1  B42_clean.txt     22799.60     22798.0   22801.2                  -0.4353   \n",
       "2  B42_clean.txt     22804.50     22802.0   22807.0                  -2.5000   \n",
       "4  B42_clean.txt     22879.25     22877.0   22881.5                   0.3036   \n",
       "6  B42_clean.txt     23336.60     23333.5   23339.7                  -0.9276   \n",
       "\n",
       "   Fe_H    C_Fe    N_Fe  Microturb  Macroturb  rotation  chi_squared  \\\n",
       "0   0.0  1.3032  1.3367        6.0        0.0       0.0     1.830608   \n",
       "1   0.0  1.3385  1.4114        6.0        0.0       0.0     3.203975   \n",
       "2   0.0  1.3790  1.3346        6.0        0.0       0.0     4.007379   \n",
       "4   0.0  1.2838  1.4245        6.0        0.0       0.0     2.806493   \n",
       "6   0.0  1.2462  1.3899        6.0        0.0       0.0     3.962598   \n",
       "\n",
       "         ew  flag_error  flag_warning  \n",
       "0  394.3616           0             0  \n",
       "1  441.8318           0             0  \n",
       "2  697.0433           0      10000000  \n",
       "4  757.3547           0             0  \n",
       "6  854.2869           0             0  "
      ]
     },
     "execution_count": 87,
     "metadata": {},
     "output_type": "execute_result"
    }
   ],
   "source": [
    "output_trimmed"
   ]
  },
  {
   "cell_type": "code",
   "execution_count": 88,
   "metadata": {},
   "outputs": [
    {
     "data": {
      "text/plain": [
       "np.float64(9.87)"
      ]
     },
     "execution_count": 88,
     "metadata": {},
     "output_type": "execute_result"
    }
   ],
   "source": [
    "(solar_abundances['C'] + np.mean(output_trimmed[\"C_Fe\"])).round(3)"
   ]
  },
  {
   "cell_type": "code",
   "execution_count": 152,
   "metadata": {},
   "outputs": [
    {
     "data": {
      "text/plain": [
       "np.float64(0.044213681140570005)"
      ]
     },
     "execution_count": 152,
     "metadata": {},
     "output_type": "execute_result"
    }
   ],
   "source": [
    "np.std((output_trimmed[\"C_Fe\"]))"
   ]
  },
  {
   "cell_type": "code",
   "execution_count": 126,
   "metadata": {},
   "outputs": [
    {
     "data": {
      "text/plain": [
       "np.float64(9.271057142857144)"
      ]
     },
     "execution_count": 126,
     "metadata": {},
     "output_type": "execute_result"
    }
   ],
   "source": [
    "solar_abundances['N'] + np.mean(output_trimmed[\"N_Fe\"])"
   ]
  },
  {
   "cell_type": "code",
   "execution_count": 72,
   "metadata": {},
   "outputs": [
    {
     "name": "stderr",
     "output_type": "stream",
     "text": [
      "/media/advait/DATA/research/rcb-project/TSFitPy/plotting_tools/scripts_for_plotting.py:109: FutureWarning: errors='ignore' is deprecated and will raise in a future version. Use to_numeric without passing `errors` and catch exceptions explicitly instead\n",
      "  output_file_df = output_file_df.apply(pd.to_numeric, errors='ignore')\n"
     ]
    }
   ],
   "source": [
    "# outpath = \"/media/advait/DATA/research/rcb-project/TSFitPy/output_files/wise222/Oct-13-2024-22-42-15_0.9770073685963133_LTE_O_1D\"\n",
    "outpath = \"/media/advait/DATA/research/rcb-project/TSFitPy/output_files/b42/Nov-13-2024-23-41-12_0.14304729567925767_LTE_N_1D\"\n",
    "config_dict = load_output_data(outpath)\n",
    "output_results_pd_df = config_dict[\"output_file_df\"]\n",
    "output_trimmed = (output_results_pd_df[output_results_pd_df[\"chi_squared\"] < 20])\n",
    "# output_trimmed = output_trimmed[output_trimmed['N_Fe'] > 8.5-7.98]\n",
    "# output_trimmed = output_trimmed[output_trimmed['N_Fe'] < 9.6-7.98]"
   ]
  },
  {
   "cell_type": "code",
   "execution_count": 73,
   "metadata": {},
   "outputs": [
    {
     "data": {
      "text/plain": [
       "np.float64(1.745267459609695)"
      ]
     },
     "execution_count": 73,
     "metadata": {},
     "output_type": "execute_result"
    }
   ],
   "source": [
    "np.mean(output_trimmed[\"chi_squared\"])"
   ]
  },
  {
   "cell_type": "code",
   "execution_count": 74,
   "metadata": {},
   "outputs": [
    {
     "data": {
      "text/plain": [
       "<matplotlib.colorbar.Colorbar at 0x7ff80f67d310>"
      ]
     },
     "execution_count": 74,
     "metadata": {},
     "output_type": "execute_result"
    },
    {
     "data": {
      "image/png": "[encoded data removed]",
      "text/plain": [
       "<Figure size 800x600 with 2 Axes>"
      ]
     },
     "metadata": {},
     "output_type": "display_data"
    }
   ],
   "source": [
    "plt.scatter(output_trimmed['wave_center'], output_trimmed['N_Fe']+7.98, c = output_trimmed['chi_squared'], cmap = 'inferno')\n",
    "plt.colorbar()"
   ]
  },
  {
   "cell_type": "code",
   "execution_count": 75,
   "metadata": {},
   "outputs": [
    {
     "data": {
      "text/plain": [
       "(np.float64(9.312), np.float64(0.138))"
      ]
     },
     "execution_count": 75,
     "metadata": {},
     "output_type": "execute_result"
    }
   ],
   "source": [
    "(7.98+np.mean(output_trimmed['N_Fe'])).round(3), np.std(output_trimmed['N_Fe']).round(3)"
   ]
  },
  {
   "cell_type": "code",
   "execution_count": 103,
   "metadata": {},
   "outputs": [],
   "source": [
    "# plot_one_star(config_dict, 'B42_clean')"
   ]
  },
  {
   "cell_type": "code",
   "execution_count": 162,
   "metadata": {},
   "outputs": [
    {
     "name": "stderr",
     "output_type": "stream",
     "text": [
      "/tmp/ipykernel_1148371/3060022836.py:1: ParserWarning: Falling back to the 'python' engine because the 'c' engine does not support regex separators (separators > 1 char and different from '\\s+' are interpreted as regex); you can avoid this warning by specifying engine='python'.\n",
      "  fitlist = pd.read_csv('/media/advait/DATA/research/rcb-project/TSFitPy/input_files/b42/vmac', sep='  ')\n"
     ]
    },
    {
     "data": {
      "text/html": [
       "<div>\n",
       "<style scoped>\n",
       "    .dataframe tbody tr th:only-of-type {\n",
       "        vertical-align: middle;\n",
       "    }\n",
       "\n",
       "    .dataframe tbody tr th {\n",
       "        vertical-align: top;\n",
       "    }\n",
       "\n",
       "    .dataframe thead th {\n",
       "        text-align: right;\n",
       "    }\n",
       "</style>\n",
       "<table border=\"1\" class=\"dataframe\">\n",
       "  <thead>\n",
       "    <tr style=\"text-align: right;\">\n",
       "      <th></th>\n",
       "      <th>#name_of_spectrum_to_fit</th>\n",
       "      <th>rv</th>\n",
       "      <th>teff</th>\n",
       "      <th>logg</th>\n",
       "      <th>[Fe/H]</th>\n",
       "      <th>Input_vmicroturb</th>\n",
       "      <th>A(H)</th>\n",
       "      <th>A(He)</th>\n",
       "      <th>A(C)</th>\n",
       "      <th>A(N)</th>\n",
       "      <th>A(O)</th>\n",
       "      <th>A(Fe)</th>\n",
       "      <th>A(Mg)</th>\n",
       "      <th>oisorat</th>\n",
       "    </tr>\n",
       "  </thead>\n",
       "  <tbody>\n",
       "    <tr>\n",
       "      <th>0</th>\n",
       "      <td>B42_clean.txt</td>\n",
       "      <td>0.0</td>\n",
       "      <td>5500.0</td>\n",
       "      <td>1.0</td>\n",
       "      <td>0.0</td>\n",
       "      <td>6.0</td>\n",
       "      <td>7.5</td>\n",
       "      <td>11.5</td>\n",
       "      <td>9.869</td>\n",
       "      <td>9.247</td>\n",
       "      <td>8.8</td>\n",
       "      <td>7.3</td>\n",
       "      <td>7.75</td>\n",
       "      <td>0.4</td>\n",
       "    </tr>\n",
       "  </tbody>\n",
       "</table>\n",
       "</div>"
      ],
      "text/plain": [
       "  #name_of_spectrum_to_fit   rv    teff  logg  [Fe/H]  Input_vmicroturb  A(H)  \\\n",
       "0            B42_clean.txt  0.0  5500.0   1.0     0.0               6.0   7.5   \n",
       "\n",
       "   A(He)   A(C)   A(N)  A(O)  A(Fe)  A(Mg)  oisorat  \n",
       "0   11.5  9.869  9.247   8.8    7.3   7.75      0.4  "
      ]
     },
     "execution_count": 162,
     "metadata": {},
     "output_type": "execute_result"
    }
   ],
   "source": [
    "fitlist = pd.read_csv('/media/advait/DATA/research/rcb-project/TSFitPy/input_files/b42/vmac', sep='  ')\n",
    "fitlist"
   ]
  },
  {
   "cell_type": "code",
   "execution_count": 196,
   "metadata": {},
   "outputs": [
    {
     "data": {
      "text/plain": [
       "array([0.05, 0.05, 0.05, 0.05, 0.1 , 0.1 , 0.1 , 0.1 , 0.15, 0.15, 0.15,\n",
       "       0.15, 0.2 , 0.2 , 0.2 , 0.2 , 0.25, 0.25, 0.25, 0.25, 0.3 , 0.3 ,\n",
       "       0.3 , 0.3 , 0.35, 0.35, 0.35, 0.35, 0.4 , 0.4 , 0.4 , 0.4 , 0.45,\n",
       "       0.45, 0.45, 0.45, 0.5 , 0.5 , 0.5 , 0.5 , 0.55, 0.55, 0.55, 0.55,\n",
       "       0.6 , 0.6 , 0.6 , 0.6 , 0.65, 0.65, 0.65, 0.65])"
      ]
     },
     "execution_count": 196,
     "metadata": {},
     "output_type": "execute_result"
    }
   ],
   "source": [
    "rats = np.arange(0.1, 0.6,0.05)\n",
    "rats = np.repeat(rats, 4)\n",
    "rats"
   ]
  },
  {
   "cell_type": "code",
   "execution_count": 241,
   "metadata": {},
   "outputs": [
    {
     "data": {
      "text/plain": [
       "array([0.1   , 0.1099, 0.1208, 0.1327, 0.1458, 0.1602, 0.1761, 0.1935,\n",
       "       0.2126, 0.2337, 0.2568, 0.2822, 0.3101, 0.3407, 0.3744, 0.4115,\n",
       "       0.4522, 0.4969, 0.546 , 0.6   ])"
      ]
     },
     "execution_count": 241,
     "metadata": {},
     "output_type": "execute_result"
    }
   ],
   "source": [
    "rats = np.linspace(np.log(0.1), np.log(0.6), 20)\n",
    "rats = np.exp(rats)\n",
    "rats = np.round(np.repeat(rats, 1),4)\n",
    "rats"
   ]
  },
  {
   "cell_type": "code",
   "execution_count": 242,
   "metadata": {},
   "outputs": [
    {
     "data": {
      "text/plain": [
       "20"
      ]
     },
     "execution_count": 242,
     "metadata": {},
     "output_type": "execute_result"
    }
   ],
   "source": [
    "len(rats)"
   ]
  },
  {
   "cell_type": "code",
   "execution_count": 243,
   "metadata": {},
   "outputs": [
    {
     "data": {
      "text/html": [
       "<div>\n",
       "<style scoped>\n",
       "    .dataframe tbody tr th:only-of-type {\n",
       "        vertical-align: middle;\n",
       "    }\n",
       "\n",
       "    .dataframe tbody tr th {\n",
       "        vertical-align: top;\n",
       "    }\n",
       "\n",
       "    .dataframe thead th {\n",
       "        text-align: right;\n",
       "    }\n",
       "</style>\n",
       "<table border=\"1\" class=\"dataframe\">\n",
       "  <thead>\n",
       "    <tr style=\"text-align: right;\">\n",
       "      <th></th>\n",
       "      <th>#name_of_spectrum_to_fit</th>\n",
       "      <th>rv</th>\n",
       "      <th>teff</th>\n",
       "      <th>logg</th>\n",
       "      <th>[Fe/H]</th>\n",
       "      <th>Input_vmicroturb</th>\n",
       "      <th>A(H)</th>\n",
       "      <th>A(He)</th>\n",
       "      <th>A(C)</th>\n",
       "      <th>A(N)</th>\n",
       "      <th>A(O)</th>\n",
       "      <th>A(Fe)</th>\n",
       "      <th>A(Mg)</th>\n",
       "      <th>oisorat</th>\n",
       "    </tr>\n",
       "  </thead>\n",
       "  <tbody>\n",
       "    <tr>\n",
       "      <th>0</th>\n",
       "      <td>B42_clean.txt</td>\n",
       "      <td>0.0</td>\n",
       "      <td>5500.0</td>\n",
       "      <td>1.0</td>\n",
       "      <td>0.0</td>\n",
       "      <td>6.0</td>\n",
       "      <td>7.5</td>\n",
       "      <td>11.5</td>\n",
       "      <td>9.869</td>\n",
       "      <td>9.247</td>\n",
       "      <td>8.8</td>\n",
       "      <td>7.3</td>\n",
       "      <td>7.75</td>\n",
       "      <td>0.100</td>\n",
       "    </tr>\n",
       "    <tr>\n",
       "      <th>1</th>\n",
       "      <td>B42_clean.txt</td>\n",
       "      <td>0.0</td>\n",
       "      <td>5500.0</td>\n",
       "      <td>1.0</td>\n",
       "      <td>0.0</td>\n",
       "      <td>6.0</td>\n",
       "      <td>7.5</td>\n",
       "      <td>11.5</td>\n",
       "      <td>9.869</td>\n",
       "      <td>9.247</td>\n",
       "      <td>8.8</td>\n",
       "      <td>7.3</td>\n",
       "      <td>7.75</td>\n",
       "      <td>0.110</td>\n",
       "    </tr>\n",
       "    <tr>\n",
       "      <th>2</th>\n",
       "      <td>B42_clean.txt</td>\n",
       "      <td>0.0</td>\n",
       "      <td>5500.0</td>\n",
       "      <td>1.0</td>\n",
       "      <td>0.0</td>\n",
       "      <td>6.0</td>\n",
       "      <td>7.5</td>\n",
       "      <td>11.5</td>\n",
       "      <td>9.869</td>\n",
       "      <td>9.247</td>\n",
       "      <td>8.8</td>\n",
       "      <td>7.3</td>\n",
       "      <td>7.75</td>\n",
       "      <td>0.121</td>\n",
       "    </tr>\n",
       "    <tr>\n",
       "      <th>3</th>\n",
       "      <td>B42_clean.txt</td>\n",
       "      <td>0.0</td>\n",
       "      <td>5500.0</td>\n",
       "      <td>1.0</td>\n",
       "      <td>0.0</td>\n",
       "      <td>6.0</td>\n",
       "      <td>7.5</td>\n",
       "      <td>11.5</td>\n",
       "      <td>9.869</td>\n",
       "      <td>9.247</td>\n",
       "      <td>8.8</td>\n",
       "      <td>7.3</td>\n",
       "      <td>7.75</td>\n",
       "      <td>0.133</td>\n",
       "    </tr>\n",
       "    <tr>\n",
       "      <th>4</th>\n",
       "      <td>B42_clean.txt</td>\n",
       "      <td>0.0</td>\n",
       "      <td>5500.0</td>\n",
       "      <td>1.0</td>\n",
       "      <td>0.0</td>\n",
       "      <td>6.0</td>\n",
       "      <td>7.5</td>\n",
       "      <td>11.5</td>\n",
       "      <td>9.869</td>\n",
       "      <td>9.247</td>\n",
       "      <td>8.8</td>\n",
       "      <td>7.3</td>\n",
       "      <td>7.75</td>\n",
       "      <td>0.146</td>\n",
       "    </tr>\n",
       "    <tr>\n",
       "      <th>5</th>\n",
       "      <td>B42_clean.txt</td>\n",
       "      <td>0.0</td>\n",
       "      <td>5500.0</td>\n",
       "      <td>1.0</td>\n",
       "      <td>0.0</td>\n",
       "      <td>6.0</td>\n",
       "      <td>7.5</td>\n",
       "      <td>11.5</td>\n",
       "      <td>9.869</td>\n",
       "      <td>9.247</td>\n",
       "      <td>8.8</td>\n",
       "      <td>7.3</td>\n",
       "      <td>7.75</td>\n",
       "      <td>0.160</td>\n",
       "    </tr>\n",
       "    <tr>\n",
       "      <th>6</th>\n",
       "      <td>B42_clean.txt</td>\n",
       "      <td>0.0</td>\n",
       "      <td>5500.0</td>\n",
       "      <td>1.0</td>\n",
       "      <td>0.0</td>\n",
       "      <td>6.0</td>\n",
       "      <td>7.5</td>\n",
       "      <td>11.5</td>\n",
       "      <td>9.869</td>\n",
       "      <td>9.247</td>\n",
       "      <td>8.8</td>\n",
       "      <td>7.3</td>\n",
       "      <td>7.75</td>\n",
       "      <td>0.176</td>\n",
       "    </tr>\n",
       "    <tr>\n",
       "      <th>7</th>\n",
       "      <td>B42_clean.txt</td>\n",
       "      <td>0.0</td>\n",
       "      <td>5500.0</td>\n",
       "      <td>1.0</td>\n",
       "      <td>0.0</td>\n",
       "      <td>6.0</td>\n",
       "      <td>7.5</td>\n",
       "      <td>11.5</td>\n",
       "      <td>9.869</td>\n",
       "      <td>9.247</td>\n",
       "      <td>8.8</td>\n",
       "      <td>7.3</td>\n",
       "      <td>7.75</td>\n",
       "      <td>0.194</td>\n",
       "    </tr>\n",
       "    <tr>\n",
       "      <th>8</th>\n",
       "      <td>B42_clean.txt</td>\n",
       "      <td>0.0</td>\n",
       "      <td>5500.0</td>\n",
       "      <td>1.0</td>\n",
       "      <td>0.0</td>\n",
       "      <td>6.0</td>\n",
       "      <td>7.5</td>\n",
       "      <td>11.5</td>\n",
       "      <td>9.869</td>\n",
       "      <td>9.247</td>\n",
       "      <td>8.8</td>\n",
       "      <td>7.3</td>\n",
       "      <td>7.75</td>\n",
       "      <td>0.213</td>\n",
       "    </tr>\n",
       "    <tr>\n",
       "      <th>9</th>\n",
       "      <td>B42_clean.txt</td>\n",
       "      <td>0.0</td>\n",
       "      <td>5500.0</td>\n",
       "      <td>1.0</td>\n",
       "      <td>0.0</td>\n",
       "      <td>6.0</td>\n",
       "      <td>7.5</td>\n",
       "      <td>11.5</td>\n",
       "      <td>9.869</td>\n",
       "      <td>9.247</td>\n",
       "      <td>8.8</td>\n",
       "      <td>7.3</td>\n",
       "      <td>7.75</td>\n",
       "      <td>0.234</td>\n",
       "    </tr>\n",
       "    <tr>\n",
       "      <th>10</th>\n",
       "      <td>B42_clean.txt</td>\n",
       "      <td>0.0</td>\n",
       "      <td>5500.0</td>\n",
       "      <td>1.0</td>\n",
       "      <td>0.0</td>\n",
       "      <td>6.0</td>\n",
       "      <td>7.5</td>\n",
       "      <td>11.5</td>\n",
       "      <td>9.869</td>\n",
       "      <td>9.247</td>\n",
       "      <td>8.8</td>\n",
       "      <td>7.3</td>\n",
       "      <td>7.75</td>\n",
       "      <td>0.257</td>\n",
       "    </tr>\n",
       "    <tr>\n",
       "      <th>11</th>\n",
       "      <td>B42_clean.txt</td>\n",
       "      <td>0.0</td>\n",
       "      <td>5500.0</td>\n",
       "      <td>1.0</td>\n",
       "      <td>0.0</td>\n",
       "      <td>6.0</td>\n",
       "      <td>7.5</td>\n",
       "      <td>11.5</td>\n",
       "      <td>9.869</td>\n",
       "      <td>9.247</td>\n",
       "      <td>8.8</td>\n",
       "      <td>7.3</td>\n",
       "      <td>7.75</td>\n",
       "      <td>0.282</td>\n",
       "    </tr>\n",
       "    <tr>\n",
       "      <th>12</th>\n",
       "      <td>B42_clean.txt</td>\n",
       "      <td>0.0</td>\n",
       "      <td>5500.0</td>\n",
       "      <td>1.0</td>\n",
       "      <td>0.0</td>\n",
       "      <td>6.0</td>\n",
       "      <td>7.5</td>\n",
       "      <td>11.5</td>\n",
       "      <td>9.869</td>\n",
       "      <td>9.247</td>\n",
       "      <td>8.8</td>\n",
       "      <td>7.3</td>\n",
       "      <td>7.75</td>\n",
       "      <td>0.310</td>\n",
       "    </tr>\n",
       "    <tr>\n",
       "      <th>13</th>\n",
       "      <td>B42_clean.txt</td>\n",
       "      <td>0.0</td>\n",
       "      <td>5500.0</td>\n",
       "      <td>1.0</td>\n",
       "      <td>0.0</td>\n",
       "      <td>6.0</td>\n",
       "      <td>7.5</td>\n",
       "      <td>11.5</td>\n",
       "      <td>9.869</td>\n",
       "      <td>9.247</td>\n",
       "      <td>8.8</td>\n",
       "      <td>7.3</td>\n",
       "      <td>7.75</td>\n",
       "      <td>0.341</td>\n",
       "    </tr>\n",
       "    <tr>\n",
       "      <th>14</th>\n",
       "      <td>B42_clean.txt</td>\n",
       "      <td>0.0</td>\n",
       "      <td>5500.0</td>\n",
       "      <td>1.0</td>\n",
       "      <td>0.0</td>\n",
       "      <td>6.0</td>\n",
       "      <td>7.5</td>\n",
       "      <td>11.5</td>\n",
       "      <td>9.869</td>\n",
       "      <td>9.247</td>\n",
       "      <td>8.8</td>\n",
       "      <td>7.3</td>\n",
       "      <td>7.75</td>\n",
       "      <td>0.374</td>\n",
       "    </tr>\n",
       "    <tr>\n",
       "      <th>15</th>\n",
       "      <td>B42_clean.txt</td>\n",
       "      <td>0.0</td>\n",
       "      <td>5500.0</td>\n",
       "      <td>1.0</td>\n",
       "      <td>0.0</td>\n",
       "      <td>6.0</td>\n",
       "      <td>7.5</td>\n",
       "      <td>11.5</td>\n",
       "      <td>9.869</td>\n",
       "      <td>9.247</td>\n",
       "      <td>8.8</td>\n",
       "      <td>7.3</td>\n",
       "      <td>7.75</td>\n",
       "      <td>0.412</td>\n",
       "    </tr>\n",
       "    <tr>\n",
       "      <th>16</th>\n",
       "      <td>B42_clean.txt</td>\n",
       "      <td>0.0</td>\n",
       "      <td>5500.0</td>\n",
       "      <td>1.0</td>\n",
       "      <td>0.0</td>\n",
       "      <td>6.0</td>\n",
       "      <td>7.5</td>\n",
       "      <td>11.5</td>\n",
       "      <td>9.869</td>\n",
       "      <td>9.247</td>\n",
       "      <td>8.8</td>\n",
       "      <td>7.3</td>\n",
       "      <td>7.75</td>\n",
       "      <td>0.452</td>\n",
       "    </tr>\n",
       "    <tr>\n",
       "      <th>17</th>\n",
       "      <td>B42_clean.txt</td>\n",
       "      <td>0.0</td>\n",
       "      <td>5500.0</td>\n",
       "      <td>1.0</td>\n",
       "      <td>0.0</td>\n",
       "      <td>6.0</td>\n",
       "      <td>7.5</td>\n",
       "      <td>11.5</td>\n",
       "      <td>9.869</td>\n",
       "      <td>9.247</td>\n",
       "      <td>8.8</td>\n",
       "      <td>7.3</td>\n",
       "      <td>7.75</td>\n",
       "      <td>0.497</td>\n",
       "    </tr>\n",
       "    <tr>\n",
       "      <th>18</th>\n",
       "      <td>B42_clean.txt</td>\n",
       "      <td>0.0</td>\n",
       "      <td>5500.0</td>\n",
       "      <td>1.0</td>\n",
       "      <td>0.0</td>\n",
       "      <td>6.0</td>\n",
       "      <td>7.5</td>\n",
       "      <td>11.5</td>\n",
       "      <td>9.869</td>\n",
       "      <td>9.247</td>\n",
       "      <td>8.8</td>\n",
       "      <td>7.3</td>\n",
       "      <td>7.75</td>\n",
       "      <td>0.546</td>\n",
       "    </tr>\n",
       "    <tr>\n",
       "      <th>19</th>\n",
       "      <td>B42_clean.txt</td>\n",
       "      <td>0.0</td>\n",
       "      <td>5500.0</td>\n",
       "      <td>1.0</td>\n",
       "      <td>0.0</td>\n",
       "      <td>6.0</td>\n",
       "      <td>7.5</td>\n",
       "      <td>11.5</td>\n",
       "      <td>9.869</td>\n",
       "      <td>9.247</td>\n",
       "      <td>8.8</td>\n",
       "      <td>7.3</td>\n",
       "      <td>7.75</td>\n",
       "      <td>0.600</td>\n",
       "    </tr>\n",
       "  </tbody>\n",
       "</table>\n",
       "</div>"
      ],
      "text/plain": [
       "   #name_of_spectrum_to_fit   rv    teff  logg  [Fe/H]  Input_vmicroturb  \\\n",
       "0             B42_clean.txt  0.0  5500.0   1.0     0.0               6.0   \n",
       "1             B42_clean.txt  0.0  5500.0   1.0     0.0               6.0   \n",
       "2             B42_clean.txt  0.0  5500.0   1.0     0.0               6.0   \n",
       "3             B42_clean.txt  0.0  5500.0   1.0     0.0               6.0   \n",
       "4             B42_clean.txt  0.0  5500.0   1.0     0.0               6.0   \n",
       "5             B42_clean.txt  0.0  5500.0   1.0     0.0               6.0   \n",
       "6             B42_clean.txt  0.0  5500.0   1.0     0.0               6.0   \n",
       "7             B42_clean.txt  0.0  5500.0   1.0     0.0               6.0   \n",
       "8             B42_clean.txt  0.0  5500.0   1.0     0.0               6.0   \n",
       "9             B42_clean.txt  0.0  5500.0   1.0     0.0               6.0   \n",
       "10            B42_clean.txt  0.0  5500.0   1.0     0.0               6.0   \n",
       "11            B42_clean.txt  0.0  5500.0   1.0     0.0               6.0   \n",
       "12            B42_clean.txt  0.0  5500.0   1.0     0.0               6.0   \n",
       "13            B42_clean.txt  0.0  5500.0   1.0     0.0               6.0   \n",
       "14            B42_clean.txt  0.0  5500.0   1.0     0.0               6.0   \n",
       "15            B42_clean.txt  0.0  5500.0   1.0     0.0               6.0   \n",
       "16            B42_clean.txt  0.0  5500.0   1.0     0.0               6.0   \n",
       "17            B42_clean.txt  0.0  5500.0   1.0     0.0               6.0   \n",
       "18            B42_clean.txt  0.0  5500.0   1.0     0.0               6.0   \n",
       "19            B42_clean.txt  0.0  5500.0   1.0     0.0               6.0   \n",
       "\n",
       "    A(H)  A(He)   A(C)   A(N)  A(O)  A(Fe)  A(Mg)  oisorat  \n",
       "0    7.5   11.5  9.869  9.247   8.8    7.3   7.75    0.100  \n",
       "1    7.5   11.5  9.869  9.247   8.8    7.3   7.75    0.110  \n",
       "2    7.5   11.5  9.869  9.247   8.8    7.3   7.75    0.121  \n",
       "3    7.5   11.5  9.869  9.247   8.8    7.3   7.75    0.133  \n",
       "4    7.5   11.5  9.869  9.247   8.8    7.3   7.75    0.146  \n",
       "5    7.5   11.5  9.869  9.247   8.8    7.3   7.75    0.160  \n",
       "6    7.5   11.5  9.869  9.247   8.8    7.3   7.75    0.176  \n",
       "7    7.5   11.5  9.869  9.247   8.8    7.3   7.75    0.194  \n",
       "8    7.5   11.5  9.869  9.247   8.8    7.3   7.75    0.213  \n",
       "9    7.5   11.5  9.869  9.247   8.8    7.3   7.75    0.234  \n",
       "10   7.5   11.5  9.869  9.247   8.8    7.3   7.75    0.257  \n",
       "11   7.5   11.5  9.869  9.247   8.8    7.3   7.75    0.282  \n",
       "12   7.5   11.5  9.869  9.247   8.8    7.3   7.75    0.310  \n",
       "13   7.5   11.5  9.869  9.247   8.8    7.3   7.75    0.341  \n",
       "14   7.5   11.5  9.869  9.247   8.8    7.3   7.75    0.374  \n",
       "15   7.5   11.5  9.869  9.247   8.8    7.3   7.75    0.412  \n",
       "16   7.5   11.5  9.869  9.247   8.8    7.3   7.75    0.452  \n",
       "17   7.5   11.5  9.869  9.247   8.8    7.3   7.75    0.497  \n",
       "18   7.5   11.5  9.869  9.247   8.8    7.3   7.75    0.546  \n",
       "19   7.5   11.5  9.869  9.247   8.8    7.3   7.75    0.600  "
      ]
     },
     "execution_count": 243,
     "metadata": {},
     "output_type": "execute_result"
    }
   ],
   "source": [
    "# Extract the last row\n",
    "last_row = fitlist.iloc[-1]\n",
    "\n",
    "# Create a new DataFrame by repeating the last row n times\n",
    "new_rows = pd.DataFrame([last_row] * (len(rats) - len(fitlist)), columns=fitlist.columns)\n",
    "\n",
    "# Append the new rows to the original DataFrame\n",
    "fitlist2 = pd.concat([fitlist, new_rows], ignore_index=True)\n",
    "\n",
    "fitlist2['oisorat'] = np.round(rats,3)\n",
    "fitlist2"
   ]
  },
  {
   "cell_type": "code",
   "execution_count": 244,
   "metadata": {},
   "outputs": [],
   "source": [
    "fitlist2.to_csv('/media/advait/DATA/research/rcb-project/TSFitPy/input_files/b42/fitlist_comb', sep=' ', index=False)"
   ]
  },
  {
   "cell_type": "code",
   "execution_count": 245,
   "metadata": {},
   "outputs": [],
   "source": [
    "allpath = '/media/advait/DATA/research/rcb-project/TSFitPy/output_files/b42/Nov-11-2024-10-45-36_0.05114344716666275_LTE_O_1D/output'\n",
    "# allpath = \"/media/advait/DATA/research/rcb-project/TSFitPy/output_files/hd137613/Oct-17-2024-23-13-22_0.35833114159931434_LTE_O_1D/output\"\n",
    "df1 = pd.read_csv(allpath, sep='\\t')\n",
    "# allpath = '/media/advait/DATA/research/rcb-project/TSFitPy/output_files/asas-rcb-21-2/Oct-16-2024-10-19-06_0.7760709184924286_LTE_O_1D/output'\n",
    "# df2 = pd.read_csv(allpath, sep='\\t')\n"
   ]
  },
  {
   "cell_type": "code",
   "execution_count": 246,
   "metadata": {},
   "outputs": [],
   "source": [
    "# df_fine = pd.concat([df1,df2])\n",
    "df_fine = df1\n",
    "df_fine.sort_values(by='oisorat', inplace=True)\n",
    "rats = np.unique(df_fine['oisorat'])"
   ]
  },
  {
   "cell_type": "code",
   "execution_count": 247,
   "metadata": {},
   "outputs": [
    {
     "data": {
      "text/plain": [
       "np.float64(2.0)"
      ]
     },
     "execution_count": 247,
     "metadata": {},
     "output_type": "execute_result"
    }
   ],
   "source": [
    "np.max(df_fine['Doppler_Shift_add_to_RV'])"
   ]
  },
  {
   "cell_type": "code",
   "execution_count": 248,
   "metadata": {},
   "outputs": [
    {
     "name": "stderr",
     "output_type": "stream",
     "text": [
      "/tmp/ipykernel_1148371/245589135.py:7: SettingWithCopyWarning: \n",
      "A value is trying to be set on a copy of a slice from a DataFrame\n",
      "\n",
      "See the caveats in the documentation: https://pandas.pydata.org/pandas-docs/stable/user_guide/indexing.html#returning-a-view-versus-a-copy\n",
      "  subdf.sort_values(by='red_chi_squared', inplace=True)\n"
     ]
    }
   ],
   "source": [
    "rats = np.unique(df_fine['oisorat'])\n",
    "chis, dchis, oabunds, doabunds = [], [], [], []\n",
    "rvs = []\n",
    "for rat in rats:\n",
    "    subdf = df_fine[df_fine['oisorat'] == rat]\n",
    "    # sort by chi squared and take the first 2\n",
    "    subdf.sort_values(by='red_chi_squared', inplace=True)\n",
    "    # subdf = subdf.iloc[:2]\n",
    "    meanchi = np.mean(subdf['red_chi_squared'])\n",
    "    stdchi = np.std(subdf['red_chi_squared'])\n",
    "    meanoabund = np.mean(subdf['O_Fe'])\n",
    "    stdoabund = np.std(subdf['O_Fe'])\n",
    "    rv = np.mean(subdf['Doppler_Shift_add_to_RV'])\n",
    "    rvs.append(rv)\n",
    "    chis.append(meanchi)\n",
    "    dchis.append(stdchi)\n",
    "    oabunds.append(meanoabund)\n",
    "    doabunds.append(stdoabund)"
   ]
  },
  {
   "cell_type": "code",
   "execution_count": 249,
   "metadata": {},
   "outputs": [
    {
     "data": {
      "text/html": [
       "<div>\n",
       "<style scoped>\n",
       "    .dataframe tbody tr th:only-of-type {\n",
       "        vertical-align: middle;\n",
       "    }\n",
       "\n",
       "    .dataframe tbody tr th {\n",
       "        vertical-align: top;\n",
       "    }\n",
       "\n",
       "    .dataframe thead th {\n",
       "        text-align: right;\n",
       "    }\n",
       "</style>\n",
       "<table border=\"1\" class=\"dataframe\">\n",
       "  <thead>\n",
       "    <tr style=\"text-align: right;\">\n",
       "      <th></th>\n",
       "      <th>specname</th>\n",
       "      <th>O_Fe</th>\n",
       "      <th>Doppler_Shift_add_to_RV</th>\n",
       "      <th>chi_squared</th>\n",
       "      <th>vmac</th>\n",
       "      <th>red_chi_squared</th>\n",
       "      <th>oisorat</th>\n",
       "    </tr>\n",
       "  </thead>\n",
       "  <tbody>\n",
       "    <tr>\n",
       "      <th>19</th>\n",
       "      <td>B42_clean.txt</td>\n",
       "      <td>0.1106</td>\n",
       "      <td>1.714347</td>\n",
       "      <td>14.931166</td>\n",
       "      <td>0.0</td>\n",
       "      <td>3.492731</td>\n",
       "      <td>0.6</td>\n",
       "    </tr>\n",
       "  </tbody>\n",
       "</table>\n",
       "</div>"
      ],
      "text/plain": [
       "         specname    O_Fe  Doppler_Shift_add_to_RV  chi_squared  vmac  \\\n",
       "19  B42_clean.txt  0.1106                 1.714347    14.931166   0.0   \n",
       "\n",
       "    red_chi_squared  oisorat  \n",
       "19         3.492731      0.6  "
      ]
     },
     "execution_count": 249,
     "metadata": {},
     "output_type": "execute_result"
    }
   ],
   "source": [
    "subdf"
   ]
  },
  {
   "cell_type": "code",
   "execution_count": 252,
   "metadata": {},
   "outputs": [
    {
     "name": "stdout",
     "output_type": "stream",
     "text": [
      "0.28 -0.14 -0.14\n"
     ]
    },
    {
     "data": {
      "text/plain": [
       "Text(0.5, 0, '16O/18O ratio')"
      ]
     },
     "execution_count": 252,
     "metadata": {},
     "output_type": "execute_result"
    },
    {
     "data": {
      "image/png": "[encoded data removed]",
      "text/plain": [
       "<Figure size 800x600 with 1 Axes>"
      ]
     },
     "metadata": {},
     "output_type": "display_data"
    }
   ],
   "source": [
    "plt.plot(rats, chis, 'ko-')\n",
    "plt.errorbar(rats, chis, yerr=dchis, fmt='ko', capsize=3)\n",
    "# plt.axhline(np.min(chis), ls='--', color='r')\n",
    "# plt.axhline(np.min(chis)+1.0, ls='--', color='r')\n",
    "# plt.axvline(3.4)\n",
    "plt.grid(which='both')\n",
    "\n",
    "# fit a 3rd degree polynomial weighted by the errors\n",
    "p = np.polyfit(rats, chis, 5)\n",
    "x = np.linspace(0,0.55,150)\n",
    "y = np.polyval(p, x)\n",
    "plt.plot(x, y, 'r')\n",
    "plt.axvline(x[np.where(y == np.min(y))], color='r')\n",
    "xfit = x[np.where(y == np.min(y))]\n",
    "plt.axhline(np.min(y), color='r')\n",
    "# find nearest x value to min + 1 y value\n",
    "ybound = np.min(y) + 1.0\n",
    "diff = np.abs(y-ybound)\n",
    "idx = np.where(diff == np.min(diff))\n",
    "# find the index of next minimum\n",
    "idx2 = np.where(diff == np.partition(diff, 1)[1])\n",
    "xbounds = (x[idx]-xfit).round(2), (x[idx2]-xfit).round(2)\n",
    "plt.axvline(x[idx], color='r')\n",
    "plt.axvline(x[idx2], color='r')\n",
    "plt.axhline(ybound, color='r')\n",
    "print(xfit[0].round(2), xbounds[0][0], xbounds[1][0])\n",
    "plt.ylabel(r'$\\chi^2$')\n",
    "plt.xlabel(\"16O/18O ratio\")\n",
    "# find x values nearest to ybounds\n"
   ]
  },
  {
   "cell_type": "code",
   "execution_count": 253,
   "metadata": {},
   "outputs": [
    {
     "name": "stdout",
     "output_type": "stream",
     "text": [
      "0.29 -0.15 0.29\n"
     ]
    },
    {
     "data": {
      "image/png": "[encoded data removed]",
      "text/plain": [
       "<Figure size 800x600 with 1 Axes>"
      ]
     },
     "metadata": {},
     "output_type": "display_data"
    }
   ],
   "source": [
    "import numpy as np\n",
    "import matplotlib.pyplot as plt\n",
    "\n",
    "# Sample data (replace with actual data)\n",
    "# rats = np.array([20, 30, 40, 50, 60, 70, 80, 90, 100, 110, 120, 130, 140, 150, 160, 170, 180])\n",
    "# chis = np.array([10, 9, 8, 7, 6, 5, 4, 3, 2, 1, 2, 3, 4, 5, 6, 7, 8])\n",
    "# dchis = np.array([1, 1, 1, 1, 1, 1, 1, 1, 1, 1, 1, 1, 1, 1, 1, 1, 1])\n",
    "\n",
    "# Plot the original data\n",
    "plt.plot(rats, chis, 'ko-')\n",
    "plt.errorbar(rats, chis, yerr=dchis, fmt='ko', capsize=3)\n",
    "plt.grid(which='both')\n",
    "\n",
    "# Take the logarithm of rats\n",
    "log_rats = np.log(rats)\n",
    "\n",
    "# Fit a 2nd degree polynomial weighted by the errors\n",
    "p = np.polyfit(log_rats, chis, 4)# ,w=1/np.array(dchis)**2)\n",
    "\n",
    "# Evaluate the polynomial fit on a logarithmic scale\n",
    "x = np.linspace(np.log(0.05), np.log(0.6), 4000)\n",
    "y = np.polyval(p, x)\n",
    "\n",
    "# Convert x back to the original scale for plotting\n",
    "x_original = np.exp(x)\n",
    "\n",
    "# Plot the polynomial fit\n",
    "plt.plot(x_original, y, 'r')\n",
    "plt.axvline(x_original[np.where(y == np.min(y))], color='r')\n",
    "xfit = x_original[np.where(y == np.min(y))]\n",
    "plt.axhline(np.min(y), color='r')\n",
    "\n",
    "# Find nearest x value to min + 1 y value\n",
    "ybound = np.min(y) + 1.0\n",
    "diff = np.abs(y - ybound)\n",
    "idx = np.where(diff == np.min(diff))\n",
    "# Find the index of next minimum\n",
    "idx2 = np.where(diff == np.partition(diff, 1)[1])\n",
    "xbounds = (x_original[idx] - xfit).round(2), (x_original[idx2] - xfit).round(2)\n",
    "plt.axvline(x_original[idx], color='r')\n",
    "plt.axvline(x_original[idx2], color='r')\n",
    "plt.axhline(ybound, color='r')\n",
    "\n",
    "print(xfit[0].round(2), xbounds[0][0], xbounds[1][0])\n",
    "\n",
    "# Label the axes\n",
    "plt.ylabel(r'$\\chi^2$')\n",
    "plt.xlabel(\"16O/18O ratio\")\n",
    "plt.xscale('log')\n",
    "# xs = np.linspace(np.log(300), np.log(800), 10)\n",
    "# plt.plot(np.exp(xs), np.polyval(p, (xs)), 'k.')\n",
    "plt.show()"
   ]
  },
  {
   "cell_type": "code",
   "execution_count": 235,
   "metadata": {},
   "outputs": [
    {
     "data": {
      "text/plain": [
       "<matplotlib.lines.Line2D at 0x74ddd1327ce0>"
      ]
     },
     "execution_count": 235,
     "metadata": {},
     "output_type": "execute_result"
    },
    {
     "data": {
      "image/png": "[encoded data removed]",
      "text/plain": [
       "<Figure size 800x600 with 1 Axes>"
      ]
     },
     "metadata": {},
     "output_type": "display_data"
    }
   ],
   "source": [
    "plt.plot(rats, oabunds, 'ko-')\n",
    "plt.errorbar(rats, oabunds, yerr=doabunds, fmt='ko', capsize=3)\n",
    "plt.grid(which='both')\n",
    "plt.axvline(xfit, color='r')"
   ]
  },
  {
   "cell_type": "code",
   "execution_count": 236,
   "metadata": {},
   "outputs": [
    {
     "data": {
      "text/plain": [
       "[<matplotlib.lines.Line2D at 0x74ddcbe7cc20>]"
      ]
     },
     "execution_count": 236,
     "metadata": {},
     "output_type": "execute_result"
    },
    {
     "data": {
      "image/png": "[encoded data removed]",
      "text/plain": [
       "<Figure size 800x600 with 1 Axes>"
      ]
     },
     "metadata": {},
     "output_type": "display_data"
    }
   ],
   "source": [
    "plt.plot(rats, rvs, 'ko-')"
   ]
  },
  {
   "cell_type": "code",
   "execution_count": 255,
   "metadata": {},
   "outputs": [
    {
     "name": "stdout",
     "output_type": "stream",
     "text": [
      "0.777 -0.145 0.098\n"
     ]
    },
    {
     "data": {
      "image/png": "[encoded data removed]",
      "text/plain": [
       "<Figure size 800x600 with 1 Axes>"
      ]
     },
     "metadata": {},
     "output_type": "display_data"
    }
   ],
   "source": [
    "o18rats = 1/(1+rats)\n",
    "plt.plot(o18rats, chis, 'ko-')\n",
    "p = np.polyfit(o18rats, chis, 4)\n",
    "\n",
    "# Evaluate the polynomial fit on a logarithmic scale\n",
    "x = np.linspace(0.5, 0.95, 500)\n",
    "y = np.polyval(p, x)\n",
    "\n",
    "# Convert x back to the original scale for plotting\n",
    "# x_original = np.exp(x)\n",
    "\n",
    "# Plot the polynomial fit\n",
    "plt.plot(x, y, 'r')\n",
    "plt.axvline(x[np.where(y == np.min(y))], color='r')\n",
    "xfit = x[np.where(y == np.min(y))]\n",
    "plt.axhline(np.min(y), color='r')\n",
    "\n",
    "# Find nearest x value to min + 1 y value\n",
    "ybound = np.min(y) + 1.0\n",
    "diff = np.abs(y - ybound)\n",
    "idx = np.where(diff == np.min(diff))\n",
    "# Find the index of next minimum\n",
    "idx2 = np.where(diff == np.partition(diff, 1)[1])\n",
    "xbounds = (x[idx] - xfit).round(3), (x[idx2] - xfit).round(3)\n",
    "plt.axvline(x[idx], color='r')\n",
    "plt.axvline(x[idx2], color='r')\n",
    "plt.axhline(ybound, color='r')\n",
    "\n",
    "print(xfit[0].round(3), xbounds[0][0], xbounds[1][0])\n",
    "\n",
    "# Label the axes\n",
    "plt.ylabel(r'$\\chi^2$')\n",
    "plt.xlabel(\"16O/18O ratio\")\n",
    "# plt.xscale('log')\n",
    "# xs = np.linspace(np.log(300), np.log(800), 10)\n",
    "# plt.plot(np.exp(xs), np.polyval(p, (xs)), 'k.')\n",
    "plt.show()"
   ]
  },
  {
   "cell_type": "code",
   "execution_count": 89,
   "metadata": {},
   "outputs": [
    {
     "name": "stderr",
     "output_type": "stream",
     "text": [
      "/media/advait/DATA/research/rcb-project/TSFitPy/plotting_tools/scripts_for_plotting.py:109: FutureWarning: errors='ignore' is deprecated and will raise in a future version. Use to_numeric without passing `errors` and catch exceptions explicitly instead\n",
      "  output_file_df = output_file_df.apply(pd.to_numeric, errors='ignore')\n"
     ]
    }
   ],
   "source": [
    "# outpath = \"/media/advait/DATA/research/rcb-project/TSFitPy/output_files/wise222/Oct-13-2024-22-42-15_0.9770073685963133_LTE_O_1D\"\n",
    "outpath = \"/media/advait/DATA/research/rcb-project/TSFitPy/output_files/b42/Nov-13-2024-23-50-13_0.6166183549795808_LTE_O_1D\"\n",
    "config_dict = load_output_data(outpath)\n",
    "output_results_pd_df = config_dict[\"output_file_df\"]\n",
    "output_trimmed = (output_results_pd_df[output_results_pd_df[\"chi_squared\"] < 20])\n",
    "output_trimmed = output_trimmed[output_trimmed['O_Fe'] + solar_abundances['O'] > 8.6]"
   ]
  },
  {
   "cell_type": "code",
   "execution_count": 90,
   "metadata": {},
   "outputs": [
    {
     "data": {
      "text/plain": [
       "<matplotlib.colorbar.Colorbar at 0x7ff80dd840b0>"
      ]
     },
     "execution_count": 90,
     "metadata": {},
     "output_type": "execute_result"
    },
    {
     "data": {
      "image/png": "[encoded data removed]",
      "text/plain": [
       "<Figure size 800x600 with 2 Axes>"
      ]
     },
     "metadata": {},
     "output_type": "display_data"
    }
   ],
   "source": [
    "plt.scatter(output_trimmed['wave_center'], output_trimmed['O_Fe']+solar_abundances['O'], c = output_trimmed['chi_squared'], cmap = 'inferno')\n",
    "plt.colorbar()"
   ]
  },
  {
   "cell_type": "code",
   "execution_count": 91,
   "metadata": {},
   "outputs": [
    {
     "data": {
      "text/plain": [
       "(np.float64(8.837), np.float64(0.121))"
      ]
     },
     "execution_count": 91,
     "metadata": {},
     "output_type": "execute_result"
    }
   ],
   "source": [
    "(solar_abundances['O']+np.mean(output_trimmed['O_Fe'])).round(3), np.std(output_trimmed['O_Fe']).round(3)"
   ]
  },
  {
   "cell_type": "code",
   "execution_count": 233,
   "metadata": {},
   "outputs": [
    {
     "data": {
      "text/plain": [
       "np.float64(0.11065925925925925)"
      ]
     },
     "execution_count": 233,
     "metadata": {},
     "output_type": "execute_result"
    }
   ],
   "source": [
    "np.mean(output_trimmed['O_Fe'])"
   ]
  },
  {
   "cell_type": "code",
   "execution_count": null,
   "metadata": {},
   "outputs": [],
   "source": []
  }
 ],
 "metadata": {
  "kernelspec": {
   "display_name": "astro",
   "language": "python",
   "name": "python3"
  },
  "language_info": {
   "codemirror_mode": {
    "name": "ipython",
    "version": 3
   },
   "file_extension": ".py",
   "mimetype": "text/x-python",
   "name": "python",
   "nbconvert_exporter": "python",
   "pygments_lexer": "ipython3",
   "version": "3.12.5"
  }
 },
 "nbformat": 4,
 "nbformat_minor": 2
}
